{
 "cells": [
  {
   "cell_type": "markdown",
   "id": "48139f0d",
   "metadata": {
    "papermill": {
     "duration": 0.010271,
     "end_time": "2023-03-09T09:12:31.007900",
     "exception": false,
     "start_time": "2023-03-09T09:12:30.997629",
     "status": "completed"
    },
    "tags": []
   },
   "source": [
    "### 1. Import the libraries"
   ]
  },
  {
   "cell_type": "code",
   "execution_count": 1,
   "id": "0519f94c",
   "metadata": {
    "execution": {
     "iopub.execute_input": "2023-03-09T09:12:31.029324Z",
     "iopub.status.busy": "2023-03-09T09:12:31.028894Z",
     "iopub.status.idle": "2023-03-09T09:12:32.671242Z",
     "shell.execute_reply": "2023-03-09T09:12:32.669681Z"
    },
    "papermill": {
     "duration": 1.656267,
     "end_time": "2023-03-09T09:12:32.673923",
     "exception": false,
     "start_time": "2023-03-09T09:12:31.017656",
     "status": "completed"
    },
    "tags": []
   },
   "outputs": [],
   "source": [
    "import pandas as pd\n",
    "import numpy as np\n",
    "import matplotlib.pyplot as plt\n",
    "import seaborn as sns\n",
    "from sklearn import preprocessing\n",
    "from sklearn.model_selection import train_test_split"
   ]
  },
  {
   "cell_type": "markdown",
   "id": "a6662f61",
   "metadata": {
    "papermill": {
     "duration": 0.009353,
     "end_time": "2023-03-09T09:12:32.693236",
     "exception": false,
     "start_time": "2023-03-09T09:12:32.683883",
     "status": "completed"
    },
    "tags": []
   },
   "source": [
    "### 2.Check the train data"
   ]
  },
  {
   "cell_type": "code",
   "execution_count": 2,
   "id": "6252fa1a",
   "metadata": {
    "execution": {
     "iopub.execute_input": "2023-03-09T09:12:32.715904Z",
     "iopub.status.busy": "2023-03-09T09:12:32.715219Z",
     "iopub.status.idle": "2023-03-09T09:12:32.764199Z",
     "shell.execute_reply": "2023-03-09T09:12:32.763105Z"
    },
    "papermill": {
     "duration": 0.063838,
     "end_time": "2023-03-09T09:12:32.766727",
     "exception": false,
     "start_time": "2023-03-09T09:12:32.702889",
     "status": "completed"
    },
    "tags": []
   },
   "outputs": [
    {
     "data": {
      "text/html": [
       "<div>\n",
       "<style scoped>\n",
       "    .dataframe tbody tr th:only-of-type {\n",
       "        vertical-align: middle;\n",
       "    }\n",
       "\n",
       "    .dataframe tbody tr th {\n",
       "        vertical-align: top;\n",
       "    }\n",
       "\n",
       "    .dataframe thead th {\n",
       "        text-align: right;\n",
       "    }\n",
       "</style>\n",
       "<table border=\"1\" class=\"dataframe\">\n",
       "  <thead>\n",
       "    <tr style=\"text-align: right;\">\n",
       "      <th></th>\n",
       "      <th>PassengerId</th>\n",
       "      <th>Survived</th>\n",
       "      <th>Pclass</th>\n",
       "      <th>Name</th>\n",
       "      <th>Sex</th>\n",
       "      <th>Age</th>\n",
       "      <th>SibSp</th>\n",
       "      <th>Parch</th>\n",
       "      <th>Ticket</th>\n",
       "      <th>Fare</th>\n",
       "      <th>Cabin</th>\n",
       "      <th>Embarked</th>\n",
       "    </tr>\n",
       "  </thead>\n",
       "  <tbody>\n",
       "    <tr>\n",
       "      <th>0</th>\n",
       "      <td>1</td>\n",
       "      <td>0</td>\n",
       "      <td>3</td>\n",
       "      <td>Braund, Mr. Owen Harris</td>\n",
       "      <td>male</td>\n",
       "      <td>22.0</td>\n",
       "      <td>1</td>\n",
       "      <td>0</td>\n",
       "      <td>A/5 21171</td>\n",
       "      <td>7.2500</td>\n",
       "      <td>NaN</td>\n",
       "      <td>S</td>\n",
       "    </tr>\n",
       "    <tr>\n",
       "      <th>1</th>\n",
       "      <td>2</td>\n",
       "      <td>1</td>\n",
       "      <td>1</td>\n",
       "      <td>Cumings, Mrs. John Bradley (Florence Briggs Th...</td>\n",
       "      <td>female</td>\n",
       "      <td>38.0</td>\n",
       "      <td>1</td>\n",
       "      <td>0</td>\n",
       "      <td>PC 17599</td>\n",
       "      <td>71.2833</td>\n",
       "      <td>C85</td>\n",
       "      <td>C</td>\n",
       "    </tr>\n",
       "    <tr>\n",
       "      <th>2</th>\n",
       "      <td>3</td>\n",
       "      <td>1</td>\n",
       "      <td>3</td>\n",
       "      <td>Heikkinen, Miss. Laina</td>\n",
       "      <td>female</td>\n",
       "      <td>26.0</td>\n",
       "      <td>0</td>\n",
       "      <td>0</td>\n",
       "      <td>STON/O2. 3101282</td>\n",
       "      <td>7.9250</td>\n",
       "      <td>NaN</td>\n",
       "      <td>S</td>\n",
       "    </tr>\n",
       "    <tr>\n",
       "      <th>3</th>\n",
       "      <td>4</td>\n",
       "      <td>1</td>\n",
       "      <td>1</td>\n",
       "      <td>Futrelle, Mrs. Jacques Heath (Lily May Peel)</td>\n",
       "      <td>female</td>\n",
       "      <td>35.0</td>\n",
       "      <td>1</td>\n",
       "      <td>0</td>\n",
       "      <td>113803</td>\n",
       "      <td>53.1000</td>\n",
       "      <td>C123</td>\n",
       "      <td>S</td>\n",
       "    </tr>\n",
       "    <tr>\n",
       "      <th>4</th>\n",
       "      <td>5</td>\n",
       "      <td>0</td>\n",
       "      <td>3</td>\n",
       "      <td>Allen, Mr. William Henry</td>\n",
       "      <td>male</td>\n",
       "      <td>35.0</td>\n",
       "      <td>0</td>\n",
       "      <td>0</td>\n",
       "      <td>373450</td>\n",
       "      <td>8.0500</td>\n",
       "      <td>NaN</td>\n",
       "      <td>S</td>\n",
       "    </tr>\n",
       "  </tbody>\n",
       "</table>\n",
       "</div>"
      ],
      "text/plain": [
       "   PassengerId  Survived  Pclass  \\\n",
       "0            1         0       3   \n",
       "1            2         1       1   \n",
       "2            3         1       3   \n",
       "3            4         1       1   \n",
       "4            5         0       3   \n",
       "\n",
       "                                                Name     Sex   Age  SibSp  \\\n",
       "0                            Braund, Mr. Owen Harris    male  22.0      1   \n",
       "1  Cumings, Mrs. John Bradley (Florence Briggs Th...  female  38.0      1   \n",
       "2                             Heikkinen, Miss. Laina  female  26.0      0   \n",
       "3       Futrelle, Mrs. Jacques Heath (Lily May Peel)  female  35.0      1   \n",
       "4                           Allen, Mr. William Henry    male  35.0      0   \n",
       "\n",
       "   Parch            Ticket     Fare Cabin Embarked  \n",
       "0      0         A/5 21171   7.2500   NaN        S  \n",
       "1      0          PC 17599  71.2833   C85        C  \n",
       "2      0  STON/O2. 3101282   7.9250   NaN        S  \n",
       "3      0            113803  53.1000  C123        S  \n",
       "4      0            373450   8.0500   NaN        S  "
      ]
     },
     "execution_count": 2,
     "metadata": {},
     "output_type": "execute_result"
    }
   ],
   "source": [
    "dataset_train=pd.read_csv(\"../input/titanic/train.csv\")\n",
    "dataset_train.head()"
   ]
  },
  {
   "cell_type": "code",
   "execution_count": 3,
   "id": "b4e53130",
   "metadata": {
    "execution": {
     "iopub.execute_input": "2023-03-09T09:12:32.790152Z",
     "iopub.status.busy": "2023-03-09T09:12:32.789490Z",
     "iopub.status.idle": "2023-03-09T09:12:32.799497Z",
     "shell.execute_reply": "2023-03-09T09:12:32.797674Z"
    },
    "papermill": {
     "duration": 0.024858,
     "end_time": "2023-03-09T09:12:32.801761",
     "exception": false,
     "start_time": "2023-03-09T09:12:32.776903",
     "status": "completed"
    },
    "tags": []
   },
   "outputs": [
    {
     "data": {
      "text/plain": [
       "PassengerId      0\n",
       "Survived         0\n",
       "Pclass           0\n",
       "Name             0\n",
       "Sex              0\n",
       "Age            177\n",
       "SibSp            0\n",
       "Parch            0\n",
       "Ticket           0\n",
       "Fare             0\n",
       "Cabin          687\n",
       "Embarked         2\n",
       "dtype: int64"
      ]
     },
     "execution_count": 3,
     "metadata": {},
     "output_type": "execute_result"
    }
   ],
   "source": [
    "dataset_train.isnull().sum()"
   ]
  },
  {
   "cell_type": "code",
   "execution_count": 4,
   "id": "84246f50",
   "metadata": {
    "execution": {
     "iopub.execute_input": "2023-03-09T09:12:32.825802Z",
     "iopub.status.busy": "2023-03-09T09:12:32.824349Z",
     "iopub.status.idle": "2023-03-09T09:12:32.832897Z",
     "shell.execute_reply": "2023-03-09T09:12:32.831055Z"
    },
    "papermill": {
     "duration": 0.023283,
     "end_time": "2023-03-09T09:12:32.835523",
     "exception": false,
     "start_time": "2023-03-09T09:12:32.812240",
     "status": "completed"
    },
    "tags": []
   },
   "outputs": [
    {
     "data": {
      "text/plain": [
       "(891, 12)"
      ]
     },
     "execution_count": 4,
     "metadata": {},
     "output_type": "execute_result"
    }
   ],
   "source": [
    "dataset_train.shape"
   ]
  },
  {
   "cell_type": "markdown",
   "id": "a8764b43",
   "metadata": {
    "papermill": {
     "duration": 0.010153,
     "end_time": "2023-03-09T09:12:32.855838",
     "exception": false,
     "start_time": "2023-03-09T09:12:32.845685",
     "status": "completed"
    },
    "tags": []
   },
   "source": [
    "### 3.Data Pre-processing"
   ]
  },
  {
   "cell_type": "code",
   "execution_count": 5,
   "id": "e59ad792",
   "metadata": {
    "execution": {
     "iopub.execute_input": "2023-03-09T09:12:32.878974Z",
     "iopub.status.busy": "2023-03-09T09:12:32.878531Z",
     "iopub.status.idle": "2023-03-09T09:12:32.890899Z",
     "shell.execute_reply": "2023-03-09T09:12:32.888893Z"
    },
    "papermill": {
     "duration": 0.027081,
     "end_time": "2023-03-09T09:12:32.893660",
     "exception": false,
     "start_time": "2023-03-09T09:12:32.866579",
     "status": "completed"
    },
    "tags": []
   },
   "outputs": [],
   "source": [
    "df_train=dataset_train.fillna(method=\"ffill\")#fill the null values"
   ]
  },
  {
   "cell_type": "code",
   "execution_count": 6,
   "id": "5f8d1154",
   "metadata": {
    "execution": {
     "iopub.execute_input": "2023-03-09T09:12:32.916466Z",
     "iopub.status.busy": "2023-03-09T09:12:32.915968Z",
     "iopub.status.idle": "2023-03-09T09:12:32.929016Z",
     "shell.execute_reply": "2023-03-09T09:12:32.927675Z"
    },
    "papermill": {
     "duration": 0.027676,
     "end_time": "2023-03-09T09:12:32.931603",
     "exception": false,
     "start_time": "2023-03-09T09:12:32.903927",
     "status": "completed"
    },
    "tags": []
   },
   "outputs": [
    {
     "data": {
      "text/plain": [
       "PassengerId    0\n",
       "Survived       0\n",
       "Pclass         0\n",
       "Name           0\n",
       "Sex            0\n",
       "Age            0\n",
       "SibSp          0\n",
       "Parch          0\n",
       "Ticket         0\n",
       "Fare           0\n",
       "Cabin          1\n",
       "Embarked       0\n",
       "dtype: int64"
      ]
     },
     "execution_count": 6,
     "metadata": {},
     "output_type": "execute_result"
    }
   ],
   "source": [
    "df_train.isnull().sum()"
   ]
  },
  {
   "cell_type": "code",
   "execution_count": 7,
   "id": "889c8ea0",
   "metadata": {
    "execution": {
     "iopub.execute_input": "2023-03-09T09:12:32.954010Z",
     "iopub.status.busy": "2023-03-09T09:12:32.953600Z",
     "iopub.status.idle": "2023-03-09T09:12:32.999382Z",
     "shell.execute_reply": "2023-03-09T09:12:32.997871Z"
    },
    "papermill": {
     "duration": 0.060328,
     "end_time": "2023-03-09T09:12:33.002225",
     "exception": false,
     "start_time": "2023-03-09T09:12:32.941897",
     "status": "completed"
    },
    "tags": []
   },
   "outputs": [
    {
     "data": {
      "text/html": [
       "<div>\n",
       "<style scoped>\n",
       "    .dataframe tbody tr th:only-of-type {\n",
       "        vertical-align: middle;\n",
       "    }\n",
       "\n",
       "    .dataframe tbody tr th {\n",
       "        vertical-align: top;\n",
       "    }\n",
       "\n",
       "    .dataframe thead th {\n",
       "        text-align: right;\n",
       "    }\n",
       "</style>\n",
       "<table border=\"1\" class=\"dataframe\">\n",
       "  <thead>\n",
       "    <tr style=\"text-align: right;\">\n",
       "      <th></th>\n",
       "      <th>PassengerId</th>\n",
       "      <th>Survived</th>\n",
       "      <th>Pclass</th>\n",
       "      <th>Age</th>\n",
       "      <th>SibSp</th>\n",
       "      <th>Parch</th>\n",
       "      <th>Fare</th>\n",
       "    </tr>\n",
       "  </thead>\n",
       "  <tbody>\n",
       "    <tr>\n",
       "      <th>count</th>\n",
       "      <td>891.000000</td>\n",
       "      <td>891.000000</td>\n",
       "      <td>891.000000</td>\n",
       "      <td>891.00000</td>\n",
       "      <td>891.000000</td>\n",
       "      <td>891.000000</td>\n",
       "      <td>891.000000</td>\n",
       "    </tr>\n",
       "    <tr>\n",
       "      <th>mean</th>\n",
       "      <td>446.000000</td>\n",
       "      <td>0.383838</td>\n",
       "      <td>2.308642</td>\n",
       "      <td>29.58156</td>\n",
       "      <td>0.523008</td>\n",
       "      <td>0.381594</td>\n",
       "      <td>32.204208</td>\n",
       "    </tr>\n",
       "    <tr>\n",
       "      <th>std</th>\n",
       "      <td>257.353842</td>\n",
       "      <td>0.486592</td>\n",
       "      <td>0.836071</td>\n",
       "      <td>14.55459</td>\n",
       "      <td>1.102743</td>\n",
       "      <td>0.806057</td>\n",
       "      <td>49.693429</td>\n",
       "    </tr>\n",
       "    <tr>\n",
       "      <th>min</th>\n",
       "      <td>1.000000</td>\n",
       "      <td>0.000000</td>\n",
       "      <td>1.000000</td>\n",
       "      <td>0.42000</td>\n",
       "      <td>0.000000</td>\n",
       "      <td>0.000000</td>\n",
       "      <td>0.000000</td>\n",
       "    </tr>\n",
       "    <tr>\n",
       "      <th>25%</th>\n",
       "      <td>223.500000</td>\n",
       "      <td>0.000000</td>\n",
       "      <td>2.000000</td>\n",
       "      <td>20.00000</td>\n",
       "      <td>0.000000</td>\n",
       "      <td>0.000000</td>\n",
       "      <td>7.910400</td>\n",
       "    </tr>\n",
       "    <tr>\n",
       "      <th>50%</th>\n",
       "      <td>446.000000</td>\n",
       "      <td>0.000000</td>\n",
       "      <td>3.000000</td>\n",
       "      <td>28.00000</td>\n",
       "      <td>0.000000</td>\n",
       "      <td>0.000000</td>\n",
       "      <td>14.454200</td>\n",
       "    </tr>\n",
       "    <tr>\n",
       "      <th>75%</th>\n",
       "      <td>668.500000</td>\n",
       "      <td>1.000000</td>\n",
       "      <td>3.000000</td>\n",
       "      <td>38.00000</td>\n",
       "      <td>1.000000</td>\n",
       "      <td>0.000000</td>\n",
       "      <td>31.000000</td>\n",
       "    </tr>\n",
       "    <tr>\n",
       "      <th>max</th>\n",
       "      <td>891.000000</td>\n",
       "      <td>1.000000</td>\n",
       "      <td>3.000000</td>\n",
       "      <td>80.00000</td>\n",
       "      <td>8.000000</td>\n",
       "      <td>6.000000</td>\n",
       "      <td>512.329200</td>\n",
       "    </tr>\n",
       "  </tbody>\n",
       "</table>\n",
       "</div>"
      ],
      "text/plain": [
       "       PassengerId    Survived      Pclass        Age       SibSp       Parch  \\\n",
       "count   891.000000  891.000000  891.000000  891.00000  891.000000  891.000000   \n",
       "mean    446.000000    0.383838    2.308642   29.58156    0.523008    0.381594   \n",
       "std     257.353842    0.486592    0.836071   14.55459    1.102743    0.806057   \n",
       "min       1.000000    0.000000    1.000000    0.42000    0.000000    0.000000   \n",
       "25%     223.500000    0.000000    2.000000   20.00000    0.000000    0.000000   \n",
       "50%     446.000000    0.000000    3.000000   28.00000    0.000000    0.000000   \n",
       "75%     668.500000    1.000000    3.000000   38.00000    1.000000    0.000000   \n",
       "max     891.000000    1.000000    3.000000   80.00000    8.000000    6.000000   \n",
       "\n",
       "             Fare  \n",
       "count  891.000000  \n",
       "mean    32.204208  \n",
       "std     49.693429  \n",
       "min      0.000000  \n",
       "25%      7.910400  \n",
       "50%     14.454200  \n",
       "75%     31.000000  \n",
       "max    512.329200  "
      ]
     },
     "execution_count": 7,
     "metadata": {},
     "output_type": "execute_result"
    }
   ],
   "source": [
    "df_train.describe()"
   ]
  },
  {
   "cell_type": "code",
   "execution_count": 8,
   "id": "0f026f76",
   "metadata": {
    "execution": {
     "iopub.execute_input": "2023-03-09T09:12:33.025758Z",
     "iopub.status.busy": "2023-03-09T09:12:33.025349Z",
     "iopub.status.idle": "2023-03-09T09:12:33.044291Z",
     "shell.execute_reply": "2023-03-09T09:12:33.042829Z"
    },
    "papermill": {
     "duration": 0.034365,
     "end_time": "2023-03-09T09:12:33.047532",
     "exception": false,
     "start_time": "2023-03-09T09:12:33.013167",
     "status": "completed"
    },
    "tags": []
   },
   "outputs": [
    {
     "name": "stdout",
     "output_type": "stream",
     "text": [
      "<class 'pandas.core.frame.DataFrame'>\n",
      "RangeIndex: 891 entries, 0 to 890\n",
      "Data columns (total 12 columns):\n",
      " #   Column       Non-Null Count  Dtype  \n",
      "---  ------       --------------  -----  \n",
      " 0   PassengerId  891 non-null    int64  \n",
      " 1   Survived     891 non-null    int64  \n",
      " 2   Pclass       891 non-null    int64  \n",
      " 3   Name         891 non-null    object \n",
      " 4   Sex          891 non-null    object \n",
      " 5   Age          891 non-null    float64\n",
      " 6   SibSp        891 non-null    int64  \n",
      " 7   Parch        891 non-null    int64  \n",
      " 8   Ticket       891 non-null    object \n",
      " 9   Fare         891 non-null    float64\n",
      " 10  Cabin        890 non-null    object \n",
      " 11  Embarked     891 non-null    object \n",
      "dtypes: float64(2), int64(5), object(5)\n",
      "memory usage: 83.7+ KB\n"
     ]
    }
   ],
   "source": [
    "df_train.info()"
   ]
  },
  {
   "cell_type": "code",
   "execution_count": 9,
   "id": "7faac3a4",
   "metadata": {
    "execution": {
     "iopub.execute_input": "2023-03-09T09:12:33.073958Z",
     "iopub.status.busy": "2023-03-09T09:12:33.073506Z",
     "iopub.status.idle": "2023-03-09T09:12:33.083032Z",
     "shell.execute_reply": "2023-03-09T09:12:33.081635Z"
    },
    "papermill": {
     "duration": 0.02804,
     "end_time": "2023-03-09T09:12:33.086850",
     "exception": false,
     "start_time": "2023-03-09T09:12:33.058810",
     "status": "completed"
    },
    "tags": []
   },
   "outputs": [],
   "source": [
    "#label Encoding\n",
    "label_encoder=preprocessing.LabelEncoder()\n",
    "df_train['gender_type']=label_encoder.fit_transform(df_train[\"Sex\"])\n",
    "df_train['embark_type']=label_encoder.fit_transform(df_train[\"Embarked\"])\n"
   ]
  },
  {
   "cell_type": "code",
   "execution_count": 10,
   "id": "962d25da",
   "metadata": {
    "execution": {
     "iopub.execute_input": "2023-03-09T09:12:33.114232Z",
     "iopub.status.busy": "2023-03-09T09:12:33.113796Z",
     "iopub.status.idle": "2023-03-09T09:12:33.121888Z",
     "shell.execute_reply": "2023-03-09T09:12:33.120426Z"
    },
    "papermill": {
     "duration": 0.025799,
     "end_time": "2023-03-09T09:12:33.124803",
     "exception": false,
     "start_time": "2023-03-09T09:12:33.099004",
     "status": "completed"
    },
    "tags": []
   },
   "outputs": [],
   "source": [
    "#delete the unrequired columns\n",
    "del df_train['Sex']\n",
    "del df_train['Embarked']\n",
    "del df_train['Cabin']\n",
    "del df_train['Ticket']\n",
    "del df_train['Name']\n"
   ]
  },
  {
   "cell_type": "code",
   "execution_count": 11,
   "id": "8dc23723",
   "metadata": {
    "execution": {
     "iopub.execute_input": "2023-03-09T09:12:33.150687Z",
     "iopub.status.busy": "2023-03-09T09:12:33.150272Z",
     "iopub.status.idle": "2023-03-09T09:12:33.164895Z",
     "shell.execute_reply": "2023-03-09T09:12:33.163141Z"
    },
    "papermill": {
     "duration": 0.029651,
     "end_time": "2023-03-09T09:12:33.167376",
     "exception": false,
     "start_time": "2023-03-09T09:12:33.137725",
     "status": "completed"
    },
    "tags": []
   },
   "outputs": [
    {
     "data": {
      "text/html": [
       "<div>\n",
       "<style scoped>\n",
       "    .dataframe tbody tr th:only-of-type {\n",
       "        vertical-align: middle;\n",
       "    }\n",
       "\n",
       "    .dataframe tbody tr th {\n",
       "        vertical-align: top;\n",
       "    }\n",
       "\n",
       "    .dataframe thead th {\n",
       "        text-align: right;\n",
       "    }\n",
       "</style>\n",
       "<table border=\"1\" class=\"dataframe\">\n",
       "  <thead>\n",
       "    <tr style=\"text-align: right;\">\n",
       "      <th></th>\n",
       "      <th>PassengerId</th>\n",
       "      <th>Survived</th>\n",
       "      <th>Pclass</th>\n",
       "      <th>Age</th>\n",
       "      <th>SibSp</th>\n",
       "      <th>Parch</th>\n",
       "      <th>Fare</th>\n",
       "      <th>gender_type</th>\n",
       "      <th>embark_type</th>\n",
       "    </tr>\n",
       "  </thead>\n",
       "  <tbody>\n",
       "    <tr>\n",
       "      <th>0</th>\n",
       "      <td>1</td>\n",
       "      <td>0</td>\n",
       "      <td>3</td>\n",
       "      <td>22.0</td>\n",
       "      <td>1</td>\n",
       "      <td>0</td>\n",
       "      <td>7.2500</td>\n",
       "      <td>1</td>\n",
       "      <td>2</td>\n",
       "    </tr>\n",
       "    <tr>\n",
       "      <th>1</th>\n",
       "      <td>2</td>\n",
       "      <td>1</td>\n",
       "      <td>1</td>\n",
       "      <td>38.0</td>\n",
       "      <td>1</td>\n",
       "      <td>0</td>\n",
       "      <td>71.2833</td>\n",
       "      <td>0</td>\n",
       "      <td>0</td>\n",
       "    </tr>\n",
       "    <tr>\n",
       "      <th>2</th>\n",
       "      <td>3</td>\n",
       "      <td>1</td>\n",
       "      <td>3</td>\n",
       "      <td>26.0</td>\n",
       "      <td>0</td>\n",
       "      <td>0</td>\n",
       "      <td>7.9250</td>\n",
       "      <td>0</td>\n",
       "      <td>2</td>\n",
       "    </tr>\n",
       "    <tr>\n",
       "      <th>3</th>\n",
       "      <td>4</td>\n",
       "      <td>1</td>\n",
       "      <td>1</td>\n",
       "      <td>35.0</td>\n",
       "      <td>1</td>\n",
       "      <td>0</td>\n",
       "      <td>53.1000</td>\n",
       "      <td>0</td>\n",
       "      <td>2</td>\n",
       "    </tr>\n",
       "    <tr>\n",
       "      <th>4</th>\n",
       "      <td>5</td>\n",
       "      <td>0</td>\n",
       "      <td>3</td>\n",
       "      <td>35.0</td>\n",
       "      <td>0</td>\n",
       "      <td>0</td>\n",
       "      <td>8.0500</td>\n",
       "      <td>1</td>\n",
       "      <td>2</td>\n",
       "    </tr>\n",
       "  </tbody>\n",
       "</table>\n",
       "</div>"
      ],
      "text/plain": [
       "   PassengerId  Survived  Pclass   Age  SibSp  Parch     Fare  gender_type  \\\n",
       "0            1         0       3  22.0      1      0   7.2500            1   \n",
       "1            2         1       1  38.0      1      0  71.2833            0   \n",
       "2            3         1       3  26.0      0      0   7.9250            0   \n",
       "3            4         1       1  35.0      1      0  53.1000            0   \n",
       "4            5         0       3  35.0      0      0   8.0500            1   \n",
       "\n",
       "   embark_type  \n",
       "0            2  \n",
       "1            0  \n",
       "2            2  \n",
       "3            2  \n",
       "4            2  "
      ]
     },
     "execution_count": 11,
     "metadata": {},
     "output_type": "execute_result"
    }
   ],
   "source": [
    "df_train.head()"
   ]
  },
  {
   "cell_type": "code",
   "execution_count": 12,
   "id": "28a34e42",
   "metadata": {
    "execution": {
     "iopub.execute_input": "2023-03-09T09:12:33.191654Z",
     "iopub.status.busy": "2023-03-09T09:12:33.191242Z",
     "iopub.status.idle": "2023-03-09T09:12:33.203032Z",
     "shell.execute_reply": "2023-03-09T09:12:33.201521Z"
    },
    "papermill": {
     "duration": 0.027323,
     "end_time": "2023-03-09T09:12:33.205466",
     "exception": false,
     "start_time": "2023-03-09T09:12:33.178143",
     "status": "completed"
    },
    "tags": []
   },
   "outputs": [
    {
     "name": "stdout",
     "output_type": "stream",
     "text": [
      "<class 'pandas.core.frame.DataFrame'>\n",
      "RangeIndex: 891 entries, 0 to 890\n",
      "Data columns (total 9 columns):\n",
      " #   Column       Non-Null Count  Dtype  \n",
      "---  ------       --------------  -----  \n",
      " 0   PassengerId  891 non-null    int64  \n",
      " 1   Survived     891 non-null    int64  \n",
      " 2   Pclass       891 non-null    int64  \n",
      " 3   Age          891 non-null    float64\n",
      " 4   SibSp        891 non-null    int64  \n",
      " 5   Parch        891 non-null    int64  \n",
      " 6   Fare         891 non-null    float64\n",
      " 7   gender_type  891 non-null    int64  \n",
      " 8   embark_type  891 non-null    int64  \n",
      "dtypes: float64(2), int64(7)\n",
      "memory usage: 62.8 KB\n"
     ]
    }
   ],
   "source": [
    "df_train.info()"
   ]
  },
  {
   "cell_type": "code",
   "execution_count": 13,
   "id": "d14e0b8b",
   "metadata": {
    "execution": {
     "iopub.execute_input": "2023-03-09T09:12:33.231820Z",
     "iopub.status.busy": "2023-03-09T09:12:33.230618Z",
     "iopub.status.idle": "2023-03-09T09:12:33.238734Z",
     "shell.execute_reply": "2023-03-09T09:12:33.237009Z"
    },
    "papermill": {
     "duration": 0.024128,
     "end_time": "2023-03-09T09:12:33.241243",
     "exception": false,
     "start_time": "2023-03-09T09:12:33.217115",
     "status": "completed"
    },
    "tags": []
   },
   "outputs": [
    {
     "data": {
      "text/plain": [
       "Index(['PassengerId', 'Survived', 'Pclass', 'Age', 'SibSp', 'Parch', 'Fare',\n",
       "       'gender_type', 'embark_type'],\n",
       "      dtype='object')"
      ]
     },
     "execution_count": 13,
     "metadata": {},
     "output_type": "execute_result"
    }
   ],
   "source": [
    "df_train.columns"
   ]
  },
  {
   "cell_type": "code",
   "execution_count": 14,
   "id": "c2e3b5ac",
   "metadata": {
    "execution": {
     "iopub.execute_input": "2023-03-09T09:12:33.265525Z",
     "iopub.status.busy": "2023-03-09T09:12:33.264704Z",
     "iopub.status.idle": "2023-03-09T09:12:33.272431Z",
     "shell.execute_reply": "2023-03-09T09:12:33.271432Z"
    },
    "papermill": {
     "duration": 0.021969,
     "end_time": "2023-03-09T09:12:33.274336",
     "exception": false,
     "start_time": "2023-03-09T09:12:33.252367",
     "status": "completed"
    },
    "tags": []
   },
   "outputs": [],
   "source": [
    "#split the data into x and y\n",
    "x=df_train[['PassengerId','Pclass', 'Age', 'SibSp', 'Parch', 'Fare','gender_type', 'embark_type']]\n",
    "y=df_train[['Survived']]"
   ]
  },
  {
   "cell_type": "code",
   "execution_count": 15,
   "id": "4e134bb3",
   "metadata": {
    "execution": {
     "iopub.execute_input": "2023-03-09T09:12:33.298248Z",
     "iopub.status.busy": "2023-03-09T09:12:33.297824Z",
     "iopub.status.idle": "2023-03-09T09:12:33.315533Z",
     "shell.execute_reply": "2023-03-09T09:12:33.314486Z"
    },
    "papermill": {
     "duration": 0.032567,
     "end_time": "2023-03-09T09:12:33.317881",
     "exception": false,
     "start_time": "2023-03-09T09:12:33.285314",
     "status": "completed"
    },
    "tags": []
   },
   "outputs": [
    {
     "data": {
      "text/html": [
       "<div>\n",
       "<style scoped>\n",
       "    .dataframe tbody tr th:only-of-type {\n",
       "        vertical-align: middle;\n",
       "    }\n",
       "\n",
       "    .dataframe tbody tr th {\n",
       "        vertical-align: top;\n",
       "    }\n",
       "\n",
       "    .dataframe thead th {\n",
       "        text-align: right;\n",
       "    }\n",
       "</style>\n",
       "<table border=\"1\" class=\"dataframe\">\n",
       "  <thead>\n",
       "    <tr style=\"text-align: right;\">\n",
       "      <th></th>\n",
       "      <th>PassengerId</th>\n",
       "      <th>Pclass</th>\n",
       "      <th>Age</th>\n",
       "      <th>SibSp</th>\n",
       "      <th>Parch</th>\n",
       "      <th>Fare</th>\n",
       "      <th>gender_type</th>\n",
       "      <th>embark_type</th>\n",
       "    </tr>\n",
       "  </thead>\n",
       "  <tbody>\n",
       "    <tr>\n",
       "      <th>0</th>\n",
       "      <td>1</td>\n",
       "      <td>3</td>\n",
       "      <td>22.0</td>\n",
       "      <td>1</td>\n",
       "      <td>0</td>\n",
       "      <td>7.2500</td>\n",
       "      <td>1</td>\n",
       "      <td>2</td>\n",
       "    </tr>\n",
       "    <tr>\n",
       "      <th>1</th>\n",
       "      <td>2</td>\n",
       "      <td>1</td>\n",
       "      <td>38.0</td>\n",
       "      <td>1</td>\n",
       "      <td>0</td>\n",
       "      <td>71.2833</td>\n",
       "      <td>0</td>\n",
       "      <td>0</td>\n",
       "    </tr>\n",
       "    <tr>\n",
       "      <th>2</th>\n",
       "      <td>3</td>\n",
       "      <td>3</td>\n",
       "      <td>26.0</td>\n",
       "      <td>0</td>\n",
       "      <td>0</td>\n",
       "      <td>7.9250</td>\n",
       "      <td>0</td>\n",
       "      <td>2</td>\n",
       "    </tr>\n",
       "    <tr>\n",
       "      <th>3</th>\n",
       "      <td>4</td>\n",
       "      <td>1</td>\n",
       "      <td>35.0</td>\n",
       "      <td>1</td>\n",
       "      <td>0</td>\n",
       "      <td>53.1000</td>\n",
       "      <td>0</td>\n",
       "      <td>2</td>\n",
       "    </tr>\n",
       "    <tr>\n",
       "      <th>4</th>\n",
       "      <td>5</td>\n",
       "      <td>3</td>\n",
       "      <td>35.0</td>\n",
       "      <td>0</td>\n",
       "      <td>0</td>\n",
       "      <td>8.0500</td>\n",
       "      <td>1</td>\n",
       "      <td>2</td>\n",
       "    </tr>\n",
       "    <tr>\n",
       "      <th>...</th>\n",
       "      <td>...</td>\n",
       "      <td>...</td>\n",
       "      <td>...</td>\n",
       "      <td>...</td>\n",
       "      <td>...</td>\n",
       "      <td>...</td>\n",
       "      <td>...</td>\n",
       "      <td>...</td>\n",
       "    </tr>\n",
       "    <tr>\n",
       "      <th>886</th>\n",
       "      <td>887</td>\n",
       "      <td>2</td>\n",
       "      <td>27.0</td>\n",
       "      <td>0</td>\n",
       "      <td>0</td>\n",
       "      <td>13.0000</td>\n",
       "      <td>1</td>\n",
       "      <td>2</td>\n",
       "    </tr>\n",
       "    <tr>\n",
       "      <th>887</th>\n",
       "      <td>888</td>\n",
       "      <td>1</td>\n",
       "      <td>19.0</td>\n",
       "      <td>0</td>\n",
       "      <td>0</td>\n",
       "      <td>30.0000</td>\n",
       "      <td>0</td>\n",
       "      <td>2</td>\n",
       "    </tr>\n",
       "    <tr>\n",
       "      <th>888</th>\n",
       "      <td>889</td>\n",
       "      <td>3</td>\n",
       "      <td>19.0</td>\n",
       "      <td>1</td>\n",
       "      <td>2</td>\n",
       "      <td>23.4500</td>\n",
       "      <td>0</td>\n",
       "      <td>2</td>\n",
       "    </tr>\n",
       "    <tr>\n",
       "      <th>889</th>\n",
       "      <td>890</td>\n",
       "      <td>1</td>\n",
       "      <td>26.0</td>\n",
       "      <td>0</td>\n",
       "      <td>0</td>\n",
       "      <td>30.0000</td>\n",
       "      <td>1</td>\n",
       "      <td>0</td>\n",
       "    </tr>\n",
       "    <tr>\n",
       "      <th>890</th>\n",
       "      <td>891</td>\n",
       "      <td>3</td>\n",
       "      <td>32.0</td>\n",
       "      <td>0</td>\n",
       "      <td>0</td>\n",
       "      <td>7.7500</td>\n",
       "      <td>1</td>\n",
       "      <td>1</td>\n",
       "    </tr>\n",
       "  </tbody>\n",
       "</table>\n",
       "<p>891 rows × 8 columns</p>\n",
       "</div>"
      ],
      "text/plain": [
       "     PassengerId  Pclass   Age  SibSp  Parch     Fare  gender_type  \\\n",
       "0              1       3  22.0      1      0   7.2500            1   \n",
       "1              2       1  38.0      1      0  71.2833            0   \n",
       "2              3       3  26.0      0      0   7.9250            0   \n",
       "3              4       1  35.0      1      0  53.1000            0   \n",
       "4              5       3  35.0      0      0   8.0500            1   \n",
       "..           ...     ...   ...    ...    ...      ...          ...   \n",
       "886          887       2  27.0      0      0  13.0000            1   \n",
       "887          888       1  19.0      0      0  30.0000            0   \n",
       "888          889       3  19.0      1      2  23.4500            0   \n",
       "889          890       1  26.0      0      0  30.0000            1   \n",
       "890          891       3  32.0      0      0   7.7500            1   \n",
       "\n",
       "     embark_type  \n",
       "0              2  \n",
       "1              0  \n",
       "2              2  \n",
       "3              2  \n",
       "4              2  \n",
       "..           ...  \n",
       "886            2  \n",
       "887            2  \n",
       "888            2  \n",
       "889            0  \n",
       "890            1  \n",
       "\n",
       "[891 rows x 8 columns]"
      ]
     },
     "execution_count": 15,
     "metadata": {},
     "output_type": "execute_result"
    }
   ],
   "source": [
    "x"
   ]
  },
  {
   "cell_type": "code",
   "execution_count": 16,
   "id": "5c5322e8",
   "metadata": {
    "execution": {
     "iopub.execute_input": "2023-03-09T09:12:33.342251Z",
     "iopub.status.busy": "2023-03-09T09:12:33.341845Z",
     "iopub.status.idle": "2023-03-09T09:12:33.353354Z",
     "shell.execute_reply": "2023-03-09T09:12:33.351724Z"
    },
    "papermill": {
     "duration": 0.026214,
     "end_time": "2023-03-09T09:12:33.356001",
     "exception": false,
     "start_time": "2023-03-09T09:12:33.329787",
     "status": "completed"
    },
    "tags": []
   },
   "outputs": [
    {
     "data": {
      "text/html": [
       "<div>\n",
       "<style scoped>\n",
       "    .dataframe tbody tr th:only-of-type {\n",
       "        vertical-align: middle;\n",
       "    }\n",
       "\n",
       "    .dataframe tbody tr th {\n",
       "        vertical-align: top;\n",
       "    }\n",
       "\n",
       "    .dataframe thead th {\n",
       "        text-align: right;\n",
       "    }\n",
       "</style>\n",
       "<table border=\"1\" class=\"dataframe\">\n",
       "  <thead>\n",
       "    <tr style=\"text-align: right;\">\n",
       "      <th></th>\n",
       "      <th>Survived</th>\n",
       "    </tr>\n",
       "  </thead>\n",
       "  <tbody>\n",
       "    <tr>\n",
       "      <th>0</th>\n",
       "      <td>0</td>\n",
       "    </tr>\n",
       "    <tr>\n",
       "      <th>1</th>\n",
       "      <td>1</td>\n",
       "    </tr>\n",
       "    <tr>\n",
       "      <th>2</th>\n",
       "      <td>1</td>\n",
       "    </tr>\n",
       "    <tr>\n",
       "      <th>3</th>\n",
       "      <td>1</td>\n",
       "    </tr>\n",
       "    <tr>\n",
       "      <th>4</th>\n",
       "      <td>0</td>\n",
       "    </tr>\n",
       "    <tr>\n",
       "      <th>...</th>\n",
       "      <td>...</td>\n",
       "    </tr>\n",
       "    <tr>\n",
       "      <th>886</th>\n",
       "      <td>0</td>\n",
       "    </tr>\n",
       "    <tr>\n",
       "      <th>887</th>\n",
       "      <td>1</td>\n",
       "    </tr>\n",
       "    <tr>\n",
       "      <th>888</th>\n",
       "      <td>0</td>\n",
       "    </tr>\n",
       "    <tr>\n",
       "      <th>889</th>\n",
       "      <td>1</td>\n",
       "    </tr>\n",
       "    <tr>\n",
       "      <th>890</th>\n",
       "      <td>0</td>\n",
       "    </tr>\n",
       "  </tbody>\n",
       "</table>\n",
       "<p>891 rows × 1 columns</p>\n",
       "</div>"
      ],
      "text/plain": [
       "     Survived\n",
       "0           0\n",
       "1           1\n",
       "2           1\n",
       "3           1\n",
       "4           0\n",
       "..        ...\n",
       "886         0\n",
       "887         1\n",
       "888         0\n",
       "889         1\n",
       "890         0\n",
       "\n",
       "[891 rows x 1 columns]"
      ]
     },
     "execution_count": 16,
     "metadata": {},
     "output_type": "execute_result"
    }
   ],
   "source": [
    "y"
   ]
  },
  {
   "cell_type": "markdown",
   "id": "610ee0bd",
   "metadata": {
    "papermill": {
     "duration": 0.011486,
     "end_time": "2023-03-09T09:12:33.379160",
     "exception": false,
     "start_time": "2023-03-09T09:12:33.367674",
     "status": "completed"
    },
    "tags": []
   },
   "source": [
    "### 4. Check the test data"
   ]
  },
  {
   "cell_type": "code",
   "execution_count": 17,
   "id": "85468b36",
   "metadata": {
    "execution": {
     "iopub.execute_input": "2023-03-09T09:12:33.405800Z",
     "iopub.status.busy": "2023-03-09T09:12:33.405385Z",
     "iopub.status.idle": "2023-03-09T09:12:33.430320Z",
     "shell.execute_reply": "2023-03-09T09:12:33.428293Z"
    },
    "papermill": {
     "duration": 0.041248,
     "end_time": "2023-03-09T09:12:33.433205",
     "exception": false,
     "start_time": "2023-03-09T09:12:33.391957",
     "status": "completed"
    },
    "tags": []
   },
   "outputs": [
    {
     "data": {
      "text/html": [
       "<div>\n",
       "<style scoped>\n",
       "    .dataframe tbody tr th:only-of-type {\n",
       "        vertical-align: middle;\n",
       "    }\n",
       "\n",
       "    .dataframe tbody tr th {\n",
       "        vertical-align: top;\n",
       "    }\n",
       "\n",
       "    .dataframe thead th {\n",
       "        text-align: right;\n",
       "    }\n",
       "</style>\n",
       "<table border=\"1\" class=\"dataframe\">\n",
       "  <thead>\n",
       "    <tr style=\"text-align: right;\">\n",
       "      <th></th>\n",
       "      <th>PassengerId</th>\n",
       "      <th>Pclass</th>\n",
       "      <th>Name</th>\n",
       "      <th>Sex</th>\n",
       "      <th>Age</th>\n",
       "      <th>SibSp</th>\n",
       "      <th>Parch</th>\n",
       "      <th>Ticket</th>\n",
       "      <th>Fare</th>\n",
       "      <th>Cabin</th>\n",
       "      <th>Embarked</th>\n",
       "    </tr>\n",
       "  </thead>\n",
       "  <tbody>\n",
       "    <tr>\n",
       "      <th>0</th>\n",
       "      <td>892</td>\n",
       "      <td>3</td>\n",
       "      <td>Kelly, Mr. James</td>\n",
       "      <td>male</td>\n",
       "      <td>34.5</td>\n",
       "      <td>0</td>\n",
       "      <td>0</td>\n",
       "      <td>330911</td>\n",
       "      <td>7.8292</td>\n",
       "      <td>NaN</td>\n",
       "      <td>Q</td>\n",
       "    </tr>\n",
       "    <tr>\n",
       "      <th>1</th>\n",
       "      <td>893</td>\n",
       "      <td>3</td>\n",
       "      <td>Wilkes, Mrs. James (Ellen Needs)</td>\n",
       "      <td>female</td>\n",
       "      <td>47.0</td>\n",
       "      <td>1</td>\n",
       "      <td>0</td>\n",
       "      <td>363272</td>\n",
       "      <td>7.0000</td>\n",
       "      <td>NaN</td>\n",
       "      <td>S</td>\n",
       "    </tr>\n",
       "    <tr>\n",
       "      <th>2</th>\n",
       "      <td>894</td>\n",
       "      <td>2</td>\n",
       "      <td>Myles, Mr. Thomas Francis</td>\n",
       "      <td>male</td>\n",
       "      <td>62.0</td>\n",
       "      <td>0</td>\n",
       "      <td>0</td>\n",
       "      <td>240276</td>\n",
       "      <td>9.6875</td>\n",
       "      <td>NaN</td>\n",
       "      <td>Q</td>\n",
       "    </tr>\n",
       "    <tr>\n",
       "      <th>3</th>\n",
       "      <td>895</td>\n",
       "      <td>3</td>\n",
       "      <td>Wirz, Mr. Albert</td>\n",
       "      <td>male</td>\n",
       "      <td>27.0</td>\n",
       "      <td>0</td>\n",
       "      <td>0</td>\n",
       "      <td>315154</td>\n",
       "      <td>8.6625</td>\n",
       "      <td>NaN</td>\n",
       "      <td>S</td>\n",
       "    </tr>\n",
       "    <tr>\n",
       "      <th>4</th>\n",
       "      <td>896</td>\n",
       "      <td>3</td>\n",
       "      <td>Hirvonen, Mrs. Alexander (Helga E Lindqvist)</td>\n",
       "      <td>female</td>\n",
       "      <td>22.0</td>\n",
       "      <td>1</td>\n",
       "      <td>1</td>\n",
       "      <td>3101298</td>\n",
       "      <td>12.2875</td>\n",
       "      <td>NaN</td>\n",
       "      <td>S</td>\n",
       "    </tr>\n",
       "  </tbody>\n",
       "</table>\n",
       "</div>"
      ],
      "text/plain": [
       "   PassengerId  Pclass                                          Name     Sex  \\\n",
       "0          892       3                              Kelly, Mr. James    male   \n",
       "1          893       3              Wilkes, Mrs. James (Ellen Needs)  female   \n",
       "2          894       2                     Myles, Mr. Thomas Francis    male   \n",
       "3          895       3                              Wirz, Mr. Albert    male   \n",
       "4          896       3  Hirvonen, Mrs. Alexander (Helga E Lindqvist)  female   \n",
       "\n",
       "    Age  SibSp  Parch   Ticket     Fare Cabin Embarked  \n",
       "0  34.5      0      0   330911   7.8292   NaN        Q  \n",
       "1  47.0      1      0   363272   7.0000   NaN        S  \n",
       "2  62.0      0      0   240276   9.6875   NaN        Q  \n",
       "3  27.0      0      0   315154   8.6625   NaN        S  \n",
       "4  22.0      1      1  3101298  12.2875   NaN        S  "
      ]
     },
     "execution_count": 17,
     "metadata": {},
     "output_type": "execute_result"
    }
   ],
   "source": [
    "dataset_test=pd.read_csv(\"../input/titanic/test.csv\")\n",
    "dataset_test.head()"
   ]
  },
  {
   "cell_type": "code",
   "execution_count": 18,
   "id": "0d3fd385",
   "metadata": {
    "execution": {
     "iopub.execute_input": "2023-03-09T09:12:33.459111Z",
     "iopub.status.busy": "2023-03-09T09:12:33.458161Z",
     "iopub.status.idle": "2023-03-09T09:12:33.475000Z",
     "shell.execute_reply": "2023-03-09T09:12:33.473485Z"
    },
    "papermill": {
     "duration": 0.032634,
     "end_time": "2023-03-09T09:12:33.477723",
     "exception": false,
     "start_time": "2023-03-09T09:12:33.445089",
     "status": "completed"
    },
    "tags": []
   },
   "outputs": [
    {
     "data": {
      "text/html": [
       "<div>\n",
       "<style scoped>\n",
       "    .dataframe tbody tr th:only-of-type {\n",
       "        vertical-align: middle;\n",
       "    }\n",
       "\n",
       "    .dataframe tbody tr th {\n",
       "        vertical-align: top;\n",
       "    }\n",
       "\n",
       "    .dataframe thead th {\n",
       "        text-align: right;\n",
       "    }\n",
       "</style>\n",
       "<table border=\"1\" class=\"dataframe\">\n",
       "  <thead>\n",
       "    <tr style=\"text-align: right;\">\n",
       "      <th></th>\n",
       "      <th>PassengerId</th>\n",
       "      <th>Pclass</th>\n",
       "      <th>Name</th>\n",
       "      <th>Sex</th>\n",
       "      <th>Age</th>\n",
       "      <th>SibSp</th>\n",
       "      <th>Parch</th>\n",
       "      <th>Ticket</th>\n",
       "      <th>Fare</th>\n",
       "      <th>Cabin</th>\n",
       "      <th>Embarked</th>\n",
       "    </tr>\n",
       "  </thead>\n",
       "  <tbody>\n",
       "    <tr>\n",
       "      <th>413</th>\n",
       "      <td>1305</td>\n",
       "      <td>3</td>\n",
       "      <td>Spector, Mr. Woolf</td>\n",
       "      <td>male</td>\n",
       "      <td>NaN</td>\n",
       "      <td>0</td>\n",
       "      <td>0</td>\n",
       "      <td>A.5. 3236</td>\n",
       "      <td>8.0500</td>\n",
       "      <td>NaN</td>\n",
       "      <td>S</td>\n",
       "    </tr>\n",
       "    <tr>\n",
       "      <th>414</th>\n",
       "      <td>1306</td>\n",
       "      <td>1</td>\n",
       "      <td>Oliva y Ocana, Dona. Fermina</td>\n",
       "      <td>female</td>\n",
       "      <td>39.0</td>\n",
       "      <td>0</td>\n",
       "      <td>0</td>\n",
       "      <td>PC 17758</td>\n",
       "      <td>108.9000</td>\n",
       "      <td>C105</td>\n",
       "      <td>C</td>\n",
       "    </tr>\n",
       "    <tr>\n",
       "      <th>415</th>\n",
       "      <td>1307</td>\n",
       "      <td>3</td>\n",
       "      <td>Saether, Mr. Simon Sivertsen</td>\n",
       "      <td>male</td>\n",
       "      <td>38.5</td>\n",
       "      <td>0</td>\n",
       "      <td>0</td>\n",
       "      <td>SOTON/O.Q. 3101262</td>\n",
       "      <td>7.2500</td>\n",
       "      <td>NaN</td>\n",
       "      <td>S</td>\n",
       "    </tr>\n",
       "    <tr>\n",
       "      <th>416</th>\n",
       "      <td>1308</td>\n",
       "      <td>3</td>\n",
       "      <td>Ware, Mr. Frederick</td>\n",
       "      <td>male</td>\n",
       "      <td>NaN</td>\n",
       "      <td>0</td>\n",
       "      <td>0</td>\n",
       "      <td>359309</td>\n",
       "      <td>8.0500</td>\n",
       "      <td>NaN</td>\n",
       "      <td>S</td>\n",
       "    </tr>\n",
       "    <tr>\n",
       "      <th>417</th>\n",
       "      <td>1309</td>\n",
       "      <td>3</td>\n",
       "      <td>Peter, Master. Michael J</td>\n",
       "      <td>male</td>\n",
       "      <td>NaN</td>\n",
       "      <td>1</td>\n",
       "      <td>1</td>\n",
       "      <td>2668</td>\n",
       "      <td>22.3583</td>\n",
       "      <td>NaN</td>\n",
       "      <td>C</td>\n",
       "    </tr>\n",
       "  </tbody>\n",
       "</table>\n",
       "</div>"
      ],
      "text/plain": [
       "     PassengerId  Pclass                          Name     Sex   Age  SibSp  \\\n",
       "413         1305       3            Spector, Mr. Woolf    male   NaN      0   \n",
       "414         1306       1  Oliva y Ocana, Dona. Fermina  female  39.0      0   \n",
       "415         1307       3  Saether, Mr. Simon Sivertsen    male  38.5      0   \n",
       "416         1308       3           Ware, Mr. Frederick    male   NaN      0   \n",
       "417         1309       3      Peter, Master. Michael J    male   NaN      1   \n",
       "\n",
       "     Parch              Ticket      Fare Cabin Embarked  \n",
       "413      0           A.5. 3236    8.0500   NaN        S  \n",
       "414      0            PC 17758  108.9000  C105        C  \n",
       "415      0  SOTON/O.Q. 3101262    7.2500   NaN        S  \n",
       "416      0              359309    8.0500   NaN        S  \n",
       "417      1                2668   22.3583   NaN        C  "
      ]
     },
     "execution_count": 18,
     "metadata": {},
     "output_type": "execute_result"
    }
   ],
   "source": [
    "dataset_test.tail()"
   ]
  },
  {
   "cell_type": "code",
   "execution_count": 19,
   "id": "86ba2ca5",
   "metadata": {
    "execution": {
     "iopub.execute_input": "2023-03-09T09:12:33.506055Z",
     "iopub.status.busy": "2023-03-09T09:12:33.505658Z",
     "iopub.status.idle": "2023-03-09T09:12:33.514908Z",
     "shell.execute_reply": "2023-03-09T09:12:33.513711Z"
    },
    "papermill": {
     "duration": 0.026771,
     "end_time": "2023-03-09T09:12:33.517645",
     "exception": false,
     "start_time": "2023-03-09T09:12:33.490874",
     "status": "completed"
    },
    "tags": []
   },
   "outputs": [
    {
     "data": {
      "text/plain": [
       "PassengerId      0\n",
       "Pclass           0\n",
       "Name             0\n",
       "Sex              0\n",
       "Age             86\n",
       "SibSp            0\n",
       "Parch            0\n",
       "Ticket           0\n",
       "Fare             1\n",
       "Cabin          327\n",
       "Embarked         0\n",
       "dtype: int64"
      ]
     },
     "execution_count": 19,
     "metadata": {},
     "output_type": "execute_result"
    }
   ],
   "source": [
    "dataset_test.isnull().sum()"
   ]
  },
  {
   "cell_type": "code",
   "execution_count": 20,
   "id": "741fcecf",
   "metadata": {
    "execution": {
     "iopub.execute_input": "2023-03-09T09:12:33.544463Z",
     "iopub.status.busy": "2023-03-09T09:12:33.544016Z",
     "iopub.status.idle": "2023-03-09T09:12:33.553829Z",
     "shell.execute_reply": "2023-03-09T09:12:33.552521Z"
    },
    "papermill": {
     "duration": 0.026696,
     "end_time": "2023-03-09T09:12:33.556360",
     "exception": false,
     "start_time": "2023-03-09T09:12:33.529664",
     "status": "completed"
    },
    "tags": []
   },
   "outputs": [],
   "source": [
    "df_test=dataset_test.fillna(method=\"ffill\")"
   ]
  },
  {
   "cell_type": "code",
   "execution_count": 21,
   "id": "767eb470",
   "metadata": {
    "execution": {
     "iopub.execute_input": "2023-03-09T09:12:33.585884Z",
     "iopub.status.busy": "2023-03-09T09:12:33.585436Z",
     "iopub.status.idle": "2023-03-09T09:12:33.593011Z",
     "shell.execute_reply": "2023-03-09T09:12:33.591651Z"
    },
    "papermill": {
     "duration": 0.026075,
     "end_time": "2023-03-09T09:12:33.595999",
     "exception": false,
     "start_time": "2023-03-09T09:12:33.569924",
     "status": "completed"
    },
    "tags": []
   },
   "outputs": [],
   "source": [
    "label_encoder=preprocessing.LabelEncoder()\n",
    "df_test['gender_type']=label_encoder.fit_transform(df_test[\"Sex\"])\n",
    "df_test['embark_type']=label_encoder.fit_transform(df_test[\"Embarked\"])\n"
   ]
  },
  {
   "cell_type": "code",
   "execution_count": 22,
   "id": "83814408",
   "metadata": {
    "execution": {
     "iopub.execute_input": "2023-03-09T09:12:33.623121Z",
     "iopub.status.busy": "2023-03-09T09:12:33.622696Z",
     "iopub.status.idle": "2023-03-09T09:12:33.629957Z",
     "shell.execute_reply": "2023-03-09T09:12:33.628760Z"
    },
    "papermill": {
     "duration": 0.023827,
     "end_time": "2023-03-09T09:12:33.632735",
     "exception": false,
     "start_time": "2023-03-09T09:12:33.608908",
     "status": "completed"
    },
    "tags": []
   },
   "outputs": [],
   "source": [
    "del df_test['Sex']\n",
    "del df_test['Embarked']\n",
    "del df_test['Cabin']\n",
    "del df_test['Ticket']\n",
    "del df_test['Name']\n"
   ]
  },
  {
   "cell_type": "code",
   "execution_count": 23,
   "id": "94916f85",
   "metadata": {
    "execution": {
     "iopub.execute_input": "2023-03-09T09:12:33.661318Z",
     "iopub.status.busy": "2023-03-09T09:12:33.660283Z",
     "iopub.status.idle": "2023-03-09T09:12:33.675142Z",
     "shell.execute_reply": "2023-03-09T09:12:33.673287Z"
    },
    "papermill": {
     "duration": 0.032474,
     "end_time": "2023-03-09T09:12:33.677843",
     "exception": false,
     "start_time": "2023-03-09T09:12:33.645369",
     "status": "completed"
    },
    "tags": []
   },
   "outputs": [
    {
     "data": {
      "text/html": [
       "<div>\n",
       "<style scoped>\n",
       "    .dataframe tbody tr th:only-of-type {\n",
       "        vertical-align: middle;\n",
       "    }\n",
       "\n",
       "    .dataframe tbody tr th {\n",
       "        vertical-align: top;\n",
       "    }\n",
       "\n",
       "    .dataframe thead th {\n",
       "        text-align: right;\n",
       "    }\n",
       "</style>\n",
       "<table border=\"1\" class=\"dataframe\">\n",
       "  <thead>\n",
       "    <tr style=\"text-align: right;\">\n",
       "      <th></th>\n",
       "      <th>PassengerId</th>\n",
       "      <th>Pclass</th>\n",
       "      <th>Age</th>\n",
       "      <th>SibSp</th>\n",
       "      <th>Parch</th>\n",
       "      <th>Fare</th>\n",
       "      <th>gender_type</th>\n",
       "      <th>embark_type</th>\n",
       "    </tr>\n",
       "  </thead>\n",
       "  <tbody>\n",
       "    <tr>\n",
       "      <th>0</th>\n",
       "      <td>892</td>\n",
       "      <td>3</td>\n",
       "      <td>34.5</td>\n",
       "      <td>0</td>\n",
       "      <td>0</td>\n",
       "      <td>7.8292</td>\n",
       "      <td>1</td>\n",
       "      <td>1</td>\n",
       "    </tr>\n",
       "    <tr>\n",
       "      <th>1</th>\n",
       "      <td>893</td>\n",
       "      <td>3</td>\n",
       "      <td>47.0</td>\n",
       "      <td>1</td>\n",
       "      <td>0</td>\n",
       "      <td>7.0000</td>\n",
       "      <td>0</td>\n",
       "      <td>2</td>\n",
       "    </tr>\n",
       "    <tr>\n",
       "      <th>2</th>\n",
       "      <td>894</td>\n",
       "      <td>2</td>\n",
       "      <td>62.0</td>\n",
       "      <td>0</td>\n",
       "      <td>0</td>\n",
       "      <td>9.6875</td>\n",
       "      <td>1</td>\n",
       "      <td>1</td>\n",
       "    </tr>\n",
       "    <tr>\n",
       "      <th>3</th>\n",
       "      <td>895</td>\n",
       "      <td>3</td>\n",
       "      <td>27.0</td>\n",
       "      <td>0</td>\n",
       "      <td>0</td>\n",
       "      <td>8.6625</td>\n",
       "      <td>1</td>\n",
       "      <td>2</td>\n",
       "    </tr>\n",
       "    <tr>\n",
       "      <th>4</th>\n",
       "      <td>896</td>\n",
       "      <td>3</td>\n",
       "      <td>22.0</td>\n",
       "      <td>1</td>\n",
       "      <td>1</td>\n",
       "      <td>12.2875</td>\n",
       "      <td>0</td>\n",
       "      <td>2</td>\n",
       "    </tr>\n",
       "  </tbody>\n",
       "</table>\n",
       "</div>"
      ],
      "text/plain": [
       "   PassengerId  Pclass   Age  SibSp  Parch     Fare  gender_type  embark_type\n",
       "0          892       3  34.5      0      0   7.8292            1            1\n",
       "1          893       3  47.0      1      0   7.0000            0            2\n",
       "2          894       2  62.0      0      0   9.6875            1            1\n",
       "3          895       3  27.0      0      0   8.6625            1            2\n",
       "4          896       3  22.0      1      1  12.2875            0            2"
      ]
     },
     "execution_count": 23,
     "metadata": {},
     "output_type": "execute_result"
    }
   ],
   "source": [
    "df_test.head()"
   ]
  },
  {
   "cell_type": "code",
   "execution_count": 24,
   "id": "0a53d8ad",
   "metadata": {
    "execution": {
     "iopub.execute_input": "2023-03-09T09:12:33.705176Z",
     "iopub.status.busy": "2023-03-09T09:12:33.704743Z",
     "iopub.status.idle": "2023-03-09T09:12:33.715374Z",
     "shell.execute_reply": "2023-03-09T09:12:33.713741Z"
    },
    "papermill": {
     "duration": 0.027428,
     "end_time": "2023-03-09T09:12:33.718525",
     "exception": false,
     "start_time": "2023-03-09T09:12:33.691097",
     "status": "completed"
    },
    "tags": []
   },
   "outputs": [],
   "source": [
    "#train data send for the training and testing\n",
    "x_train,x_test,y_train,y_test=train_test_split(x,y,test_size=20,random_state=20)\n"
   ]
  },
  {
   "cell_type": "code",
   "execution_count": 25,
   "id": "6262dce2",
   "metadata": {
    "execution": {
     "iopub.execute_input": "2023-03-09T09:12:33.745838Z",
     "iopub.status.busy": "2023-03-09T09:12:33.745062Z",
     "iopub.status.idle": "2023-03-09T09:12:33.760353Z",
     "shell.execute_reply": "2023-03-09T09:12:33.758834Z"
    },
    "papermill": {
     "duration": 0.031752,
     "end_time": "2023-03-09T09:12:33.762850",
     "exception": false,
     "start_time": "2023-03-09T09:12:33.731098",
     "status": "completed"
    },
    "tags": []
   },
   "outputs": [
    {
     "name": "stdout",
     "output_type": "stream",
     "text": [
      "Mean value: [ 9.38144829e-17 -2.03944528e-16  6.52622490e-17 -1.63155622e-17\n",
      "  5.91439131e-17 -3.26311245e-17 -2.85522339e-17  6.52622490e-17]\n",
      "SD value: [1. 1. 1. 1. 1. 1. 1. 1.]\n"
     ]
    }
   ],
   "source": [
    "#scaled the x (train and test data)\n",
    "from sklearn.preprocessing import StandardScaler\n",
    "scaler=StandardScaler()\n",
    "scaled = scaler.fit_transform(df_train)\n",
    "\n",
    "\n",
    "x_train_scaled = scaler.fit_transform(x_train) \n",
    "x_test_scaled=scaler.transform(x_test)\n",
    "print(\"Mean value:\",x_train_scaled.mean(axis=0))\n",
    "print(\"SD value:\",x_train_scaled.std(axis=0))"
   ]
  },
  {
   "cell_type": "code",
   "execution_count": 26,
   "id": "4a7dc036",
   "metadata": {
    "execution": {
     "iopub.execute_input": "2023-03-09T09:12:33.791590Z",
     "iopub.status.busy": "2023-03-09T09:12:33.790655Z",
     "iopub.status.idle": "2023-03-09T09:12:33.806258Z",
     "shell.execute_reply": "2023-03-09T09:12:33.804563Z"
    },
    "papermill": {
     "duration": 0.03266,
     "end_time": "2023-03-09T09:12:33.809037",
     "exception": false,
     "start_time": "2023-03-09T09:12:33.776377",
     "status": "completed"
    },
    "tags": []
   },
   "outputs": [
    {
     "data": {
      "text/html": [
       "<div>\n",
       "<style scoped>\n",
       "    .dataframe tbody tr th:only-of-type {\n",
       "        vertical-align: middle;\n",
       "    }\n",
       "\n",
       "    .dataframe tbody tr th {\n",
       "        vertical-align: top;\n",
       "    }\n",
       "\n",
       "    .dataframe thead th {\n",
       "        text-align: right;\n",
       "    }\n",
       "</style>\n",
       "<table border=\"1\" class=\"dataframe\">\n",
       "  <thead>\n",
       "    <tr style=\"text-align: right;\">\n",
       "      <th></th>\n",
       "      <th>PassengerId</th>\n",
       "      <th>Survived</th>\n",
       "      <th>Pclass</th>\n",
       "      <th>Age</th>\n",
       "      <th>SibSp</th>\n",
       "      <th>Parch</th>\n",
       "      <th>Fare</th>\n",
       "      <th>gender_type</th>\n",
       "      <th>embark_type</th>\n",
       "    </tr>\n",
       "  </thead>\n",
       "  <tbody>\n",
       "    <tr>\n",
       "      <th>0</th>\n",
       "      <td>-1.730108</td>\n",
       "      <td>-0.789272</td>\n",
       "      <td>0.827377</td>\n",
       "      <td>-0.521198</td>\n",
       "      <td>0.432793</td>\n",
       "      <td>-0.473674</td>\n",
       "      <td>-0.502445</td>\n",
       "      <td>0.737695</td>\n",
       "      <td>0.589045</td>\n",
       "    </tr>\n",
       "    <tr>\n",
       "      <th>1</th>\n",
       "      <td>-1.726220</td>\n",
       "      <td>1.266990</td>\n",
       "      <td>-1.566107</td>\n",
       "      <td>0.578729</td>\n",
       "      <td>0.432793</td>\n",
       "      <td>-0.473674</td>\n",
       "      <td>0.786845</td>\n",
       "      <td>-1.355574</td>\n",
       "      <td>-1.934220</td>\n",
       "    </tr>\n",
       "    <tr>\n",
       "      <th>2</th>\n",
       "      <td>-1.722332</td>\n",
       "      <td>1.266990</td>\n",
       "      <td>0.827377</td>\n",
       "      <td>-0.246216</td>\n",
       "      <td>-0.474545</td>\n",
       "      <td>-0.473674</td>\n",
       "      <td>-0.488854</td>\n",
       "      <td>-1.355574</td>\n",
       "      <td>0.589045</td>\n",
       "    </tr>\n",
       "    <tr>\n",
       "      <th>3</th>\n",
       "      <td>-1.718444</td>\n",
       "      <td>1.266990</td>\n",
       "      <td>-1.566107</td>\n",
       "      <td>0.372493</td>\n",
       "      <td>0.432793</td>\n",
       "      <td>-0.473674</td>\n",
       "      <td>0.420730</td>\n",
       "      <td>-1.355574</td>\n",
       "      <td>0.589045</td>\n",
       "    </tr>\n",
       "    <tr>\n",
       "      <th>4</th>\n",
       "      <td>-1.714556</td>\n",
       "      <td>-0.789272</td>\n",
       "      <td>0.827377</td>\n",
       "      <td>0.372493</td>\n",
       "      <td>-0.474545</td>\n",
       "      <td>-0.473674</td>\n",
       "      <td>-0.486337</td>\n",
       "      <td>0.737695</td>\n",
       "      <td>0.589045</td>\n",
       "    </tr>\n",
       "  </tbody>\n",
       "</table>\n",
       "</div>"
      ],
      "text/plain": [
       "   PassengerId  Survived    Pclass       Age     SibSp     Parch      Fare  \\\n",
       "0    -1.730108 -0.789272  0.827377 -0.521198  0.432793 -0.473674 -0.502445   \n",
       "1    -1.726220  1.266990 -1.566107  0.578729  0.432793 -0.473674  0.786845   \n",
       "2    -1.722332  1.266990  0.827377 -0.246216 -0.474545 -0.473674 -0.488854   \n",
       "3    -1.718444  1.266990 -1.566107  0.372493  0.432793 -0.473674  0.420730   \n",
       "4    -1.714556 -0.789272  0.827377  0.372493 -0.474545 -0.473674 -0.486337   \n",
       "\n",
       "   gender_type  embark_type  \n",
       "0     0.737695     0.589045  \n",
       "1    -1.355574    -1.934220  \n",
       "2    -1.355574     0.589045  \n",
       "3    -1.355574     0.589045  \n",
       "4     0.737695     0.589045  "
      ]
     },
     "execution_count": 26,
     "metadata": {},
     "output_type": "execute_result"
    }
   ],
   "source": [
    "df_scaled = pd.DataFrame(scaled,columns=df_train.columns)\n",
    "df_scaled.head()"
   ]
  },
  {
   "cell_type": "markdown",
   "id": "24c3cce7",
   "metadata": {
    "papermill": {
     "duration": 0.012178,
     "end_time": "2023-03-09T09:12:33.833461",
     "exception": false,
     "start_time": "2023-03-09T09:12:33.821283",
     "status": "completed"
    },
    "tags": []
   },
   "source": [
    "### 5.Model selection and implementation"
   ]
  },
  {
   "cell_type": "code",
   "execution_count": 27,
   "id": "241800e7",
   "metadata": {
    "execution": {
     "iopub.execute_input": "2023-03-09T09:12:33.860845Z",
     "iopub.status.busy": "2023-03-09T09:12:33.859905Z",
     "iopub.status.idle": "2023-03-09T09:12:34.141057Z",
     "shell.execute_reply": "2023-03-09T09:12:34.139625Z"
    },
    "papermill": {
     "duration": 0.297679,
     "end_time": "2023-03-09T09:12:34.143898",
     "exception": false,
     "start_time": "2023-03-09T09:12:33.846219",
     "status": "completed"
    },
    "tags": []
   },
   "outputs": [],
   "source": [
    "from sklearn import tree"
   ]
  },
  {
   "cell_type": "code",
   "execution_count": 28,
   "id": "6cbdab6d",
   "metadata": {
    "execution": {
     "iopub.execute_input": "2023-03-09T09:12:34.171444Z",
     "iopub.status.busy": "2023-03-09T09:12:34.171019Z",
     "iopub.status.idle": "2023-03-09T09:12:34.184149Z",
     "shell.execute_reply": "2023-03-09T09:12:34.182986Z"
    },
    "papermill": {
     "duration": 0.030147,
     "end_time": "2023-03-09T09:12:34.186806",
     "exception": false,
     "start_time": "2023-03-09T09:12:34.156659",
     "status": "completed"
    },
    "tags": []
   },
   "outputs": [],
   "source": [
    "clf= tree.DecisionTreeClassifier()\n",
    "clf= clf.fit(x_train_scaled,y_train)"
   ]
  },
  {
   "cell_type": "code",
   "execution_count": 29,
   "id": "ed608274",
   "metadata": {
    "execution": {
     "iopub.execute_input": "2023-03-09T09:12:34.214147Z",
     "iopub.status.busy": "2023-03-09T09:12:34.213126Z",
     "iopub.status.idle": "2023-03-09T09:12:34.222642Z",
     "shell.execute_reply": "2023-03-09T09:12:34.221382Z"
    },
    "papermill": {
     "duration": 0.025585,
     "end_time": "2023-03-09T09:12:34.225038",
     "exception": false,
     "start_time": "2023-03-09T09:12:34.199453",
     "status": "completed"
    },
    "tags": []
   },
   "outputs": [
    {
     "data": {
      "text/plain": [
       "75.0"
      ]
     },
     "execution_count": 29,
     "metadata": {},
     "output_type": "execute_result"
    }
   ],
   "source": [
    "clf.score(x_test_scaled,y_test)*100 #accuracy"
   ]
  },
  {
   "cell_type": "code",
   "execution_count": 30,
   "id": "6ba8708c",
   "metadata": {
    "execution": {
     "iopub.execute_input": "2023-03-09T09:12:34.255098Z",
     "iopub.status.busy": "2023-03-09T09:12:34.254426Z",
     "iopub.status.idle": "2023-03-09T09:12:34.266027Z",
     "shell.execute_reply": "2023-03-09T09:12:34.264779Z"
    },
    "papermill": {
     "duration": 0.03121,
     "end_time": "2023-03-09T09:12:34.268913",
     "exception": false,
     "start_time": "2023-03-09T09:12:34.237703",
     "status": "completed"
    },
    "tags": []
   },
   "outputs": [
    {
     "name": "stdout",
     "output_type": "stream",
     "text": [
      "[0 0 0 0 0 0 0 0 0 0 0 0 0 0 0 0 0 0 0 0]\n"
     ]
    },
    {
     "name": "stderr",
     "output_type": "stream",
     "text": [
      "/opt/conda/lib/python3.7/site-packages/sklearn/base.py:444: UserWarning: X has feature names, but DecisionTreeClassifier was fitted without feature names\n",
      "  f\"X has feature names, but {self.__class__.__name__} was fitted without\"\n"
     ]
    }
   ],
   "source": [
    "predict= clf.predict(x_test)\n",
    "print(predict)"
   ]
  },
  {
   "cell_type": "code",
   "execution_count": 31,
   "id": "f716e04d",
   "metadata": {
    "execution": {
     "iopub.execute_input": "2023-03-09T09:12:34.299111Z",
     "iopub.status.busy": "2023-03-09T09:12:34.298162Z",
     "iopub.status.idle": "2023-03-09T09:12:34.307634Z",
     "shell.execute_reply": "2023-03-09T09:12:34.306589Z"
    },
    "papermill": {
     "duration": 0.028006,
     "end_time": "2023-03-09T09:12:34.309779",
     "exception": false,
     "start_time": "2023-03-09T09:12:34.281773",
     "status": "completed"
    },
    "tags": []
   },
   "outputs": [
    {
     "data": {
      "text/plain": [
       "45.0"
      ]
     },
     "execution_count": 31,
     "metadata": {},
     "output_type": "execute_result"
    }
   ],
   "source": [
    "from sklearn.metrics import mean_squared_error,mean_absolute_error\n",
    "error = mean_absolute_error(predict,y_test)*100\n",
    "error#error"
   ]
  },
  {
   "cell_type": "markdown",
   "id": "8b48c439",
   "metadata": {
    "papermill": {
     "duration": 0.012614,
     "end_time": "2023-03-09T09:12:34.335083",
     "exception": false,
     "start_time": "2023-03-09T09:12:34.322469",
     "status": "completed"
    },
    "tags": []
   },
   "source": [
    "### 6.EDA"
   ]
  },
  {
   "cell_type": "code",
   "execution_count": 32,
   "id": "4e4b0dc6",
   "metadata": {
    "execution": {
     "iopub.execute_input": "2023-03-09T09:12:34.362797Z",
     "iopub.status.busy": "2023-03-09T09:12:34.361958Z",
     "iopub.status.idle": "2023-03-09T09:12:34.371926Z",
     "shell.execute_reply": "2023-03-09T09:12:34.370855Z"
    },
    "papermill": {
     "duration": 0.026096,
     "end_time": "2023-03-09T09:12:34.373996",
     "exception": false,
     "start_time": "2023-03-09T09:12:34.347900",
     "status": "completed"
    },
    "tags": []
   },
   "outputs": [
    {
     "data": {
      "text/plain": [
       "array([[11,  0],\n",
       "       [ 9,  0]])"
      ]
     },
     "execution_count": 32,
     "metadata": {},
     "output_type": "execute_result"
    }
   ],
   "source": [
    "from sklearn.metrics import confusion_matrix\n",
    "cm=confusion_matrix(y_test,predict)\n",
    "cm"
   ]
  },
  {
   "cell_type": "code",
   "execution_count": 33,
   "id": "bb9866cb",
   "metadata": {
    "execution": {
     "iopub.execute_input": "2023-03-09T09:12:34.404428Z",
     "iopub.status.busy": "2023-03-09T09:12:34.403276Z",
     "iopub.status.idle": "2023-03-09T09:12:34.660063Z",
     "shell.execute_reply": "2023-03-09T09:12:34.659132Z"
    },
    "papermill": {
     "duration": 0.27428,
     "end_time": "2023-03-09T09:12:34.662200",
     "exception": false,
     "start_time": "2023-03-09T09:12:34.387920",
     "status": "completed"
    },
    "tags": []
   },
   "outputs": [
    {
     "data": {
      "image/png": "[encoded data removed]",
      "text/plain": [
       "<Figure size 640x480 with 2 Axes>"
      ]
     },
     "metadata": {},
     "output_type": "display_data"
    }
   ],
   "source": [
    "#visulization of confusion matrix\n",
    "ax=sns.heatmap(cm,annot=True,cmap='Blues')\n",
    "ax.set_title(\"confusion matrix\")\n",
    "ax.set_xlabel(\"predicted value\")\n",
    "ax.set_ylabel(\"actual value\")\n",
    "plt.show()"
   ]
  },
  {
   "cell_type": "code",
   "execution_count": 34,
   "id": "4f3eae99",
   "metadata": {
    "execution": {
     "iopub.execute_input": "2023-03-09T09:12:34.690626Z",
     "iopub.status.busy": "2023-03-09T09:12:34.689853Z",
     "iopub.status.idle": "2023-03-09T09:12:34.699521Z",
     "shell.execute_reply": "2023-03-09T09:12:34.697975Z"
    },
    "papermill": {
     "duration": 0.027073,
     "end_time": "2023-03-09T09:12:34.702533",
     "exception": false,
     "start_time": "2023-03-09T09:12:34.675460",
     "status": "completed"
    },
    "tags": []
   },
   "outputs": [
    {
     "data": {
      "text/plain": [
       "0    549\n",
       "1    342\n",
       "Name: Survived, dtype: int64"
      ]
     },
     "execution_count": 34,
     "metadata": {},
     "output_type": "execute_result"
    }
   ],
   "source": [
    "df_train['Survived'].value_counts()"
   ]
  },
  {
   "cell_type": "code",
   "execution_count": 35,
   "id": "a307b675",
   "metadata": {
    "execution": {
     "iopub.execute_input": "2023-03-09T09:12:34.733124Z",
     "iopub.status.busy": "2023-03-09T09:12:34.732282Z",
     "iopub.status.idle": "2023-03-09T09:12:34.923814Z",
     "shell.execute_reply": "2023-03-09T09:12:34.922542Z"
    },
    "papermill": {
     "duration": 0.209381,
     "end_time": "2023-03-09T09:12:34.926463",
     "exception": false,
     "start_time": "2023-03-09T09:12:34.717082",
     "status": "completed"
    },
    "tags": []
   },
   "outputs": [
    {
     "data": {
      "image/png": "[encoded data removed]",
      "text/plain": [
       "<Figure size 640x480 with 1 Axes>"
      ]
     },
     "metadata": {},
     "output_type": "display_data"
    }
   ],
   "source": [
    "a = df_train['Survived'].value_counts()\n",
    "labels = ['Not survived', 'Survived']\n",
    "explode = [0.2,0] \n",
    "colors = ['blue', 'grey'] \n",
    "plt.pie(a, labels=labels, autopct='%1.0f%%', pctdistance=0.5, labeldistance=1.2, explode=explode, colors=colors, shadow = True) \n",
    "\n",
    "plt.legend(title = \"Survived ratio\")\n",
    "plt.show() "
   ]
  },
  {
   "cell_type": "code",
   "execution_count": 36,
   "id": "66f8684a",
   "metadata": {
    "execution": {
     "iopub.execute_input": "2023-03-09T09:12:34.955683Z",
     "iopub.status.busy": "2023-03-09T09:12:34.954949Z",
     "iopub.status.idle": "2023-03-09T09:12:34.968855Z",
     "shell.execute_reply": "2023-03-09T09:12:34.967934Z"
    },
    "papermill": {
     "duration": 0.030609,
     "end_time": "2023-03-09T09:12:34.970826",
     "exception": false,
     "start_time": "2023-03-09T09:12:34.940217",
     "status": "completed"
    },
    "tags": []
   },
   "outputs": [
    {
     "data": {
      "text/html": [
       "<div>\n",
       "<style scoped>\n",
       "    .dataframe tbody tr th:only-of-type {\n",
       "        vertical-align: middle;\n",
       "    }\n",
       "\n",
       "    .dataframe tbody tr th {\n",
       "        vertical-align: top;\n",
       "    }\n",
       "\n",
       "    .dataframe thead th {\n",
       "        text-align: right;\n",
       "    }\n",
       "</style>\n",
       "<table border=\"1\" class=\"dataframe\">\n",
       "  <thead>\n",
       "    <tr style=\"text-align: right;\">\n",
       "      <th></th>\n",
       "      <th>PassengerId</th>\n",
       "      <th>Survived</th>\n",
       "    </tr>\n",
       "  </thead>\n",
       "  <tbody>\n",
       "    <tr>\n",
       "      <th>0</th>\n",
       "      <td>892</td>\n",
       "      <td>0</td>\n",
       "    </tr>\n",
       "    <tr>\n",
       "      <th>1</th>\n",
       "      <td>893</td>\n",
       "      <td>1</td>\n",
       "    </tr>\n",
       "    <tr>\n",
       "      <th>2</th>\n",
       "      <td>894</td>\n",
       "      <td>0</td>\n",
       "    </tr>\n",
       "    <tr>\n",
       "      <th>3</th>\n",
       "      <td>895</td>\n",
       "      <td>0</td>\n",
       "    </tr>\n",
       "    <tr>\n",
       "      <th>4</th>\n",
       "      <td>896</td>\n",
       "      <td>1</td>\n",
       "    </tr>\n",
       "    <tr>\n",
       "      <th>...</th>\n",
       "      <td>...</td>\n",
       "      <td>...</td>\n",
       "    </tr>\n",
       "    <tr>\n",
       "      <th>413</th>\n",
       "      <td>1305</td>\n",
       "      <td>0</td>\n",
       "    </tr>\n",
       "    <tr>\n",
       "      <th>414</th>\n",
       "      <td>1306</td>\n",
       "      <td>1</td>\n",
       "    </tr>\n",
       "    <tr>\n",
       "      <th>415</th>\n",
       "      <td>1307</td>\n",
       "      <td>0</td>\n",
       "    </tr>\n",
       "    <tr>\n",
       "      <th>416</th>\n",
       "      <td>1308</td>\n",
       "      <td>0</td>\n",
       "    </tr>\n",
       "    <tr>\n",
       "      <th>417</th>\n",
       "      <td>1309</td>\n",
       "      <td>0</td>\n",
       "    </tr>\n",
       "  </tbody>\n",
       "</table>\n",
       "<p>418 rows × 2 columns</p>\n",
       "</div>"
      ],
      "text/plain": [
       "     PassengerId  Survived\n",
       "0            892         0\n",
       "1            893         1\n",
       "2            894         0\n",
       "3            895         0\n",
       "4            896         1\n",
       "..           ...       ...\n",
       "413         1305         0\n",
       "414         1306         1\n",
       "415         1307         0\n",
       "416         1308         0\n",
       "417         1309         0\n",
       "\n",
       "[418 rows x 2 columns]"
      ]
     },
     "execution_count": 36,
     "metadata": {},
     "output_type": "execute_result"
    }
   ],
   "source": [
    "fr=pd.read_csv(\"/kaggle/input/titanic/gender_submission.csv\")\n",
    "fr"
   ]
  },
  {
   "cell_type": "code",
   "execution_count": 37,
   "id": "ec6940d2",
   "metadata": {
    "execution": {
     "iopub.execute_input": "2023-03-09T09:12:35.001619Z",
     "iopub.status.busy": "2023-03-09T09:12:35.000978Z",
     "iopub.status.idle": "2023-03-09T09:12:35.010946Z",
     "shell.execute_reply": "2023-03-09T09:12:35.009900Z"
    },
    "papermill": {
     "duration": 0.027985,
     "end_time": "2023-03-09T09:12:35.012973",
     "exception": false,
     "start_time": "2023-03-09T09:12:34.984988",
     "status": "completed"
    },
    "tags": []
   },
   "outputs": [
    {
     "name": "stderr",
     "output_type": "stream",
     "text": [
      "/opt/conda/lib/python3.7/site-packages/sklearn/base.py:444: UserWarning: X has feature names, but DecisionTreeClassifier was fitted without feature names\n",
      "  f\"X has feature names, but {self.__class__.__name__} was fitted without\"\n"
     ]
    },
    {
     "data": {
      "text/plain": [
       "array([0, 0, 0, 0, 0, 0, 0, 0, 0, 0, 0, 0, 0, 0, 0, 0, 0, 0, 0, 0, 0, 0,\n",
       "       0, 0, 0, 0, 0, 0, 0, 0, 0, 0, 0, 0, 0, 0, 0, 0, 0, 0, 0, 0, 0, 0,\n",
       "       0, 0, 0, 0, 0, 0, 0, 0, 0, 0, 0, 0, 0, 0, 0, 0, 0, 0, 0, 0, 0, 0,\n",
       "       0, 0, 0, 0, 0, 0, 0, 0, 0, 0, 0, 0, 0, 0, 0, 0, 0, 0, 0, 0, 0, 0,\n",
       "       0, 0, 0, 0, 0, 0, 0, 0, 0, 0, 0, 0, 0, 0, 0, 0, 0, 0, 0, 0, 0, 0,\n",
       "       0, 0, 0, 0, 0, 0, 0, 0, 0, 0, 0, 0, 0, 0, 0, 0, 0, 0, 0, 0, 0, 0,\n",
       "       0, 0, 0, 0, 0, 0, 0, 0, 0, 0, 0, 0, 0, 0, 0, 0, 0, 0, 0, 0, 0, 0,\n",
       "       0, 0, 0, 0, 0, 0, 0, 0, 0, 0, 0, 0, 0, 0, 0, 0, 0, 0, 0, 0, 0, 0,\n",
       "       0, 0, 0, 0, 0, 0, 0, 0, 0, 0, 0, 0, 0, 0, 0, 0, 0, 0, 0, 0, 0, 0,\n",
       "       0, 0, 0, 0, 0, 0, 0, 0, 0, 0, 0, 0, 0, 0, 0, 0, 0, 0, 0, 0, 0, 0,\n",
       "       0, 0, 0, 0, 0, 0, 0, 0, 0, 0, 0, 0, 0, 0, 0, 0, 0, 0, 0, 0, 0, 0,\n",
       "       0, 0, 0, 0, 0, 0, 0, 0, 0, 0, 0, 0, 0, 0, 0, 0, 0, 0, 0, 0, 0, 0,\n",
       "       0, 0, 0, 0, 0, 0, 0, 0, 0, 0, 0, 0, 0, 0, 0, 0, 0, 0, 0, 0, 0, 0,\n",
       "       0, 0, 0, 0, 0, 0, 0, 0, 0, 0, 0, 0, 0, 0, 0, 0, 0, 0, 0, 0, 0, 0,\n",
       "       0, 0, 0, 0, 0, 0, 0, 0, 0, 0, 0, 0, 0, 0, 0, 0, 0, 0, 0, 0, 0, 0,\n",
       "       0, 0, 0, 0, 0, 0, 0, 0, 0, 0, 0, 0, 0, 0, 0, 0, 0, 0, 0, 0, 0, 0,\n",
       "       0, 0, 0, 0, 0, 0, 0, 0, 0, 0, 0, 0, 0, 0, 0, 0, 0, 0, 0, 0, 0, 0,\n",
       "       0, 0, 0, 0, 0, 0, 0, 0, 0, 0, 0, 0, 0, 0, 0, 0, 0, 0, 0, 0, 0, 0,\n",
       "       0, 0, 0, 0, 0, 0, 0, 0, 0, 0, 0, 0, 0, 0, 0, 0, 0, 0, 0, 0, 0, 0])"
      ]
     },
     "execution_count": 37,
     "metadata": {},
     "output_type": "execute_result"
    }
   ],
   "source": [
    "Submission = clf.predict(df_test)\n",
    "Submission"
   ]
  },
  {
   "cell_type": "code",
   "execution_count": 38,
   "id": "3b11a752",
   "metadata": {
    "execution": {
     "iopub.execute_input": "2023-03-09T09:12:35.042775Z",
     "iopub.status.busy": "2023-03-09T09:12:35.042223Z",
     "iopub.status.idle": "2023-03-09T09:12:35.053053Z",
     "shell.execute_reply": "2023-03-09T09:12:35.052086Z"
    },
    "papermill": {
     "duration": 0.028405,
     "end_time": "2023-03-09T09:12:35.055124",
     "exception": false,
     "start_time": "2023-03-09T09:12:35.026719",
     "status": "completed"
    },
    "tags": []
   },
   "outputs": [
    {
     "data": {
      "text/html": [
       "<div>\n",
       "<style scoped>\n",
       "    .dataframe tbody tr th:only-of-type {\n",
       "        vertical-align: middle;\n",
       "    }\n",
       "\n",
       "    .dataframe tbody tr th {\n",
       "        vertical-align: top;\n",
       "    }\n",
       "\n",
       "    .dataframe thead th {\n",
       "        text-align: right;\n",
       "    }\n",
       "</style>\n",
       "<table border=\"1\" class=\"dataframe\">\n",
       "  <thead>\n",
       "    <tr style=\"text-align: right;\">\n",
       "      <th></th>\n",
       "      <th>Survived</th>\n",
       "    </tr>\n",
       "  </thead>\n",
       "  <tbody>\n",
       "    <tr>\n",
       "      <th>0</th>\n",
       "      <td>0</td>\n",
       "    </tr>\n",
       "    <tr>\n",
       "      <th>1</th>\n",
       "      <td>0</td>\n",
       "    </tr>\n",
       "    <tr>\n",
       "      <th>2</th>\n",
       "      <td>0</td>\n",
       "    </tr>\n",
       "    <tr>\n",
       "      <th>3</th>\n",
       "      <td>0</td>\n",
       "    </tr>\n",
       "    <tr>\n",
       "      <th>4</th>\n",
       "      <td>0</td>\n",
       "    </tr>\n",
       "    <tr>\n",
       "      <th>...</th>\n",
       "      <td>...</td>\n",
       "    </tr>\n",
       "    <tr>\n",
       "      <th>413</th>\n",
       "      <td>0</td>\n",
       "    </tr>\n",
       "    <tr>\n",
       "      <th>414</th>\n",
       "      <td>0</td>\n",
       "    </tr>\n",
       "    <tr>\n",
       "      <th>415</th>\n",
       "      <td>0</td>\n",
       "    </tr>\n",
       "    <tr>\n",
       "      <th>416</th>\n",
       "      <td>0</td>\n",
       "    </tr>\n",
       "    <tr>\n",
       "      <th>417</th>\n",
       "      <td>0</td>\n",
       "    </tr>\n",
       "  </tbody>\n",
       "</table>\n",
       "<p>418 rows × 1 columns</p>\n",
       "</div>"
      ],
      "text/plain": [
       "     Survived\n",
       "0           0\n",
       "1           0\n",
       "2           0\n",
       "3           0\n",
       "4           0\n",
       "..        ...\n",
       "413         0\n",
       "414         0\n",
       "415         0\n",
       "416         0\n",
       "417         0\n",
       "\n",
       "[418 rows x 1 columns]"
      ]
     },
     "execution_count": 38,
     "metadata": {},
     "output_type": "execute_result"
    }
   ],
   "source": [
    "pd.DataFrame({\n",
    "    \"Survived\" : Submission\n",
    "},columns=[\"Survived\"])"
   ]
  },
  {
   "cell_type": "code",
   "execution_count": 39,
   "id": "3eec2fb2",
   "metadata": {
    "execution": {
     "iopub.execute_input": "2023-03-09T09:12:35.085353Z",
     "iopub.status.busy": "2023-03-09T09:12:35.084996Z",
     "iopub.status.idle": "2023-03-09T09:12:35.103802Z",
     "shell.execute_reply": "2023-03-09T09:12:35.102705Z"
    },
    "papermill": {
     "duration": 0.036816,
     "end_time": "2023-03-09T09:12:35.106124",
     "exception": false,
     "start_time": "2023-03-09T09:12:35.069308",
     "status": "completed"
    },
    "tags": []
   },
   "outputs": [
    {
     "data": {
      "text/html": [
       "<div>\n",
       "<style scoped>\n",
       "    .dataframe tbody tr th:only-of-type {\n",
       "        vertical-align: middle;\n",
       "    }\n",
       "\n",
       "    .dataframe tbody tr th {\n",
       "        vertical-align: top;\n",
       "    }\n",
       "\n",
       "    .dataframe thead th {\n",
       "        text-align: right;\n",
       "    }\n",
       "</style>\n",
       "<table border=\"1\" class=\"dataframe\">\n",
       "  <thead>\n",
       "    <tr style=\"text-align: right;\">\n",
       "      <th></th>\n",
       "      <th>PassengerId</th>\n",
       "      <th>Pclass</th>\n",
       "      <th>Name</th>\n",
       "      <th>Sex</th>\n",
       "      <th>Age</th>\n",
       "      <th>SibSp</th>\n",
       "      <th>Parch</th>\n",
       "      <th>Ticket</th>\n",
       "      <th>Fare</th>\n",
       "      <th>Cabin</th>\n",
       "      <th>Embarked</th>\n",
       "    </tr>\n",
       "  </thead>\n",
       "  <tbody>\n",
       "    <tr>\n",
       "      <th>0</th>\n",
       "      <td>892</td>\n",
       "      <td>3</td>\n",
       "      <td>Kelly, Mr. James</td>\n",
       "      <td>male</td>\n",
       "      <td>34.5</td>\n",
       "      <td>0</td>\n",
       "      <td>0</td>\n",
       "      <td>330911</td>\n",
       "      <td>7.8292</td>\n",
       "      <td>NaN</td>\n",
       "      <td>Q</td>\n",
       "    </tr>\n",
       "    <tr>\n",
       "      <th>1</th>\n",
       "      <td>893</td>\n",
       "      <td>3</td>\n",
       "      <td>Wilkes, Mrs. James (Ellen Needs)</td>\n",
       "      <td>female</td>\n",
       "      <td>47.0</td>\n",
       "      <td>1</td>\n",
       "      <td>0</td>\n",
       "      <td>363272</td>\n",
       "      <td>7.0000</td>\n",
       "      <td>NaN</td>\n",
       "      <td>S</td>\n",
       "    </tr>\n",
       "    <tr>\n",
       "      <th>2</th>\n",
       "      <td>894</td>\n",
       "      <td>2</td>\n",
       "      <td>Myles, Mr. Thomas Francis</td>\n",
       "      <td>male</td>\n",
       "      <td>62.0</td>\n",
       "      <td>0</td>\n",
       "      <td>0</td>\n",
       "      <td>240276</td>\n",
       "      <td>9.6875</td>\n",
       "      <td>NaN</td>\n",
       "      <td>Q</td>\n",
       "    </tr>\n",
       "    <tr>\n",
       "      <th>3</th>\n",
       "      <td>895</td>\n",
       "      <td>3</td>\n",
       "      <td>Wirz, Mr. Albert</td>\n",
       "      <td>male</td>\n",
       "      <td>27.0</td>\n",
       "      <td>0</td>\n",
       "      <td>0</td>\n",
       "      <td>315154</td>\n",
       "      <td>8.6625</td>\n",
       "      <td>NaN</td>\n",
       "      <td>S</td>\n",
       "    </tr>\n",
       "    <tr>\n",
       "      <th>4</th>\n",
       "      <td>896</td>\n",
       "      <td>3</td>\n",
       "      <td>Hirvonen, Mrs. Alexander (Helga E Lindqvist)</td>\n",
       "      <td>female</td>\n",
       "      <td>22.0</td>\n",
       "      <td>1</td>\n",
       "      <td>1</td>\n",
       "      <td>3101298</td>\n",
       "      <td>12.2875</td>\n",
       "      <td>NaN</td>\n",
       "      <td>S</td>\n",
       "    </tr>\n",
       "  </tbody>\n",
       "</table>\n",
       "</div>"
      ],
      "text/plain": [
       "   PassengerId  Pclass                                          Name     Sex  \\\n",
       "0          892       3                              Kelly, Mr. James    male   \n",
       "1          893       3              Wilkes, Mrs. James (Ellen Needs)  female   \n",
       "2          894       2                     Myles, Mr. Thomas Francis    male   \n",
       "3          895       3                              Wirz, Mr. Albert    male   \n",
       "4          896       3  Hirvonen, Mrs. Alexander (Helga E Lindqvist)  female   \n",
       "\n",
       "    Age  SibSp  Parch   Ticket     Fare Cabin Embarked  \n",
       "0  34.5      0      0   330911   7.8292   NaN        Q  \n",
       "1  47.0      1      0   363272   7.0000   NaN        S  \n",
       "2  62.0      0      0   240276   9.6875   NaN        Q  \n",
       "3  27.0      0      0   315154   8.6625   NaN        S  \n",
       "4  22.0      1      1  3101298  12.2875   NaN        S  "
      ]
     },
     "execution_count": 39,
     "metadata": {},
     "output_type": "execute_result"
    }
   ],
   "source": [
    "test1=pd.read_csv(\"/kaggle/input/titanic/test.csv\")\n",
    "test1.head()"
   ]
  },
  {
   "cell_type": "code",
   "execution_count": 40,
   "id": "4dcd190d",
   "metadata": {
    "execution": {
     "iopub.execute_input": "2023-03-09T09:12:35.138097Z",
     "iopub.status.busy": "2023-03-09T09:12:35.137495Z",
     "iopub.status.idle": "2023-03-09T09:12:35.146187Z",
     "shell.execute_reply": "2023-03-09T09:12:35.144472Z"
    },
    "papermill": {
     "duration": 0.028321,
     "end_time": "2023-03-09T09:12:35.149278",
     "exception": false,
     "start_time": "2023-03-09T09:12:35.120957",
     "status": "completed"
    },
    "tags": []
   },
   "outputs": [
    {
     "data": {
      "text/plain": [
       "0       892\n",
       "1       893\n",
       "2       894\n",
       "3       895\n",
       "4       896\n",
       "       ... \n",
       "413    1305\n",
       "414    1306\n",
       "415    1307\n",
       "416    1308\n",
       "417    1309\n",
       "Name: PassengerId, Length: 418, dtype: int64"
      ]
     },
     "execution_count": 40,
     "metadata": {},
     "output_type": "execute_result"
    }
   ],
   "source": [
    "test2=test1[\"PassengerId\"]\n",
    "test2"
   ]
  },
  {
   "cell_type": "code",
   "execution_count": 41,
   "id": "7d8f298a",
   "metadata": {
    "execution": {
     "iopub.execute_input": "2023-03-09T09:12:35.180901Z",
     "iopub.status.busy": "2023-03-09T09:12:35.180530Z",
     "iopub.status.idle": "2023-03-09T09:12:35.195463Z",
     "shell.execute_reply": "2023-03-09T09:12:35.193879Z"
    },
    "papermill": {
     "duration": 0.034383,
     "end_time": "2023-03-09T09:12:35.198481",
     "exception": false,
     "start_time": "2023-03-09T09:12:35.164098",
     "status": "completed"
    },
    "tags": []
   },
   "outputs": [
    {
     "data": {
      "text/html": [
       "<div>\n",
       "<style scoped>\n",
       "    .dataframe tbody tr th:only-of-type {\n",
       "        vertical-align: middle;\n",
       "    }\n",
       "\n",
       "    .dataframe tbody tr th {\n",
       "        vertical-align: top;\n",
       "    }\n",
       "\n",
       "    .dataframe thead th {\n",
       "        text-align: right;\n",
       "    }\n",
       "</style>\n",
       "<table border=\"1\" class=\"dataframe\">\n",
       "  <thead>\n",
       "    <tr style=\"text-align: right;\">\n",
       "      <th></th>\n",
       "      <th>PassengerId</th>\n",
       "      <th>Survived</th>\n",
       "    </tr>\n",
       "  </thead>\n",
       "  <tbody>\n",
       "    <tr>\n",
       "      <th>0</th>\n",
       "      <td>892</td>\n",
       "      <td>0</td>\n",
       "    </tr>\n",
       "    <tr>\n",
       "      <th>1</th>\n",
       "      <td>893</td>\n",
       "      <td>0</td>\n",
       "    </tr>\n",
       "    <tr>\n",
       "      <th>2</th>\n",
       "      <td>894</td>\n",
       "      <td>0</td>\n",
       "    </tr>\n",
       "    <tr>\n",
       "      <th>3</th>\n",
       "      <td>895</td>\n",
       "      <td>0</td>\n",
       "    </tr>\n",
       "    <tr>\n",
       "      <th>4</th>\n",
       "      <td>896</td>\n",
       "      <td>0</td>\n",
       "    </tr>\n",
       "    <tr>\n",
       "      <th>...</th>\n",
       "      <td>...</td>\n",
       "      <td>...</td>\n",
       "    </tr>\n",
       "    <tr>\n",
       "      <th>413</th>\n",
       "      <td>1305</td>\n",
       "      <td>0</td>\n",
       "    </tr>\n",
       "    <tr>\n",
       "      <th>414</th>\n",
       "      <td>1306</td>\n",
       "      <td>0</td>\n",
       "    </tr>\n",
       "    <tr>\n",
       "      <th>415</th>\n",
       "      <td>1307</td>\n",
       "      <td>0</td>\n",
       "    </tr>\n",
       "    <tr>\n",
       "      <th>416</th>\n",
       "      <td>1308</td>\n",
       "      <td>0</td>\n",
       "    </tr>\n",
       "    <tr>\n",
       "      <th>417</th>\n",
       "      <td>1309</td>\n",
       "      <td>0</td>\n",
       "    </tr>\n",
       "  </tbody>\n",
       "</table>\n",
       "<p>418 rows × 2 columns</p>\n",
       "</div>"
      ],
      "text/plain": [
       "     PassengerId  Survived\n",
       "0            892         0\n",
       "1            893         0\n",
       "2            894         0\n",
       "3            895         0\n",
       "4            896         0\n",
       "..           ...       ...\n",
       "413         1305         0\n",
       "414         1306         0\n",
       "415         1307         0\n",
       "416         1308         0\n",
       "417         1309         0\n",
       "\n",
       "[418 rows x 2 columns]"
      ]
     },
     "execution_count": 41,
     "metadata": {},
     "output_type": "execute_result"
    }
   ],
   "source": [
    "fl = pd.DataFrame({\n",
    "    \"PassengerId\":test2.values,\n",
    "    \"Survived\" : Submission\n",
    "},columns=[\"PassengerId\",\"Survived\"])\n",
    "fl"
   ]
  },
  {
   "cell_type": "code",
   "execution_count": 42,
   "id": "9b6c2402",
   "metadata": {
    "execution": {
     "iopub.execute_input": "2023-03-09T09:12:35.230814Z",
     "iopub.status.busy": "2023-03-09T09:12:35.230439Z",
     "iopub.status.idle": "2023-03-09T09:12:35.242567Z",
     "shell.execute_reply": "2023-03-09T09:12:35.241287Z"
    },
    "papermill": {
     "duration": 0.031924,
     "end_time": "2023-03-09T09:12:35.245385",
     "exception": false,
     "start_time": "2023-03-09T09:12:35.213461",
     "status": "completed"
    },
    "tags": []
   },
   "outputs": [],
   "source": [
    "fl.set_index(\"PassengerId\", inplace=True)\n",
    "fl.to_csv(\"Submission.csv\")"
   ]
  }
 ],
 "metadata": {
  "kernelspec": {
   "display_name": "Python 3",
   "language": "python",
   "name": "python3"
  },
  "language_info": {
   "codemirror_mode": {
    "name": "ipython",
    "version": 3
   },
   "file_extension": ".py",
   "mimetype": "text/x-python",
   "name": "python",
   "nbconvert_exporter": "python",
   "pygments_lexer": "ipython3",
   "version": "3.7.12"
  },
  "papermill": {
   "default_parameters": {},
   "duration": 14.854841,
   "end_time": "2023-03-09T09:12:35.484678",
   "environment_variables": {},
   "exception": null,
   "input_path": "__notebook__.ipynb",
   "output_path": "__notebook__.ipynb",
   "parameters": {},
   "start_time": "2023-03-09T09:12:20.629837",
   "version": "2.4.0"
  }
 },
 "nbformat": 4,
 "nbformat_minor": 5
}
