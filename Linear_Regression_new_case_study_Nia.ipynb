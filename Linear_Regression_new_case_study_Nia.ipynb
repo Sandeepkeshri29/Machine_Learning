{
  "cells": [
    {
      "cell_type": "code",
      "execution_count": 1,
      "id": "538c5c40",
      "metadata": {
        "id": "538c5c40"
      },
      "outputs": [],
      "source": [
        "import pandas as pd\n",
        "import numpy as np\n",
        "import matplotlib.pyplot as plt"
      ]
    },
    {
      "cell_type": "code",
      "execution_count": 2,
      "id": "c901842e",
      "metadata": {
        "id": "c901842e"
      },
      "outputs": [],
      "source": [
        "insurance=pd.read_csv('new_insurance_data.csv')"
      ]
    },
    {
      "cell_type": "code",
      "execution_count": 4,
      "id": "db7cd5cf",
      "metadata": {
        "scrolled": true,
        "colab": {
          "base_uri": "https://localhost:8080/",
          "height": 270
        },
        "id": "db7cd5cf",
        "outputId": "98a853f9-41b7-47d0-9dcc-ab6361ac5f88"
      },
      "outputs": [
        {
          "output_type": "execute_result",
          "data": {
            "text/plain": [
              "    age   sex    bmi  children smoker  Claim_Amount  past_consultations  \\\n",
              "0  18.0  male  23.21       0.0     no   29087.54313                17.0   \n",
              "1  18.0  male  30.14       0.0     no   39053.67437                 7.0   \n",
              "2  18.0  male  33.33       0.0     no   39023.62759                19.0   \n",
              "3  18.0  male  33.66       0.0     no   28185.39332                11.0   \n",
              "4  18.0  male  34.10       0.0     no   14697.85941                16.0   \n",
              "\n",
              "   num_of_steps  Hospital_expenditure  NUmber_of_past_hospitalizations  \\\n",
              "0      715428.0           4720920.992                              0.0   \n",
              "1      699157.0           4329831.676                              0.0   \n",
              "2      702341.0           6884860.774                              0.0   \n",
              "3      700250.0           4274773.550                              0.0   \n",
              "4      711584.0           3787293.921                              0.0   \n",
              "\n",
              "   Anual_Salary     region    charges  \n",
              "0   55784970.05  southeast  1121.8739  \n",
              "1   13700885.19  southeast  1131.5066  \n",
              "2   73523107.27  southeast  1135.9407  \n",
              "3   75819679.60  southeast  1136.3994  \n",
              "4   23012320.01  southeast  1137.0110  "
            ],
            "text/html": [
              "\n",
              "  <div id=\"df-fba7744c-ed25-4251-9705-eecc16dd7221\">\n",
              "    <div class=\"colab-df-container\">\n",
              "      <div>\n",
              "<style scoped>\n",
              "    .dataframe tbody tr th:only-of-type {\n",
              "        vertical-align: middle;\n",
              "    }\n",
              "\n",
              "    .dataframe tbody tr th {\n",
              "        vertical-align: top;\n",
              "    }\n",
              "\n",
              "    .dataframe thead th {\n",
              "        text-align: right;\n",
              "    }\n",
              "</style>\n",
              "<table border=\"1\" class=\"dataframe\">\n",
              "  <thead>\n",
              "    <tr style=\"text-align: right;\">\n",
              "      <th></th>\n",
              "      <th>age</th>\n",
              "      <th>sex</th>\n",
              "      <th>bmi</th>\n",
              "      <th>children</th>\n",
              "      <th>smoker</th>\n",
              "      <th>Claim_Amount</th>\n",
              "      <th>past_consultations</th>\n",
              "      <th>num_of_steps</th>\n",
              "      <th>Hospital_expenditure</th>\n",
              "      <th>NUmber_of_past_hospitalizations</th>\n",
              "      <th>Anual_Salary</th>\n",
              "      <th>region</th>\n",
              "      <th>charges</th>\n",
              "    </tr>\n",
              "  </thead>\n",
              "  <tbody>\n",
              "    <tr>\n",
              "      <th>0</th>\n",
              "      <td>18.0</td>\n",
              "      <td>male</td>\n",
              "      <td>23.21</td>\n",
              "      <td>0.0</td>\n",
              "      <td>no</td>\n",
              "      <td>29087.54313</td>\n",
              "      <td>17.0</td>\n",
              "      <td>715428.0</td>\n",
              "      <td>4720920.992</td>\n",
              "      <td>0.0</td>\n",
              "      <td>55784970.05</td>\n",
              "      <td>southeast</td>\n",
              "      <td>1121.8739</td>\n",
              "    </tr>\n",
              "    <tr>\n",
              "      <th>1</th>\n",
              "      <td>18.0</td>\n",
              "      <td>male</td>\n",
              "      <td>30.14</td>\n",
              "      <td>0.0</td>\n",
              "      <td>no</td>\n",
              "      <td>39053.67437</td>\n",
              "      <td>7.0</td>\n",
              "      <td>699157.0</td>\n",
              "      <td>4329831.676</td>\n",
              "      <td>0.0</td>\n",
              "      <td>13700885.19</td>\n",
              "      <td>southeast</td>\n",
              "      <td>1131.5066</td>\n",
              "    </tr>\n",
              "    <tr>\n",
              "      <th>2</th>\n",
              "      <td>18.0</td>\n",
              "      <td>male</td>\n",
              "      <td>33.33</td>\n",
              "      <td>0.0</td>\n",
              "      <td>no</td>\n",
              "      <td>39023.62759</td>\n",
              "      <td>19.0</td>\n",
              "      <td>702341.0</td>\n",
              "      <td>6884860.774</td>\n",
              "      <td>0.0</td>\n",
              "      <td>73523107.27</td>\n",
              "      <td>southeast</td>\n",
              "      <td>1135.9407</td>\n",
              "    </tr>\n",
              "    <tr>\n",
              "      <th>3</th>\n",
              "      <td>18.0</td>\n",
              "      <td>male</td>\n",
              "      <td>33.66</td>\n",
              "      <td>0.0</td>\n",
              "      <td>no</td>\n",
              "      <td>28185.39332</td>\n",
              "      <td>11.0</td>\n",
              "      <td>700250.0</td>\n",
              "      <td>4274773.550</td>\n",
              "      <td>0.0</td>\n",
              "      <td>75819679.60</td>\n",
              "      <td>southeast</td>\n",
              "      <td>1136.3994</td>\n",
              "    </tr>\n",
              "    <tr>\n",
              "      <th>4</th>\n",
              "      <td>18.0</td>\n",
              "      <td>male</td>\n",
              "      <td>34.10</td>\n",
              "      <td>0.0</td>\n",
              "      <td>no</td>\n",
              "      <td>14697.85941</td>\n",
              "      <td>16.0</td>\n",
              "      <td>711584.0</td>\n",
              "      <td>3787293.921</td>\n",
              "      <td>0.0</td>\n",
              "      <td>23012320.01</td>\n",
              "      <td>southeast</td>\n",
              "      <td>1137.0110</td>\n",
              "    </tr>\n",
              "  </tbody>\n",
              "</table>\n",
              "</div>\n",
              "      <button class=\"colab-df-convert\" onclick=\"convertToInteractive('df-fba7744c-ed25-4251-9705-eecc16dd7221')\"\n",
              "              title=\"Convert this dataframe to an interactive table.\"\n",
              "              style=\"display:none;\">\n",
              "        \n",
              "  <svg xmlns=\"http://www.w3.org/2000/svg\" height=\"24px\"viewBox=\"0 0 24 24\"\n",
              "       width=\"24px\">\n",
              "    <path d=\"M0 0h24v24H0V0z\" fill=\"none\"/>\n",
              "    <path d=\"M18.56 5.44l.94 2.06.94-2.06 2.06-.94-2.06-.94-.94-2.06-.94 2.06-2.06.94zm-11 1L8.5 8.5l.94-2.06 2.06-.94-2.06-.94L8.5 2.5l-.94 2.06-2.06.94zm10 10l.94 2.06.94-2.06 2.06-.94-2.06-.94-.94-2.06-.94 2.06-2.06.94z\"/><path d=\"M17.41 7.96l-1.37-1.37c-.4-.4-.92-.59-1.43-.59-.52 0-1.04.2-1.43.59L10.3 9.45l-7.72 7.72c-.78.78-.78 2.05 0 2.83L4 21.41c.39.39.9.59 1.41.59.51 0 1.02-.2 1.41-.59l7.78-7.78 2.81-2.81c.8-.78.8-2.07 0-2.86zM5.41 20L4 18.59l7.72-7.72 1.47 1.35L5.41 20z\"/>\n",
              "  </svg>\n",
              "      </button>\n",
              "      \n",
              "  <style>\n",
              "    .colab-df-container {\n",
              "      display:flex;\n",
              "      flex-wrap:wrap;\n",
              "      gap: 12px;\n",
              "    }\n",
              "\n",
              "    .colab-df-convert {\n",
              "      background-color: #E8F0FE;\n",
              "      border: none;\n",
              "      border-radius: 50%;\n",
              "      cursor: pointer;\n",
              "      display: none;\n",
              "      fill: #1967D2;\n",
              "      height: 32px;\n",
              "      padding: 0 0 0 0;\n",
              "      width: 32px;\n",
              "    }\n",
              "\n",
              "    .colab-df-convert:hover {\n",
              "      background-color: #E2EBFA;\n",
              "      box-shadow: 0px 1px 2px rgba(60, 64, 67, 0.3), 0px 1px 3px 1px rgba(60, 64, 67, 0.15);\n",
              "      fill: #174EA6;\n",
              "    }\n",
              "\n",
              "    [theme=dark] .colab-df-convert {\n",
              "      background-color: #3B4455;\n",
              "      fill: #D2E3FC;\n",
              "    }\n",
              "\n",
              "    [theme=dark] .colab-df-convert:hover {\n",
              "      background-color: #434B5C;\n",
              "      box-shadow: 0px 1px 3px 1px rgba(0, 0, 0, 0.15);\n",
              "      filter: drop-shadow(0px 1px 2px rgba(0, 0, 0, 0.3));\n",
              "      fill: #FFFFFF;\n",
              "    }\n",
              "  </style>\n",
              "\n",
              "      <script>\n",
              "        const buttonEl =\n",
              "          document.querySelector('#df-fba7744c-ed25-4251-9705-eecc16dd7221 button.colab-df-convert');\n",
              "        buttonEl.style.display =\n",
              "          google.colab.kernel.accessAllowed ? 'block' : 'none';\n",
              "\n",
              "        async function convertToInteractive(key) {\n",
              "          const element = document.querySelector('#df-fba7744c-ed25-4251-9705-eecc16dd7221');\n",
              "          const dataTable =\n",
              "            await google.colab.kernel.invokeFunction('convertToInteractive',\n",
              "                                                     [key], {});\n",
              "          if (!dataTable) return;\n",
              "\n",
              "          const docLinkHtml = 'Like what you see? Visit the ' +\n",
              "            '<a target=\"_blank\" href=https://colab.research.google.com/notebooks/data_table.ipynb>data table notebook</a>'\n",
              "            + ' to learn more about interactive tables.';\n",
              "          element.innerHTML = '';\n",
              "          dataTable['output_type'] = 'display_data';\n",
              "          await google.colab.output.renderOutput(dataTable, element);\n",
              "          const docLink = document.createElement('div');\n",
              "          docLink.innerHTML = docLinkHtml;\n",
              "          element.appendChild(docLink);\n",
              "        }\n",
              "      </script>\n",
              "    </div>\n",
              "  </div>\n",
              "  "
            ]
          },
          "metadata": {},
          "execution_count": 4
        }
      ],
      "source": [
        "insurance.head()"
      ]
    },
    {
      "cell_type": "code",
      "execution_count": 5,
      "id": "469ea83d",
      "metadata": {
        "colab": {
          "base_uri": "https://localhost:8080/"
        },
        "id": "469ea83d",
        "outputId": "2e34a4c2-f3ba-40b7-d3da-2c1ec3a45f4a"
      },
      "outputs": [
        {
          "output_type": "execute_result",
          "data": {
            "text/plain": [
              "(1338, 13)"
            ]
          },
          "metadata": {},
          "execution_count": 5
        }
      ],
      "source": [
        "insurance.shape"
      ]
    },
    {
      "cell_type": "code",
      "execution_count": 7,
      "id": "fc0c2381",
      "metadata": {
        "colab": {
          "base_uri": "https://localhost:8080/"
        },
        "id": "fc0c2381",
        "outputId": "415a4d8d-a2da-4b5b-a8f8-67ebc6666674"
      },
      "outputs": [
        {
          "output_type": "stream",
          "name": "stdout",
          "text": [
            "<class 'pandas.core.frame.DataFrame'>\n",
            "RangeIndex: 1338 entries, 0 to 1337\n",
            "Data columns (total 13 columns):\n",
            " #   Column                           Non-Null Count  Dtype  \n",
            "---  ------                           --------------  -----  \n",
            " 0   age                              1329 non-null   float64\n",
            " 1   sex                              1338 non-null   object \n",
            " 2   bmi                              1335 non-null   float64\n",
            " 3   children                         1333 non-null   float64\n",
            " 4   smoker                           1338 non-null   object \n",
            " 5   Claim_Amount                     1324 non-null   float64\n",
            " 6   past_consultations               1332 non-null   float64\n",
            " 7   num_of_steps                     1335 non-null   float64\n",
            " 8   Hospital_expenditure             1334 non-null   float64\n",
            " 9   NUmber_of_past_hospitalizations  1336 non-null   float64\n",
            " 10  Anual_Salary                     1332 non-null   float64\n",
            " 11  region                           1338 non-null   object \n",
            " 12  charges                          1338 non-null   float64\n",
            "dtypes: float64(10), object(3)\n",
            "memory usage: 136.0+ KB\n"
          ]
        }
      ],
      "source": [
        "insurance.info()"
      ]
    },
    {
      "cell_type": "code",
      "source": [
        "1329 -1338"
      ],
      "metadata": {
        "colab": {
          "base_uri": "https://localhost:8080/"
        },
        "id": "5GJ-yQaYfFbQ",
        "outputId": "418f1932-b3df-400c-ac78-ff9499368f51"
      },
      "id": "5GJ-yQaYfFbQ",
      "execution_count": 6,
      "outputs": [
        {
          "output_type": "execute_result",
          "data": {
            "text/plain": [
              "-9"
            ]
          },
          "metadata": {},
          "execution_count": 6
        }
      ]
    },
    {
      "cell_type": "code",
      "execution_count": null,
      "id": "c7c161c9",
      "metadata": {
        "id": "c7c161c9",
        "outputId": "d0d1d2c4-c488-4c92-b747-689c4482e10c"
      },
      "outputs": [
        {
          "data": {
            "text/html": [
              "<div>\n",
              "<style scoped>\n",
              "    .dataframe tbody tr th:only-of-type {\n",
              "        vertical-align: middle;\n",
              "    }\n",
              "\n",
              "    .dataframe tbody tr th {\n",
              "        vertical-align: top;\n",
              "    }\n",
              "\n",
              "    .dataframe thead th {\n",
              "        text-align: right;\n",
              "    }\n",
              "</style>\n",
              "<table border=\"1\" class=\"dataframe\">\n",
              "  <thead>\n",
              "    <tr style=\"text-align: right;\">\n",
              "      <th></th>\n",
              "      <th>age</th>\n",
              "      <th>sex</th>\n",
              "      <th>bmi</th>\n",
              "      <th>children</th>\n",
              "      <th>smoker</th>\n",
              "      <th>Claim_Amount</th>\n",
              "      <th>past_consultations</th>\n",
              "      <th>num_of_steps</th>\n",
              "      <th>Hospital_expenditure</th>\n",
              "      <th>NUmber_of_past_hospitalizations</th>\n",
              "      <th>Anual_Salary</th>\n",
              "      <th>region</th>\n",
              "      <th>charges</th>\n",
              "    </tr>\n",
              "  </thead>\n",
              "  <tbody>\n",
              "    <tr>\n",
              "      <th>0</th>\n",
              "      <td>False</td>\n",
              "      <td>False</td>\n",
              "      <td>False</td>\n",
              "      <td>False</td>\n",
              "      <td>False</td>\n",
              "      <td>False</td>\n",
              "      <td>False</td>\n",
              "      <td>False</td>\n",
              "      <td>False</td>\n",
              "      <td>False</td>\n",
              "      <td>False</td>\n",
              "      <td>False</td>\n",
              "      <td>False</td>\n",
              "    </tr>\n",
              "    <tr>\n",
              "      <th>1</th>\n",
              "      <td>False</td>\n",
              "      <td>False</td>\n",
              "      <td>False</td>\n",
              "      <td>False</td>\n",
              "      <td>False</td>\n",
              "      <td>False</td>\n",
              "      <td>False</td>\n",
              "      <td>False</td>\n",
              "      <td>False</td>\n",
              "      <td>False</td>\n",
              "      <td>False</td>\n",
              "      <td>False</td>\n",
              "      <td>False</td>\n",
              "    </tr>\n",
              "    <tr>\n",
              "      <th>2</th>\n",
              "      <td>False</td>\n",
              "      <td>False</td>\n",
              "      <td>False</td>\n",
              "      <td>False</td>\n",
              "      <td>False</td>\n",
              "      <td>False</td>\n",
              "      <td>False</td>\n",
              "      <td>False</td>\n",
              "      <td>False</td>\n",
              "      <td>False</td>\n",
              "      <td>False</td>\n",
              "      <td>False</td>\n",
              "      <td>False</td>\n",
              "    </tr>\n",
              "    <tr>\n",
              "      <th>3</th>\n",
              "      <td>False</td>\n",
              "      <td>False</td>\n",
              "      <td>False</td>\n",
              "      <td>False</td>\n",
              "      <td>False</td>\n",
              "      <td>False</td>\n",
              "      <td>False</td>\n",
              "      <td>False</td>\n",
              "      <td>False</td>\n",
              "      <td>False</td>\n",
              "      <td>False</td>\n",
              "      <td>False</td>\n",
              "      <td>False</td>\n",
              "    </tr>\n",
              "    <tr>\n",
              "      <th>4</th>\n",
              "      <td>False</td>\n",
              "      <td>False</td>\n",
              "      <td>False</td>\n",
              "      <td>False</td>\n",
              "      <td>False</td>\n",
              "      <td>False</td>\n",
              "      <td>False</td>\n",
              "      <td>False</td>\n",
              "      <td>False</td>\n",
              "      <td>False</td>\n",
              "      <td>False</td>\n",
              "      <td>False</td>\n",
              "      <td>False</td>\n",
              "    </tr>\n",
              "    <tr>\n",
              "      <th>...</th>\n",
              "      <td>...</td>\n",
              "      <td>...</td>\n",
              "      <td>...</td>\n",
              "      <td>...</td>\n",
              "      <td>...</td>\n",
              "      <td>...</td>\n",
              "      <td>...</td>\n",
              "      <td>...</td>\n",
              "      <td>...</td>\n",
              "      <td>...</td>\n",
              "      <td>...</td>\n",
              "      <td>...</td>\n",
              "      <td>...</td>\n",
              "    </tr>\n",
              "    <tr>\n",
              "      <th>1333</th>\n",
              "      <td>False</td>\n",
              "      <td>False</td>\n",
              "      <td>False</td>\n",
              "      <td>False</td>\n",
              "      <td>False</td>\n",
              "      <td>False</td>\n",
              "      <td>False</td>\n",
              "      <td>False</td>\n",
              "      <td>False</td>\n",
              "      <td>False</td>\n",
              "      <td>False</td>\n",
              "      <td>False</td>\n",
              "      <td>False</td>\n",
              "    </tr>\n",
              "    <tr>\n",
              "      <th>1334</th>\n",
              "      <td>False</td>\n",
              "      <td>False</td>\n",
              "      <td>False</td>\n",
              "      <td>False</td>\n",
              "      <td>False</td>\n",
              "      <td>False</td>\n",
              "      <td>False</td>\n",
              "      <td>False</td>\n",
              "      <td>False</td>\n",
              "      <td>False</td>\n",
              "      <td>False</td>\n",
              "      <td>False</td>\n",
              "      <td>False</td>\n",
              "    </tr>\n",
              "    <tr>\n",
              "      <th>1335</th>\n",
              "      <td>False</td>\n",
              "      <td>False</td>\n",
              "      <td>False</td>\n",
              "      <td>False</td>\n",
              "      <td>False</td>\n",
              "      <td>False</td>\n",
              "      <td>False</td>\n",
              "      <td>False</td>\n",
              "      <td>False</td>\n",
              "      <td>False</td>\n",
              "      <td>False</td>\n",
              "      <td>False</td>\n",
              "      <td>False</td>\n",
              "    </tr>\n",
              "    <tr>\n",
              "      <th>1336</th>\n",
              "      <td>False</td>\n",
              "      <td>False</td>\n",
              "      <td>False</td>\n",
              "      <td>False</td>\n",
              "      <td>False</td>\n",
              "      <td>False</td>\n",
              "      <td>False</td>\n",
              "      <td>False</td>\n",
              "      <td>False</td>\n",
              "      <td>False</td>\n",
              "      <td>False</td>\n",
              "      <td>False</td>\n",
              "      <td>False</td>\n",
              "    </tr>\n",
              "    <tr>\n",
              "      <th>1337</th>\n",
              "      <td>False</td>\n",
              "      <td>False</td>\n",
              "      <td>False</td>\n",
              "      <td>False</td>\n",
              "      <td>False</td>\n",
              "      <td>False</td>\n",
              "      <td>False</td>\n",
              "      <td>False</td>\n",
              "      <td>False</td>\n",
              "      <td>False</td>\n",
              "      <td>False</td>\n",
              "      <td>False</td>\n",
              "      <td>False</td>\n",
              "    </tr>\n",
              "  </tbody>\n",
              "</table>\n",
              "<p>1338 rows × 13 columns</p>\n",
              "</div>"
            ],
            "text/plain": [
              "        age    sex    bmi  children  smoker  Claim_Amount  past_consultations  \\\n",
              "0     False  False  False     False   False         False               False   \n",
              "1     False  False  False     False   False         False               False   \n",
              "2     False  False  False     False   False         False               False   \n",
              "3     False  False  False     False   False         False               False   \n",
              "4     False  False  False     False   False         False               False   \n",
              "...     ...    ...    ...       ...     ...           ...                 ...   \n",
              "1333  False  False  False     False   False         False               False   \n",
              "1334  False  False  False     False   False         False               False   \n",
              "1335  False  False  False     False   False         False               False   \n",
              "1336  False  False  False     False   False         False               False   \n",
              "1337  False  False  False     False   False         False               False   \n",
              "\n",
              "      num_of_steps  Hospital_expenditure  NUmber_of_past_hospitalizations  \\\n",
              "0            False                 False                            False   \n",
              "1            False                 False                            False   \n",
              "2            False                 False                            False   \n",
              "3            False                 False                            False   \n",
              "4            False                 False                            False   \n",
              "...            ...                   ...                              ...   \n",
              "1333         False                 False                            False   \n",
              "1334         False                 False                            False   \n",
              "1335         False                 False                            False   \n",
              "1336         False                 False                            False   \n",
              "1337         False                 False                            False   \n",
              "\n",
              "      Anual_Salary  region  charges  \n",
              "0            False   False    False  \n",
              "1            False   False    False  \n",
              "2            False   False    False  \n",
              "3            False   False    False  \n",
              "4            False   False    False  \n",
              "...            ...     ...      ...  \n",
              "1333         False   False    False  \n",
              "1334         False   False    False  \n",
              "1335         False   False    False  \n",
              "1336         False   False    False  \n",
              "1337         False   False    False  \n",
              "\n",
              "[1338 rows x 13 columns]"
            ]
          },
          "execution_count": 5,
          "metadata": {},
          "output_type": "execute_result"
        }
      ],
      "source": [
        "insurance.isnull()"
      ]
    },
    {
      "cell_type": "code",
      "execution_count": 8,
      "id": "964ee215",
      "metadata": {
        "colab": {
          "base_uri": "https://localhost:8080/"
        },
        "id": "964ee215",
        "outputId": "0d0dd9e1-cdd0-47fd-d4b2-1260dfa44a96"
      },
      "outputs": [
        {
          "output_type": "execute_result",
          "data": {
            "text/plain": [
              "age                                 9\n",
              "sex                                 0\n",
              "bmi                                 3\n",
              "children                            5\n",
              "smoker                              0\n",
              "Claim_Amount                       14\n",
              "past_consultations                  6\n",
              "num_of_steps                        3\n",
              "Hospital_expenditure                4\n",
              "NUmber_of_past_hospitalizations     2\n",
              "Anual_Salary                        6\n",
              "region                              0\n",
              "charges                             0\n",
              "dtype: int64"
            ]
          },
          "metadata": {},
          "execution_count": 8
        }
      ],
      "source": [
        "insurance.isnull().sum()"
      ]
    },
    {
      "cell_type": "code",
      "execution_count": null,
      "id": "8810aa7d",
      "metadata": {
        "id": "8810aa7d",
        "outputId": "e1fa95a0-c7f7-4cf3-9944-341e2d2b5bd8"
      },
      "outputs": [
        {
          "data": {
            "text/html": [
              "<div>\n",
              "<style scoped>\n",
              "    .dataframe tbody tr th:only-of-type {\n",
              "        vertical-align: middle;\n",
              "    }\n",
              "\n",
              "    .dataframe tbody tr th {\n",
              "        vertical-align: top;\n",
              "    }\n",
              "\n",
              "    .dataframe thead th {\n",
              "        text-align: right;\n",
              "    }\n",
              "</style>\n",
              "<table border=\"1\" class=\"dataframe\">\n",
              "  <thead>\n",
              "    <tr style=\"text-align: right;\">\n",
              "      <th></th>\n",
              "      <th>age</th>\n",
              "      <th>sex</th>\n",
              "      <th>bmi</th>\n",
              "      <th>children</th>\n",
              "      <th>smoker</th>\n",
              "      <th>Claim_Amount</th>\n",
              "      <th>past_consultations</th>\n",
              "      <th>num_of_steps</th>\n",
              "      <th>Hospital_expenditure</th>\n",
              "      <th>NUmber_of_past_hospitalizations</th>\n",
              "      <th>Anual_Salary</th>\n",
              "      <th>region</th>\n",
              "      <th>charges</th>\n",
              "    </tr>\n",
              "  </thead>\n",
              "  <tbody>\n",
              "    <tr>\n",
              "      <th>1333</th>\n",
              "      <td>33.0</td>\n",
              "      <td>female</td>\n",
              "      <td>35.530</td>\n",
              "      <td>0.0</td>\n",
              "      <td>yes</td>\n",
              "      <td>63142.25346</td>\n",
              "      <td>32.0</td>\n",
              "      <td>1091267.0</td>\n",
              "      <td>170380500.5</td>\n",
              "      <td>2.0</td>\n",
              "      <td>3.101107e+09</td>\n",
              "      <td>northwest</td>\n",
              "      <td>55135.40209</td>\n",
              "    </tr>\n",
              "    <tr>\n",
              "      <th>1334</th>\n",
              "      <td>31.0</td>\n",
              "      <td>female</td>\n",
              "      <td>38.095</td>\n",
              "      <td>1.0</td>\n",
              "      <td>yes</td>\n",
              "      <td>43419.95227</td>\n",
              "      <td>31.0</td>\n",
              "      <td>1107872.0</td>\n",
              "      <td>201515184.8</td>\n",
              "      <td>2.0</td>\n",
              "      <td>3.484216e+09</td>\n",
              "      <td>northeast</td>\n",
              "      <td>58571.07448</td>\n",
              "    </tr>\n",
              "    <tr>\n",
              "      <th>1335</th>\n",
              "      <td>52.0</td>\n",
              "      <td>male</td>\n",
              "      <td>34.485</td>\n",
              "      <td>3.0</td>\n",
              "      <td>yes</td>\n",
              "      <td>52458.92353</td>\n",
              "      <td>25.0</td>\n",
              "      <td>1092005.0</td>\n",
              "      <td>223644981.3</td>\n",
              "      <td>2.0</td>\n",
              "      <td>3.640807e+09</td>\n",
              "      <td>northwest</td>\n",
              "      <td>60021.39897</td>\n",
              "    </tr>\n",
              "    <tr>\n",
              "      <th>1336</th>\n",
              "      <td>45.0</td>\n",
              "      <td>male</td>\n",
              "      <td>30.360</td>\n",
              "      <td>0.0</td>\n",
              "      <td>yes</td>\n",
              "      <td>69927.51664</td>\n",
              "      <td>34.0</td>\n",
              "      <td>1106821.0</td>\n",
              "      <td>252892382.6</td>\n",
              "      <td>3.0</td>\n",
              "      <td>4.006359e+09</td>\n",
              "      <td>southeast</td>\n",
              "      <td>62592.87309</td>\n",
              "    </tr>\n",
              "    <tr>\n",
              "      <th>1337</th>\n",
              "      <td>54.0</td>\n",
              "      <td>female</td>\n",
              "      <td>47.410</td>\n",
              "      <td>0.0</td>\n",
              "      <td>yes</td>\n",
              "      <td>63982.80926</td>\n",
              "      <td>31.0</td>\n",
              "      <td>1100328.0</td>\n",
              "      <td>261631699.3</td>\n",
              "      <td>3.0</td>\n",
              "      <td>4.117197e+09</td>\n",
              "      <td>southeast</td>\n",
              "      <td>63770.42801</td>\n",
              "    </tr>\n",
              "  </tbody>\n",
              "</table>\n",
              "</div>"
            ],
            "text/plain": [
              "       age     sex     bmi  children smoker  Claim_Amount  past_consultations  \\\n",
              "1333  33.0  female  35.530       0.0    yes   63142.25346                32.0   \n",
              "1334  31.0  female  38.095       1.0    yes   43419.95227                31.0   \n",
              "1335  52.0    male  34.485       3.0    yes   52458.92353                25.0   \n",
              "1336  45.0    male  30.360       0.0    yes   69927.51664                34.0   \n",
              "1337  54.0  female  47.410       0.0    yes   63982.80926                31.0   \n",
              "\n",
              "      num_of_steps  Hospital_expenditure  NUmber_of_past_hospitalizations  \\\n",
              "1333     1091267.0           170380500.5                              2.0   \n",
              "1334     1107872.0           201515184.8                              2.0   \n",
              "1335     1092005.0           223644981.3                              2.0   \n",
              "1336     1106821.0           252892382.6                              3.0   \n",
              "1337     1100328.0           261631699.3                              3.0   \n",
              "\n",
              "      Anual_Salary     region      charges  \n",
              "1333  3.101107e+09  northwest  55135.40209  \n",
              "1334  3.484216e+09  northeast  58571.07448  \n",
              "1335  3.640807e+09  northwest  60021.39897  \n",
              "1336  4.006359e+09  southeast  62592.87309  \n",
              "1337  4.117197e+09  southeast  63770.42801  "
            ]
          },
          "execution_count": 7,
          "metadata": {},
          "output_type": "execute_result"
        }
      ],
      "source": [
        "insurance.tail()"
      ]
    },
    {
      "cell_type": "code",
      "execution_count": null,
      "id": "36f8177b",
      "metadata": {
        "id": "36f8177b",
        "outputId": "c45b6838-5402-4fdb-b5f1-076065a82c09"
      },
      "outputs": [
        {
          "data": {
            "text/html": [
              "<div>\n",
              "<style scoped>\n",
              "    .dataframe tbody tr th:only-of-type {\n",
              "        vertical-align: middle;\n",
              "    }\n",
              "\n",
              "    .dataframe tbody tr th {\n",
              "        vertical-align: top;\n",
              "    }\n",
              "\n",
              "    .dataframe thead th {\n",
              "        text-align: right;\n",
              "    }\n",
              "</style>\n",
              "<table border=\"1\" class=\"dataframe\">\n",
              "  <thead>\n",
              "    <tr style=\"text-align: right;\">\n",
              "      <th></th>\n",
              "      <th>age</th>\n",
              "      <th>sex</th>\n",
              "      <th>bmi</th>\n",
              "      <th>children</th>\n",
              "      <th>smoker</th>\n",
              "      <th>Claim_Amount</th>\n",
              "      <th>past_consultations</th>\n",
              "      <th>num_of_steps</th>\n",
              "      <th>Hospital_expenditure</th>\n",
              "      <th>NUmber_of_past_hospitalizations</th>\n",
              "      <th>Anual_Salary</th>\n",
              "      <th>region</th>\n",
              "      <th>charges</th>\n",
              "    </tr>\n",
              "  </thead>\n",
              "  <tbody>\n",
              "    <tr>\n",
              "      <th>0</th>\n",
              "      <td>18.0</td>\n",
              "      <td>male</td>\n",
              "      <td>23.210</td>\n",
              "      <td>0.0</td>\n",
              "      <td>no</td>\n",
              "      <td>29087.54313</td>\n",
              "      <td>17.0</td>\n",
              "      <td>715428.0</td>\n",
              "      <td>4.720921e+06</td>\n",
              "      <td>0.0</td>\n",
              "      <td>5.578497e+07</td>\n",
              "      <td>southeast</td>\n",
              "      <td>1121.87390</td>\n",
              "    </tr>\n",
              "    <tr>\n",
              "      <th>1</th>\n",
              "      <td>18.0</td>\n",
              "      <td>male</td>\n",
              "      <td>30.140</td>\n",
              "      <td>0.0</td>\n",
              "      <td>no</td>\n",
              "      <td>39053.67437</td>\n",
              "      <td>7.0</td>\n",
              "      <td>699157.0</td>\n",
              "      <td>4.329832e+06</td>\n",
              "      <td>0.0</td>\n",
              "      <td>1.370089e+07</td>\n",
              "      <td>southeast</td>\n",
              "      <td>1131.50660</td>\n",
              "    </tr>\n",
              "    <tr>\n",
              "      <th>2</th>\n",
              "      <td>18.0</td>\n",
              "      <td>male</td>\n",
              "      <td>33.330</td>\n",
              "      <td>0.0</td>\n",
              "      <td>no</td>\n",
              "      <td>39023.62759</td>\n",
              "      <td>19.0</td>\n",
              "      <td>702341.0</td>\n",
              "      <td>6.884861e+06</td>\n",
              "      <td>0.0</td>\n",
              "      <td>7.352311e+07</td>\n",
              "      <td>southeast</td>\n",
              "      <td>1135.94070</td>\n",
              "    </tr>\n",
              "    <tr>\n",
              "      <th>3</th>\n",
              "      <td>18.0</td>\n",
              "      <td>male</td>\n",
              "      <td>33.660</td>\n",
              "      <td>0.0</td>\n",
              "      <td>no</td>\n",
              "      <td>28185.39332</td>\n",
              "      <td>11.0</td>\n",
              "      <td>700250.0</td>\n",
              "      <td>4.274774e+06</td>\n",
              "      <td>0.0</td>\n",
              "      <td>7.581968e+07</td>\n",
              "      <td>southeast</td>\n",
              "      <td>1136.39940</td>\n",
              "    </tr>\n",
              "    <tr>\n",
              "      <th>4</th>\n",
              "      <td>18.0</td>\n",
              "      <td>male</td>\n",
              "      <td>34.100</td>\n",
              "      <td>0.0</td>\n",
              "      <td>no</td>\n",
              "      <td>14697.85941</td>\n",
              "      <td>16.0</td>\n",
              "      <td>711584.0</td>\n",
              "      <td>3.787294e+06</td>\n",
              "      <td>0.0</td>\n",
              "      <td>2.301232e+07</td>\n",
              "      <td>southeast</td>\n",
              "      <td>1137.01100</td>\n",
              "    </tr>\n",
              "    <tr>\n",
              "      <th>...</th>\n",
              "      <td>...</td>\n",
              "      <td>...</td>\n",
              "      <td>...</td>\n",
              "      <td>...</td>\n",
              "      <td>...</td>\n",
              "      <td>...</td>\n",
              "      <td>...</td>\n",
              "      <td>...</td>\n",
              "      <td>...</td>\n",
              "      <td>...</td>\n",
              "      <td>...</td>\n",
              "      <td>...</td>\n",
              "      <td>...</td>\n",
              "    </tr>\n",
              "    <tr>\n",
              "      <th>1333</th>\n",
              "      <td>33.0</td>\n",
              "      <td>female</td>\n",
              "      <td>35.530</td>\n",
              "      <td>0.0</td>\n",
              "      <td>yes</td>\n",
              "      <td>63142.25346</td>\n",
              "      <td>32.0</td>\n",
              "      <td>1091267.0</td>\n",
              "      <td>1.703805e+08</td>\n",
              "      <td>2.0</td>\n",
              "      <td>3.101107e+09</td>\n",
              "      <td>northwest</td>\n",
              "      <td>55135.40209</td>\n",
              "    </tr>\n",
              "    <tr>\n",
              "      <th>1334</th>\n",
              "      <td>31.0</td>\n",
              "      <td>female</td>\n",
              "      <td>38.095</td>\n",
              "      <td>1.0</td>\n",
              "      <td>yes</td>\n",
              "      <td>43419.95227</td>\n",
              "      <td>31.0</td>\n",
              "      <td>1107872.0</td>\n",
              "      <td>2.015152e+08</td>\n",
              "      <td>2.0</td>\n",
              "      <td>3.484216e+09</td>\n",
              "      <td>northeast</td>\n",
              "      <td>58571.07448</td>\n",
              "    </tr>\n",
              "    <tr>\n",
              "      <th>1335</th>\n",
              "      <td>52.0</td>\n",
              "      <td>male</td>\n",
              "      <td>34.485</td>\n",
              "      <td>3.0</td>\n",
              "      <td>yes</td>\n",
              "      <td>52458.92353</td>\n",
              "      <td>25.0</td>\n",
              "      <td>1092005.0</td>\n",
              "      <td>2.236450e+08</td>\n",
              "      <td>2.0</td>\n",
              "      <td>3.640807e+09</td>\n",
              "      <td>northwest</td>\n",
              "      <td>60021.39897</td>\n",
              "    </tr>\n",
              "    <tr>\n",
              "      <th>1336</th>\n",
              "      <td>45.0</td>\n",
              "      <td>male</td>\n",
              "      <td>30.360</td>\n",
              "      <td>0.0</td>\n",
              "      <td>yes</td>\n",
              "      <td>69927.51664</td>\n",
              "      <td>34.0</td>\n",
              "      <td>1106821.0</td>\n",
              "      <td>2.528924e+08</td>\n",
              "      <td>3.0</td>\n",
              "      <td>4.006359e+09</td>\n",
              "      <td>southeast</td>\n",
              "      <td>62592.87309</td>\n",
              "    </tr>\n",
              "    <tr>\n",
              "      <th>1337</th>\n",
              "      <td>54.0</td>\n",
              "      <td>female</td>\n",
              "      <td>47.410</td>\n",
              "      <td>0.0</td>\n",
              "      <td>yes</td>\n",
              "      <td>63982.80926</td>\n",
              "      <td>31.0</td>\n",
              "      <td>1100328.0</td>\n",
              "      <td>2.616317e+08</td>\n",
              "      <td>3.0</td>\n",
              "      <td>4.117197e+09</td>\n",
              "      <td>southeast</td>\n",
              "      <td>63770.42801</td>\n",
              "    </tr>\n",
              "  </tbody>\n",
              "</table>\n",
              "<p>1338 rows × 13 columns</p>\n",
              "</div>"
            ],
            "text/plain": [
              "       age     sex     bmi  children smoker  Claim_Amount  past_consultations  \\\n",
              "0     18.0    male  23.210       0.0     no   29087.54313                17.0   \n",
              "1     18.0    male  30.140       0.0     no   39053.67437                 7.0   \n",
              "2     18.0    male  33.330       0.0     no   39023.62759                19.0   \n",
              "3     18.0    male  33.660       0.0     no   28185.39332                11.0   \n",
              "4     18.0    male  34.100       0.0     no   14697.85941                16.0   \n",
              "...    ...     ...     ...       ...    ...           ...                 ...   \n",
              "1333  33.0  female  35.530       0.0    yes   63142.25346                32.0   \n",
              "1334  31.0  female  38.095       1.0    yes   43419.95227                31.0   \n",
              "1335  52.0    male  34.485       3.0    yes   52458.92353                25.0   \n",
              "1336  45.0    male  30.360       0.0    yes   69927.51664                34.0   \n",
              "1337  54.0  female  47.410       0.0    yes   63982.80926                31.0   \n",
              "\n",
              "      num_of_steps  Hospital_expenditure  NUmber_of_past_hospitalizations  \\\n",
              "0         715428.0          4.720921e+06                              0.0   \n",
              "1         699157.0          4.329832e+06                              0.0   \n",
              "2         702341.0          6.884861e+06                              0.0   \n",
              "3         700250.0          4.274774e+06                              0.0   \n",
              "4         711584.0          3.787294e+06                              0.0   \n",
              "...            ...                   ...                              ...   \n",
              "1333     1091267.0          1.703805e+08                              2.0   \n",
              "1334     1107872.0          2.015152e+08                              2.0   \n",
              "1335     1092005.0          2.236450e+08                              2.0   \n",
              "1336     1106821.0          2.528924e+08                              3.0   \n",
              "1337     1100328.0          2.616317e+08                              3.0   \n",
              "\n",
              "      Anual_Salary     region      charges  \n",
              "0     5.578497e+07  southeast   1121.87390  \n",
              "1     1.370089e+07  southeast   1131.50660  \n",
              "2     7.352311e+07  southeast   1135.94070  \n",
              "3     7.581968e+07  southeast   1136.39940  \n",
              "4     2.301232e+07  southeast   1137.01100  \n",
              "...            ...        ...          ...  \n",
              "1333  3.101107e+09  northwest  55135.40209  \n",
              "1334  3.484216e+09  northeast  58571.07448  \n",
              "1335  3.640807e+09  northwest  60021.39897  \n",
              "1336  4.006359e+09  southeast  62592.87309  \n",
              "1337  4.117197e+09  southeast  63770.42801  \n",
              "\n",
              "[1338 rows x 13 columns]"
            ]
          },
          "execution_count": 8,
          "metadata": {},
          "output_type": "execute_result"
        }
      ],
      "source": [
        "insurance"
      ]
    },
    {
      "cell_type": "code",
      "execution_count": 13,
      "id": "dde2fb0d",
      "metadata": {
        "colab": {
          "base_uri": "https://localhost:8080/"
        },
        "id": "dde2fb0d",
        "outputId": "516d478d-1a51-4c3d-b367-d01c4b589316"
      },
      "outputs": [
        {
          "output_type": "execute_result",
          "data": {
            "text/plain": [
              "Index(['age', 'sex', 'bmi', 'children', 'smoker', 'Claim_Amount',\n",
              "       'past_consultations', 'num_of_steps', 'Hospital_expenditure',\n",
              "       'NUmber_of_past_hospitalizations', 'Anual_Salary', 'region', 'charges'],\n",
              "      dtype='object')"
            ]
          },
          "metadata": {},
          "execution_count": 13
        }
      ],
      "source": [
        "insurance.columns"
      ]
    },
    {
      "cell_type": "code",
      "execution_count": 10,
      "id": "6f308235",
      "metadata": {
        "id": "6f308235"
      },
      "outputs": [],
      "source": [
        "col=list(insurance.columns)"
      ]
    },
    {
      "cell_type": "code",
      "execution_count": 11,
      "id": "d628b87a",
      "metadata": {
        "colab": {
          "base_uri": "https://localhost:8080/"
        },
        "id": "d628b87a",
        "outputId": "d7a689a6-8765-4fc1-a4a7-888ae89c9e94"
      },
      "outputs": [
        {
          "output_type": "execute_result",
          "data": {
            "text/plain": [
              "['age',\n",
              " 'sex',\n",
              " 'bmi',\n",
              " 'children',\n",
              " 'smoker',\n",
              " 'Claim_Amount',\n",
              " 'past_consultations',\n",
              " 'num_of_steps',\n",
              " 'Hospital_expenditure',\n",
              " 'NUmber_of_past_hospitalizations',\n",
              " 'Anual_Salary',\n",
              " 'region',\n",
              " 'charges']"
            ]
          },
          "metadata": {},
          "execution_count": 11
        }
      ],
      "source": [
        "col"
      ]
    },
    {
      "cell_type": "code",
      "source": [
        "type(col)"
      ],
      "metadata": {
        "colab": {
          "base_uri": "https://localhost:8080/"
        },
        "id": "qajQ8agjgd6J",
        "outputId": "a04c946b-70fc-49e8-aa90-2d7b88fe32d8"
      },
      "id": "qajQ8agjgd6J",
      "execution_count": 14,
      "outputs": [
        {
          "output_type": "execute_result",
          "data": {
            "text/plain": [
              "list"
            ]
          },
          "metadata": {},
          "execution_count": 14
        }
      ]
    },
    {
      "cell_type": "code",
      "execution_count": null,
      "id": "2cc9da65",
      "metadata": {
        "id": "2cc9da65"
      },
      "outputs": [],
      "source": [
        "#10,30,40,70,5,3, ,60,78"
      ]
    },
    {
      "cell_type": "code",
      "execution_count": null,
      "id": "b808e24c",
      "metadata": {
        "id": "b808e24c"
      },
      "outputs": [],
      "source": [
        "#"
      ]
    },
    {
      "cell_type": "code",
      "execution_count": null,
      "id": "ee0b8314",
      "metadata": {
        "id": "ee0b8314",
        "outputId": "ef23f146-e9ac-4fd2-a758-b4163e0ca1a5"
      },
      "outputs": [
        {
          "data": {
            "text/plain": [
              "0    no\n",
              "dtype: object"
            ]
          },
          "execution_count": 14,
          "metadata": {},
          "output_type": "execute_result"
        }
      ],
      "source": [
        "insurance['smoker'].mode()"
      ]
    },
    {
      "cell_type": "code",
      "execution_count": 23,
      "id": "fb724242",
      "metadata": {
        "colab": {
          "base_uri": "https://localhost:8080/",
          "height": 35
        },
        "id": "fb724242",
        "outputId": "9f753ef1-eca1-4ddc-8b2e-73d652a5181c"
      },
      "outputs": [
        {
          "output_type": "execute_result",
          "data": {
            "text/plain": [
              "'no'"
            ],
            "application/vnd.google.colaboratory.intrinsic+json": {
              "type": "string"
            }
          },
          "metadata": {},
          "execution_count": 23
        }
      ],
      "source": [
        "insurance['smoker'].mode()[0]"
      ]
    },
    {
      "cell_type": "code",
      "source": [
        "insurance['children'].mean()"
      ],
      "metadata": {
        "colab": {
          "base_uri": "https://localhost:8080/"
        },
        "id": "SNvre2BCkuFC",
        "outputId": "3c4307dd-1f91-4c02-b638-ac59b0d502ef"
      },
      "id": "SNvre2BCkuFC",
      "execution_count": 19,
      "outputs": [
        {
          "output_type": "execute_result",
          "data": {
            "text/plain": [
              "1.0907726931732933"
            ]
          },
          "metadata": {},
          "execution_count": 19
        }
      ]
    },
    {
      "cell_type": "code",
      "execution_count": null,
      "id": "23df7962",
      "metadata": {
        "id": "23df7962",
        "outputId": "68037570-3315-4990-a519-5df724699b4a"
      },
      "outputs": [
        {
          "data": {
            "text/plain": [
              "39.31000752445448"
            ]
          },
          "execution_count": 16,
          "metadata": {},
          "output_type": "execute_result"
        }
      ],
      "source": [
        "insurance['age'].mean()"
      ]
    },
    {
      "cell_type": "code",
      "source": [
        "insurance.isnull().sum()"
      ],
      "metadata": {
        "colab": {
          "base_uri": "https://localhost:8080/"
        },
        "id": "qig440OVkJXz",
        "outputId": "17fe6baf-b39b-499d-afd0-758146b97fda"
      },
      "id": "qig440OVkJXz",
      "execution_count": 17,
      "outputs": [
        {
          "output_type": "execute_result",
          "data": {
            "text/plain": [
              "age                                 9\n",
              "sex                                 0\n",
              "bmi                                 3\n",
              "children                            5\n",
              "smoker                              0\n",
              "Claim_Amount                       14\n",
              "past_consultations                  6\n",
              "num_of_steps                        3\n",
              "Hospital_expenditure                4\n",
              "NUmber_of_past_hospitalizations     2\n",
              "Anual_Salary                        6\n",
              "region                              0\n",
              "charges                             0\n",
              "dtype: int64"
            ]
          },
          "metadata": {},
          "execution_count": 17
        }
      ]
    },
    {
      "cell_type": "code",
      "execution_count": 24,
      "id": "924c0c04",
      "metadata": {
        "id": "924c0c04"
      },
      "outputs": [],
      "source": [
        "for col_name in col:\n",
        "    if insurance[col_name].dtypes=='object':\n",
        "        #print('ob')\n",
        "        insurance[col_name] = insurance[col_name].fillna(insurance[col_name].mode()[0])\n",
        "    else:\n",
        "        #print('num')\n",
        "        insurance[col_name] = insurance[col_name].fillna(insurance[col_name].mean())"
      ]
    },
    {
      "cell_type": "code",
      "source": [
        "#object ---> mode\n",
        "# num------> mean/median\n",
        "\n",
        " #mode---> most repeated data----> object\n",
        "\n",
        "#numeric\n",
        " #median---> center\n",
        "# mean---> avg\n",
        "\n",
        "10 5 50 17 15 ?\n",
        "mean---> 20\n",
        "median---> 15\n",
        "5 10 15 17 99\n",
        "\n",
        "#  mode\n",
        "y n y y y n ?\n",
        "y--->4\n",
        "n--->2\n",
        "Y"
      ],
      "metadata": {
        "id": "uZXQmLhchQmZ"
      },
      "id": "uZXQmLhchQmZ",
      "execution_count": null,
      "outputs": []
    },
    {
      "cell_type": "code",
      "source": [
        "#10 + 5 + 50 + 17 + 15\n",
        "97/5"
      ],
      "metadata": {
        "colab": {
          "base_uri": "https://localhost:8080/"
        },
        "id": "2lyv7IILjCrA",
        "outputId": "ba09260e-17ac-4cab-bbde-bb506506c33b"
      },
      "id": "2lyv7IILjCrA",
      "execution_count": 16,
      "outputs": [
        {
          "output_type": "execute_result",
          "data": {
            "text/plain": [
              "19.4"
            ]
          },
          "metadata": {},
          "execution_count": 16
        }
      ]
    },
    {
      "cell_type": "code",
      "execution_count": 25,
      "id": "2c34477b",
      "metadata": {
        "colab": {
          "base_uri": "https://localhost:8080/"
        },
        "id": "2c34477b",
        "outputId": "1fcb557b-f869-40e2-b4f6-d11039ec1c8d"
      },
      "outputs": [
        {
          "output_type": "execute_result",
          "data": {
            "text/plain": [
              "age                                0\n",
              "sex                                0\n",
              "bmi                                0\n",
              "children                           0\n",
              "smoker                             0\n",
              "Claim_Amount                       0\n",
              "past_consultations                 0\n",
              "num_of_steps                       0\n",
              "Hospital_expenditure               0\n",
              "NUmber_of_past_hospitalizations    0\n",
              "Anual_Salary                       0\n",
              "region                             0\n",
              "charges                            0\n",
              "dtype: int64"
            ]
          },
          "metadata": {},
          "execution_count": 25
        }
      ],
      "source": [
        "insurance.isnull().sum()"
      ]
    },
    {
      "cell_type": "code",
      "execution_count": 26,
      "id": "9c5789c1",
      "metadata": {
        "colab": {
          "base_uri": "https://localhost:8080/"
        },
        "id": "9c5789c1",
        "outputId": "4e06bd3c-5be3-4b0d-d9cd-2166dbb9db2c"
      },
      "outputs": [
        {
          "output_type": "execute_result",
          "data": {
            "text/plain": [
              "(1338, 13)"
            ]
          },
          "metadata": {},
          "execution_count": 26
        }
      ],
      "source": [
        "insurance.shape"
      ]
    },
    {
      "cell_type": "code",
      "execution_count": null,
      "id": "dead1233",
      "metadata": {
        "id": "dead1233",
        "outputId": "117397e3-95eb-4e0b-e2ca-9699d64bddb7"
      },
      "outputs": [
        {
          "data": {
            "text/plain": [
              "dtype('float64')"
            ]
          },
          "execution_count": 20,
          "metadata": {},
          "output_type": "execute_result"
        }
      ],
      "source": [
        "insurance['age'].dtype"
      ]
    },
    {
      "cell_type": "code",
      "execution_count": null,
      "id": "c169fbcf",
      "metadata": {
        "id": "c169fbcf",
        "outputId": "f12ae77a-2998-4ad0-8eff-6d4ef08093c1"
      },
      "outputs": [
        {
          "data": {
            "text/html": [
              "<div>\n",
              "<style scoped>\n",
              "    .dataframe tbody tr th:only-of-type {\n",
              "        vertical-align: middle;\n",
              "    }\n",
              "\n",
              "    .dataframe tbody tr th {\n",
              "        vertical-align: top;\n",
              "    }\n",
              "\n",
              "    .dataframe thead th {\n",
              "        text-align: right;\n",
              "    }\n",
              "</style>\n",
              "<table border=\"1\" class=\"dataframe\">\n",
              "  <thead>\n",
              "    <tr style=\"text-align: right;\">\n",
              "      <th></th>\n",
              "      <th>age</th>\n",
              "      <th>sex</th>\n",
              "      <th>bmi</th>\n",
              "      <th>children</th>\n",
              "      <th>smoker</th>\n",
              "      <th>Claim_Amount</th>\n",
              "      <th>past_consultations</th>\n",
              "      <th>num_of_steps</th>\n",
              "      <th>Hospital_expenditure</th>\n",
              "      <th>NUmber_of_past_hospitalizations</th>\n",
              "      <th>Anual_Salary</th>\n",
              "      <th>region</th>\n",
              "      <th>charges</th>\n",
              "    </tr>\n",
              "  </thead>\n",
              "  <tbody>\n",
              "    <tr>\n",
              "      <th>0</th>\n",
              "      <td>18.0</td>\n",
              "      <td>male</td>\n",
              "      <td>23.21</td>\n",
              "      <td>0.0</td>\n",
              "      <td>no</td>\n",
              "      <td>29087.54313</td>\n",
              "      <td>17.0</td>\n",
              "      <td>715428.0</td>\n",
              "      <td>4720920.992</td>\n",
              "      <td>0.0</td>\n",
              "      <td>55784970.05</td>\n",
              "      <td>southeast</td>\n",
              "      <td>1121.8739</td>\n",
              "    </tr>\n",
              "    <tr>\n",
              "      <th>1</th>\n",
              "      <td>18.0</td>\n",
              "      <td>male</td>\n",
              "      <td>30.14</td>\n",
              "      <td>0.0</td>\n",
              "      <td>no</td>\n",
              "      <td>39053.67437</td>\n",
              "      <td>7.0</td>\n",
              "      <td>699157.0</td>\n",
              "      <td>4329831.676</td>\n",
              "      <td>0.0</td>\n",
              "      <td>13700885.19</td>\n",
              "      <td>southeast</td>\n",
              "      <td>1131.5066</td>\n",
              "    </tr>\n",
              "    <tr>\n",
              "      <th>2</th>\n",
              "      <td>18.0</td>\n",
              "      <td>male</td>\n",
              "      <td>33.33</td>\n",
              "      <td>0.0</td>\n",
              "      <td>no</td>\n",
              "      <td>39023.62759</td>\n",
              "      <td>19.0</td>\n",
              "      <td>702341.0</td>\n",
              "      <td>6884860.774</td>\n",
              "      <td>0.0</td>\n",
              "      <td>73523107.27</td>\n",
              "      <td>southeast</td>\n",
              "      <td>1135.9407</td>\n",
              "    </tr>\n",
              "    <tr>\n",
              "      <th>3</th>\n",
              "      <td>18.0</td>\n",
              "      <td>male</td>\n",
              "      <td>33.66</td>\n",
              "      <td>0.0</td>\n",
              "      <td>no</td>\n",
              "      <td>28185.39332</td>\n",
              "      <td>11.0</td>\n",
              "      <td>700250.0</td>\n",
              "      <td>4274773.550</td>\n",
              "      <td>0.0</td>\n",
              "      <td>75819679.60</td>\n",
              "      <td>southeast</td>\n",
              "      <td>1136.3994</td>\n",
              "    </tr>\n",
              "    <tr>\n",
              "      <th>4</th>\n",
              "      <td>18.0</td>\n",
              "      <td>male</td>\n",
              "      <td>34.10</td>\n",
              "      <td>0.0</td>\n",
              "      <td>no</td>\n",
              "      <td>14697.85941</td>\n",
              "      <td>16.0</td>\n",
              "      <td>711584.0</td>\n",
              "      <td>3787293.921</td>\n",
              "      <td>0.0</td>\n",
              "      <td>23012320.01</td>\n",
              "      <td>southeast</td>\n",
              "      <td>1137.0110</td>\n",
              "    </tr>\n",
              "  </tbody>\n",
              "</table>\n",
              "</div>"
            ],
            "text/plain": [
              "    age   sex    bmi  children smoker  Claim_Amount  past_consultations  \\\n",
              "0  18.0  male  23.21       0.0     no   29087.54313                17.0   \n",
              "1  18.0  male  30.14       0.0     no   39053.67437                 7.0   \n",
              "2  18.0  male  33.33       0.0     no   39023.62759                19.0   \n",
              "3  18.0  male  33.66       0.0     no   28185.39332                11.0   \n",
              "4  18.0  male  34.10       0.0     no   14697.85941                16.0   \n",
              "\n",
              "   num_of_steps  Hospital_expenditure  NUmber_of_past_hospitalizations  \\\n",
              "0      715428.0           4720920.992                              0.0   \n",
              "1      699157.0           4329831.676                              0.0   \n",
              "2      702341.0           6884860.774                              0.0   \n",
              "3      700250.0           4274773.550                              0.0   \n",
              "4      711584.0           3787293.921                              0.0   \n",
              "\n",
              "   Anual_Salary     region    charges  \n",
              "0   55784970.05  southeast  1121.8739  \n",
              "1   13700885.19  southeast  1131.5066  \n",
              "2   73523107.27  southeast  1135.9407  \n",
              "3   75819679.60  southeast  1136.3994  \n",
              "4   23012320.01  southeast  1137.0110  "
            ]
          },
          "execution_count": 21,
          "metadata": {},
          "output_type": "execute_result"
        }
      ],
      "source": [
        "insurance.head()"
      ]
    },
    {
      "cell_type": "code",
      "execution_count": null,
      "id": "73e61a07",
      "metadata": {
        "id": "73e61a07",
        "outputId": "e8580834-9b58-40bf-c434-64ee84515af4"
      },
      "outputs": [
        {
          "data": {
            "text/plain": [
              "['age',\n",
              " 'sex',\n",
              " 'bmi',\n",
              " 'children',\n",
              " 'smoker',\n",
              " 'Claim_Amount',\n",
              " 'past_consultations',\n",
              " 'num_of_steps',\n",
              " 'Hospital_expenditure',\n",
              " 'NUmber_of_past_hospitalizations',\n",
              " 'Anual_Salary',\n",
              " 'region',\n",
              " 'charges']"
            ]
          },
          "execution_count": 22,
          "metadata": {},
          "output_type": "execute_result"
        }
      ],
      "source": [
        "col"
      ]
    },
    {
      "cell_type": "code",
      "execution_count": null,
      "id": "f2e2c157",
      "metadata": {
        "id": "f2e2c157"
      },
      "outputs": [],
      "source": [
        "#seaborn"
      ]
    },
    {
      "cell_type": "code",
      "execution_count": null,
      "id": "7f32ba9b",
      "metadata": {
        "id": "7f32ba9b",
        "outputId": "06d868a3-aa81-4d0e-a8d5-7e2e231f1720"
      },
      "outputs": [
        {
          "data": {
            "image/png": "[encoded data removed]",
            "text/plain": [
              "<Figure size 432x288 with 1 Axes>"
            ]
          },
          "metadata": {
            "needs_background": "light"
          },
          "output_type": "display_data"
        },
        {
          "data": {
            "image/png": "[encoded data removed]",
            "text/plain": [
              "<Figure size 432x288 with 1 Axes>"
            ]
          },
          "metadata": {
            "needs_background": "light"
          },
          "output_type": "display_data"
        },
        {
          "data": {
            "image/png": "[encoded data removed]",
            "text/plain": [
              "<Figure size 432x288 with 1 Axes>"
            ]
          },
          "metadata": {
            "needs_background": "light"
          },
          "output_type": "display_data"
        },
        {
          "data": {
            "image/png": "[encoded data removed]",
            "text/plain": [
              "<Figure size 432x288 with 1 Axes>"
            ]
          },
          "metadata": {
            "needs_background": "light"
          },
          "output_type": "display_data"
        },
        {
          "data": {
            "image/png": "[encoded data removed]",
            "text/plain": [
              "<Figure size 432x288 with 1 Axes>"
            ]
          },
          "metadata": {
            "needs_background": "light"
          },
          "output_type": "display_data"
        },
        {
          "data": {
            "image/png": "[encoded data removed]",
            "text/plain": [
              "<Figure size 432x288 with 1 Axes>"
            ]
          },
          "metadata": {
            "needs_background": "light"
          },
          "output_type": "display_data"
        },
        {
          "data": {
            "image/png": "[encoded data removed]",
            "text/plain": [
              "<Figure size 432x288 with 1 Axes>"
            ]
          },
          "metadata": {
            "needs_background": "light"
          },
          "output_type": "display_data"
        },
        {
          "data": {
            "image/png": "[encoded data removed]",
            "text/plain": [
              "<Figure size 432x288 with 1 Axes>"
            ]
          },
          "metadata": {
            "needs_background": "light"
          },
          "output_type": "display_data"
        },
        {
          "data": {
            "image/png": "[encoded data removed]",
            "text/plain": [
              "<Figure size 432x288 with 1 Axes>"
            ]
          },
          "metadata": {
            "needs_background": "light"
          },
          "output_type": "display_data"
        },
        {
          "data": {
            "image/png": "[encoded data removed]",
            "text/plain": [
              "<Figure size 432x288 with 1 Axes>"
            ]
          },
          "metadata": {
            "needs_background": "light"
          },
          "output_type": "display_data"
        }
      ],
      "source": [
        "for col_name in col:\n",
        "    if(insurance[col_name].dtypes=='int64' or insurance[col_name].dtypes=='float64'):\n",
        "        plt.hist(insurance[col_name])\n",
        "        plt.xlabel(col_name)\n",
        "        plt.ylabel('count')\n",
        "        plt.show()"
      ]
    },
    {
      "cell_type": "code",
      "source": [
        "col"
      ],
      "metadata": {
        "colab": {
          "base_uri": "https://localhost:8080/"
        },
        "id": "2Sgf1p_0oFpa",
        "outputId": "c7007ef3-a93e-4e3a-fee6-94356212c022"
      },
      "id": "2Sgf1p_0oFpa",
      "execution_count": 30,
      "outputs": [
        {
          "output_type": "execute_result",
          "data": {
            "text/plain": [
              "['age',\n",
              " 'sex',\n",
              " 'bmi',\n",
              " 'children',\n",
              " 'smoker',\n",
              " 'Claim_Amount',\n",
              " 'past_consultations',\n",
              " 'num_of_steps',\n",
              " 'Hospital_expenditure',\n",
              " 'NUmber_of_past_hospitalizations',\n",
              " 'Anual_Salary',\n",
              " 'region',\n",
              " 'charges']"
            ]
          },
          "metadata": {},
          "execution_count": 30
        }
      ]
    },
    {
      "cell_type": "code",
      "execution_count": null,
      "id": "298b7a30",
      "metadata": {
        "id": "298b7a30",
        "outputId": "e31cf582-7577-472c-d589-9d5cf0ac3076"
      },
      "outputs": [
        {
          "data": {
            "image/png": "[encoded data removed]",
            "text/plain": [
              "<Figure size 432x288 with 1 Axes>"
            ]
          },
          "metadata": {
            "needs_background": "light"
          },
          "output_type": "display_data"
        },
        {
          "data": {
            "image/png": "[encoded data removed]",
            "text/plain": [
              "<Figure size 432x288 with 1 Axes>"
            ]
          },
          "metadata": {
            "needs_background": "light"
          },
          "output_type": "display_data"
        },
        {
          "data": {
            "image/png": "[encoded data removed]",
            "text/plain": [
              "<Figure size 432x288 with 1 Axes>"
            ]
          },
          "metadata": {
            "needs_background": "light"
          },
          "output_type": "display_data"
        },
        {
          "data": {
            "image/png": "[encoded data removed]",
            "text/plain": [
              "<Figure size 432x288 with 1 Axes>"
            ]
          },
          "metadata": {
            "needs_background": "light"
          },
          "output_type": "display_data"
        },
        {
          "data": {
            "image/png": "[encoded data removed]",
            "text/plain": [
              "<Figure size 432x288 with 1 Axes>"
            ]
          },
          "metadata": {
            "needs_background": "light"
          },
          "output_type": "display_data"
        },
        {
          "data": {
            "image/png": "[encoded data removed]",
            "text/plain": [
              "<Figure size 432x288 with 1 Axes>"
            ]
          },
          "metadata": {
            "needs_background": "light"
          },
          "output_type": "display_data"
        },
        {
          "data": {
            "image/png": "[encoded data removed]",
            "text/plain": [
              "<Figure size 432x288 with 1 Axes>"
            ]
          },
          "metadata": {
            "needs_background": "light"
          },
          "output_type": "display_data"
        },
        {
          "data": {
            "image/png": "[encoded data removed]",
            "text/plain": [
              "<Figure size 432x288 with 1 Axes>"
            ]
          },
          "metadata": {
            "needs_background": "light"
          },
          "output_type": "display_data"
        },
        {
          "data": {
            "image/png": "[encoded data removed]",
            "text/plain": [
              "<Figure size 432x288 with 1 Axes>"
            ]
          },
          "metadata": {
            "needs_background": "light"
          },
          "output_type": "display_data"
        },
        {
          "data": {
            "image/png": "[encoded data removed]",
            "text/plain": [
              "<Figure size 432x288 with 1 Axes>"
            ]
          },
          "metadata": {
            "needs_background": "light"
          },
          "output_type": "display_data"
        }
      ],
      "source": [
        "for col_name in col:\n",
        "    if(insurance[col_name].dtypes=='int64' or insurance[col_name].dtypes=='float64'):\n",
        "        plt.boxplot(insurance[col_name])\n",
        "        plt.xlabel(col_name)\n",
        "        plt.ylabel('count')\n",
        "        plt.show()"
      ]
    },
    {
      "cell_type": "code",
      "source": [
        "insurance.describe()"
      ],
      "metadata": {
        "colab": {
          "base_uri": "https://localhost:8080/",
          "height": 364
        },
        "id": "U52Pe6z2qTIp",
        "outputId": "8be05726-47c2-458f-838c-cb5e3664d5f1"
      },
      "id": "U52Pe6z2qTIp",
      "execution_count": 31,
      "outputs": [
        {
          "output_type": "execute_result",
          "data": {
            "text/plain": [
              "               age          bmi     children  Claim_Amount  \\\n",
              "count  1338.000000  1338.000000  1338.000000   1338.000000   \n",
              "mean     39.310008    30.665112     1.090773  33361.327180   \n",
              "std      13.987500     6.094840     1.199606  15535.307255   \n",
              "min      18.000000    15.960000     0.000000   1920.136268   \n",
              "25%      27.000000    26.315000     0.000000  20947.645198   \n",
              "50%      39.310008    30.400000     1.000000  33611.286065   \n",
              "75%      51.000000    34.656250     2.000000  44978.873188   \n",
              "max      64.000000    53.130000     5.000000  77277.988480   \n",
              "\n",
              "       past_consultations  num_of_steps  Hospital_expenditure  \\\n",
              "count         1338.000000  1.338000e+03          1.338000e+03   \n",
              "mean            15.216216  9.100047e+05          1.584179e+07   \n",
              "std              7.450948  9.178297e+04          2.665309e+07   \n",
              "min              1.000000  6.954300e+05          2.945253e+04   \n",
              "25%              9.000000  8.474898e+05          4.084941e+06   \n",
              "50%             15.000000  9.140155e+05          7.500985e+06   \n",
              "75%             20.000000  9.715100e+05          1.090187e+07   \n",
              "max             40.000000  1.107872e+06          2.616317e+08   \n",
              "\n",
              "       NUmber_of_past_hospitalizations  Anual_Salary       charges  \n",
              "count                      1338.000000  1.338000e+03   1338.000000  \n",
              "mean                          1.060629  3.696849e+08  13270.422265  \n",
              "std                           0.533184  5.656109e+08  12110.011237  \n",
              "min                           0.000000  2.747072e+06   1121.873900  \n",
              "25%                           1.000000  7.755085e+07   4740.287150  \n",
              "50%                           1.000000  1.422756e+08   9382.033000  \n",
              "75%                           1.000000  3.298713e+08  16639.912515  \n",
              "max                           3.000000  4.117197e+09  63770.428010  "
            ],
            "text/html": [
              "\n",
              "  <div id=\"df-e854bbca-033a-4c22-a876-9fcd854605c9\">\n",
              "    <div class=\"colab-df-container\">\n",
              "      <div>\n",
              "<style scoped>\n",
              "    .dataframe tbody tr th:only-of-type {\n",
              "        vertical-align: middle;\n",
              "    }\n",
              "\n",
              "    .dataframe tbody tr th {\n",
              "        vertical-align: top;\n",
              "    }\n",
              "\n",
              "    .dataframe thead th {\n",
              "        text-align: right;\n",
              "    }\n",
              "</style>\n",
              "<table border=\"1\" class=\"dataframe\">\n",
              "  <thead>\n",
              "    <tr style=\"text-align: right;\">\n",
              "      <th></th>\n",
              "      <th>age</th>\n",
              "      <th>bmi</th>\n",
              "      <th>children</th>\n",
              "      <th>Claim_Amount</th>\n",
              "      <th>past_consultations</th>\n",
              "      <th>num_of_steps</th>\n",
              "      <th>Hospital_expenditure</th>\n",
              "      <th>NUmber_of_past_hospitalizations</th>\n",
              "      <th>Anual_Salary</th>\n",
              "      <th>charges</th>\n",
              "    </tr>\n",
              "  </thead>\n",
              "  <tbody>\n",
              "    <tr>\n",
              "      <th>count</th>\n",
              "      <td>1338.000000</td>\n",
              "      <td>1338.000000</td>\n",
              "      <td>1338.000000</td>\n",
              "      <td>1338.000000</td>\n",
              "      <td>1338.000000</td>\n",
              "      <td>1.338000e+03</td>\n",
              "      <td>1.338000e+03</td>\n",
              "      <td>1338.000000</td>\n",
              "      <td>1.338000e+03</td>\n",
              "      <td>1338.000000</td>\n",
              "    </tr>\n",
              "    <tr>\n",
              "      <th>mean</th>\n",
              "      <td>39.310008</td>\n",
              "      <td>30.665112</td>\n",
              "      <td>1.090773</td>\n",
              "      <td>33361.327180</td>\n",
              "      <td>15.216216</td>\n",
              "      <td>9.100047e+05</td>\n",
              "      <td>1.584179e+07</td>\n",
              "      <td>1.060629</td>\n",
              "      <td>3.696849e+08</td>\n",
              "      <td>13270.422265</td>\n",
              "    </tr>\n",
              "    <tr>\n",
              "      <th>std</th>\n",
              "      <td>13.987500</td>\n",
              "      <td>6.094840</td>\n",
              "      <td>1.199606</td>\n",
              "      <td>15535.307255</td>\n",
              "      <td>7.450948</td>\n",
              "      <td>9.178297e+04</td>\n",
              "      <td>2.665309e+07</td>\n",
              "      <td>0.533184</td>\n",
              "      <td>5.656109e+08</td>\n",
              "      <td>12110.011237</td>\n",
              "    </tr>\n",
              "    <tr>\n",
              "      <th>min</th>\n",
              "      <td>18.000000</td>\n",
              "      <td>15.960000</td>\n",
              "      <td>0.000000</td>\n",
              "      <td>1920.136268</td>\n",
              "      <td>1.000000</td>\n",
              "      <td>6.954300e+05</td>\n",
              "      <td>2.945253e+04</td>\n",
              "      <td>0.000000</td>\n",
              "      <td>2.747072e+06</td>\n",
              "      <td>1121.873900</td>\n",
              "    </tr>\n",
              "    <tr>\n",
              "      <th>25%</th>\n",
              "      <td>27.000000</td>\n",
              "      <td>26.315000</td>\n",
              "      <td>0.000000</td>\n",
              "      <td>20947.645198</td>\n",
              "      <td>9.000000</td>\n",
              "      <td>8.474898e+05</td>\n",
              "      <td>4.084941e+06</td>\n",
              "      <td>1.000000</td>\n",
              "      <td>7.755085e+07</td>\n",
              "      <td>4740.287150</td>\n",
              "    </tr>\n",
              "    <tr>\n",
              "      <th>50%</th>\n",
              "      <td>39.310008</td>\n",
              "      <td>30.400000</td>\n",
              "      <td>1.000000</td>\n",
              "      <td>33611.286065</td>\n",
              "      <td>15.000000</td>\n",
              "      <td>9.140155e+05</td>\n",
              "      <td>7.500985e+06</td>\n",
              "      <td>1.000000</td>\n",
              "      <td>1.422756e+08</td>\n",
              "      <td>9382.033000</td>\n",
              "    </tr>\n",
              "    <tr>\n",
              "      <th>75%</th>\n",
              "      <td>51.000000</td>\n",
              "      <td>34.656250</td>\n",
              "      <td>2.000000</td>\n",
              "      <td>44978.873188</td>\n",
              "      <td>20.000000</td>\n",
              "      <td>9.715100e+05</td>\n",
              "      <td>1.090187e+07</td>\n",
              "      <td>1.000000</td>\n",
              "      <td>3.298713e+08</td>\n",
              "      <td>16639.912515</td>\n",
              "    </tr>\n",
              "    <tr>\n",
              "      <th>max</th>\n",
              "      <td>64.000000</td>\n",
              "      <td>53.130000</td>\n",
              "      <td>5.000000</td>\n",
              "      <td>77277.988480</td>\n",
              "      <td>40.000000</td>\n",
              "      <td>1.107872e+06</td>\n",
              "      <td>2.616317e+08</td>\n",
              "      <td>3.000000</td>\n",
              "      <td>4.117197e+09</td>\n",
              "      <td>63770.428010</td>\n",
              "    </tr>\n",
              "  </tbody>\n",
              "</table>\n",
              "</div>\n",
              "      <button class=\"colab-df-convert\" onclick=\"convertToInteractive('df-e854bbca-033a-4c22-a876-9fcd854605c9')\"\n",
              "              title=\"Convert this dataframe to an interactive table.\"\n",
              "              style=\"display:none;\">\n",
              "        \n",
              "  <svg xmlns=\"http://www.w3.org/2000/svg\" height=\"24px\"viewBox=\"0 0 24 24\"\n",
              "       width=\"24px\">\n",
              "    <path d=\"M0 0h24v24H0V0z\" fill=\"none\"/>\n",
              "    <path d=\"M18.56 5.44l.94 2.06.94-2.06 2.06-.94-2.06-.94-.94-2.06-.94 2.06-2.06.94zm-11 1L8.5 8.5l.94-2.06 2.06-.94-2.06-.94L8.5 2.5l-.94 2.06-2.06.94zm10 10l.94 2.06.94-2.06 2.06-.94-2.06-.94-.94-2.06-.94 2.06-2.06.94z\"/><path d=\"M17.41 7.96l-1.37-1.37c-.4-.4-.92-.59-1.43-.59-.52 0-1.04.2-1.43.59L10.3 9.45l-7.72 7.72c-.78.78-.78 2.05 0 2.83L4 21.41c.39.39.9.59 1.41.59.51 0 1.02-.2 1.41-.59l7.78-7.78 2.81-2.81c.8-.78.8-2.07 0-2.86zM5.41 20L4 18.59l7.72-7.72 1.47 1.35L5.41 20z\"/>\n",
              "  </svg>\n",
              "      </button>\n",
              "      \n",
              "  <style>\n",
              "    .colab-df-container {\n",
              "      display:flex;\n",
              "      flex-wrap:wrap;\n",
              "      gap: 12px;\n",
              "    }\n",
              "\n",
              "    .colab-df-convert {\n",
              "      background-color: #E8F0FE;\n",
              "      border: none;\n",
              "      border-radius: 50%;\n",
              "      cursor: pointer;\n",
              "      display: none;\n",
              "      fill: #1967D2;\n",
              "      height: 32px;\n",
              "      padding: 0 0 0 0;\n",
              "      width: 32px;\n",
              "    }\n",
              "\n",
              "    .colab-df-convert:hover {\n",
              "      background-color: #E2EBFA;\n",
              "      box-shadow: 0px 1px 2px rgba(60, 64, 67, 0.3), 0px 1px 3px 1px rgba(60, 64, 67, 0.15);\n",
              "      fill: #174EA6;\n",
              "    }\n",
              "\n",
              "    [theme=dark] .colab-df-convert {\n",
              "      background-color: #3B4455;\n",
              "      fill: #D2E3FC;\n",
              "    }\n",
              "\n",
              "    [theme=dark] .colab-df-convert:hover {\n",
              "      background-color: #434B5C;\n",
              "      box-shadow: 0px 1px 3px 1px rgba(0, 0, 0, 0.15);\n",
              "      filter: drop-shadow(0px 1px 2px rgba(0, 0, 0, 0.3));\n",
              "      fill: #FFFFFF;\n",
              "    }\n",
              "  </style>\n",
              "\n",
              "      <script>\n",
              "        const buttonEl =\n",
              "          document.querySelector('#df-e854bbca-033a-4c22-a876-9fcd854605c9 button.colab-df-convert');\n",
              "        buttonEl.style.display =\n",
              "          google.colab.kernel.accessAllowed ? 'block' : 'none';\n",
              "\n",
              "        async function convertToInteractive(key) {\n",
              "          const element = document.querySelector('#df-e854bbca-033a-4c22-a876-9fcd854605c9');\n",
              "          const dataTable =\n",
              "            await google.colab.kernel.invokeFunction('convertToInteractive',\n",
              "                                                     [key], {});\n",
              "          if (!dataTable) return;\n",
              "\n",
              "          const docLinkHtml = 'Like what you see? Visit the ' +\n",
              "            '<a target=\"_blank\" href=https://colab.research.google.com/notebooks/data_table.ipynb>data table notebook</a>'\n",
              "            + ' to learn more about interactive tables.';\n",
              "          element.innerHTML = '';\n",
              "          dataTable['output_type'] = 'display_data';\n",
              "          await google.colab.output.renderOutput(dataTable, element);\n",
              "          const docLink = document.createElement('div');\n",
              "          docLink.innerHTML = docLinkHtml;\n",
              "          element.appendChild(docLink);\n",
              "        }\n",
              "      </script>\n",
              "    </div>\n",
              "  </div>\n",
              "  "
            ]
          },
          "metadata": {},
          "execution_count": 31
        }
      ]
    },
    {
      "cell_type": "code",
      "execution_count": null,
      "id": "63898c19",
      "metadata": {
        "id": "63898c19"
      },
      "outputs": [],
      "source": [
        "#treating outliers"
      ]
    },
    {
      "cell_type": "code",
      "execution_count": null,
      "id": "4dea2210",
      "metadata": {
        "id": "4dea2210"
      },
      "outputs": [],
      "source": [
        "Q1 = insurance.bmi.quantile(0.25)\n",
        "Q3 = insurance.bmi.quantile(0.75)"
      ]
    },
    {
      "cell_type": "code",
      "execution_count": null,
      "id": "5627bc40",
      "metadata": {
        "id": "5627bc40",
        "outputId": "0a295fc4-01df-4201-f88b-68623bd1d344"
      },
      "outputs": [
        {
          "data": {
            "text/plain": [
              "26.315"
            ]
          },
          "execution_count": 28,
          "metadata": {},
          "output_type": "execute_result"
        }
      ],
      "source": [
        "Q1"
      ]
    },
    {
      "cell_type": "code",
      "execution_count": null,
      "id": "81df2c33",
      "metadata": {
        "id": "81df2c33",
        "outputId": "213b28da-6156-4d6e-8277-54b2608e01d5"
      },
      "outputs": [
        {
          "data": {
            "text/plain": [
              "34.65625"
            ]
          },
          "execution_count": 29,
          "metadata": {},
          "output_type": "execute_result"
        }
      ],
      "source": [
        "Q3"
      ]
    },
    {
      "cell_type": "code",
      "execution_count": null,
      "id": "0a8197cc",
      "metadata": {
        "id": "0a8197cc",
        "outputId": "97505a93-cde7-4045-c2df-68f0c02fa7e1"
      },
      "outputs": [
        {
          "data": {
            "text/plain": [
              "8.341249999999999"
            ]
          },
          "execution_count": 30,
          "metadata": {},
          "output_type": "execute_result"
        }
      ],
      "source": [
        "IQR = Q3 - Q1\n",
        "IQR"
      ]
    },
    {
      "cell_type": "code",
      "execution_count": null,
      "id": "a68185ef",
      "metadata": {
        "id": "a68185ef",
        "outputId": "48cc9dfc-0735-4061-ffca-72f4bb6913b0"
      },
      "outputs": [
        {
          "data": {
            "text/plain": [
              "13.803125000000003"
            ]
          },
          "execution_count": 31,
          "metadata": {},
          "output_type": "execute_result"
        }
      ],
      "source": [
        "Q1 - 1.5*IQR"
      ]
    },
    {
      "cell_type": "code",
      "execution_count": null,
      "id": "ce8609d9",
      "metadata": {
        "id": "ce8609d9",
        "outputId": "ce9698fa-3f5c-4631-c242-78a602a686e6"
      },
      "outputs": [
        {
          "data": {
            "text/plain": [
              "47.168124999999996"
            ]
          },
          "execution_count": 32,
          "metadata": {},
          "output_type": "execute_result"
        }
      ],
      "source": [
        "Q3 + 1.5*IQR"
      ]
    },
    {
      "cell_type": "code",
      "execution_count": null,
      "id": "024f22bc",
      "metadata": {
        "scrolled": true,
        "id": "024f22bc",
        "outputId": "b7bf44c8-f60c-4c94-81b8-40f2ddf17337"
      },
      "outputs": [
        {
          "data": {
            "image/png": "[encoded data removed]",
            "text/plain": [
              "<Figure size 432x288 with 1 Axes>"
            ]
          },
          "metadata": {
            "needs_background": "light"
          },
          "output_type": "display_data"
        }
      ],
      "source": [
        "plt.boxplot(insurance['bmi'])\n",
        "plt.show()"
      ]
    },
    {
      "cell_type": "code",
      "execution_count": null,
      "id": "196a9864",
      "metadata": {
        "id": "196a9864"
      },
      "outputs": [],
      "source": [
        "#insurance[(insurance['sex']=='male') & (insurance['smoker']=='no')]"
      ]
    },
    {
      "cell_type": "code",
      "execution_count": 32,
      "id": "d829ef22",
      "metadata": {
        "id": "d829ef22"
      },
      "outputs": [],
      "source": [
        "\n",
        "Q1 = insurance.bmi.quantile(0.25)\n",
        "Q3 = insurance.bmi.quantile(0.75)\n",
        "IQR = Q3 - Q1\n",
        "insurance = insurance[(insurance.bmi >= Q1 - 1.5*IQR) & (insurance.bmi <= Q3 + 1.5*IQR)]\n",
        "\n",
        "Q1 = insurance.past_consultations.quantile(0.25)\n",
        "Q3 = insurance.past_consultations.quantile(0.75)\n",
        "IQR = Q3 - Q1\n",
        "insurance = insurance[(insurance.past_consultations >= Q1 - 1.5*IQR) & (insurance.past_consultations <= Q3 + 1.5*IQR)]\n",
        "\n",
        "Q1 = insurance.Hospital_expenditure.quantile(0.25)\n",
        "Q3 = insurance.Hospital_expenditure.quantile(0.75)\n",
        "IQR = Q3 - Q1\n",
        "insurance = insurance[(insurance.Hospital_expenditure >= Q1 - 1.5*IQR) & (insurance.Hospital_expenditure <= Q3 + 1.5*IQR)]\n",
        "\n",
        "Q1 = insurance.Anual_Salary.quantile(0.25)\n",
        "Q3 = insurance.Anual_Salary.quantile(0.75)\n",
        "IQR = Q3 - Q1\n",
        "insurance = insurance[(insurance.Anual_Salary >= Q1 - 1.5*IQR) & (insurance.Anual_Salary <= Q3 + 1.5*IQR)]\n"
      ]
    },
    {
      "cell_type": "code",
      "execution_count": null,
      "id": "e2e60944",
      "metadata": {
        "id": "e2e60944",
        "outputId": "e8273560-fa9d-4186-edd5-b44800fff189"
      },
      "outputs": [
        {
          "data": {
            "text/plain": [
              "(1030, 13)"
            ]
          },
          "execution_count": 36,
          "metadata": {},
          "output_type": "execute_result"
        }
      ],
      "source": [
        "insurance.shape"
      ]
    },
    {
      "cell_type": "code",
      "execution_count": 33,
      "id": "30ff4ff9",
      "metadata": {
        "scrolled": false,
        "colab": {
          "base_uri": "https://localhost:8080/",
          "height": 1000
        },
        "id": "30ff4ff9",
        "outputId": "a41e8575-a72e-4e30-f0a6-de731da9aa04"
      },
      "outputs": [
        {
          "output_type": "display_data",
          "data": {
            "text/plain": [
              "<Figure size 432x288 with 1 Axes>"
            ],
            "image/png": "[encoded data removed]"
          },
          "metadata": {
            "needs_background": "light"
          }
        },
        {
          "output_type": "display_data",
          "data": {
            "text/plain": [
              "<Figure size 432x288 with 1 Axes>"
            ],
            "image/png": "[encoded data removed]"
          },
          "metadata": {
            "needs_background": "light"
          }
        },
        {
          "output_type": "display_data",
          "data": {
            "text/plain": [
              "<Figure size 432x288 with 1 Axes>"
            ],
            "image/png": "[encoded data removed]"
          },
          "metadata": {
            "needs_background": "light"
          }
        },
        {
          "output_type": "display_data",
          "data": {
            "text/plain": [
              "<Figure size 432x288 with 1 Axes>"
            ],
            "image/png": "[encoded data removed]"
          },
          "metadata": {
            "needs_background": "light"
          }
        },
        {
          "output_type": "display_data",
          "data": {
            "text/plain": [
              "<Figure size 432x288 with 1 Axes>"
            ],
            "image/png": "[encoded data removed]"
          },
          "metadata": {
            "needs_background": "light"
          }
        },
        {
          "output_type": "display_data",
          "data": {
            "text/plain": [
              "<Figure size 432x288 with 1 Axes>"
            ],
            "image/png": "[encoded data removed]"
          },
          "metadata": {
            "needs_background": "light"
          }
        },
        {
          "output_type": "display_data",
          "data": {
            "text/plain": [
              "<Figure size 432x288 with 1 Axes>"
            ],
            "image/png": "[encoded data removed]"
          },
          "metadata": {
            "needs_background": "light"
          }
        },
        {
          "output_type": "display_data",
          "data": {
            "text/plain": [
              "<Figure size 432x288 with 1 Axes>"
            ],
            "image/png": "[encoded data removed]"
          },
          "metadata": {
            "needs_background": "light"
          }
        },
        {
          "output_type": "display_data",
          "data": {
            "text/plain": [
              "<Figure size 432x288 with 1 Axes>"
            ],
            "image/png": "[encoded data removed]"
          },
          "metadata": {
            "needs_background": "light"
          }
        },
        {
          "output_type": "display_data",
          "data": {
            "text/plain": [
              "<Figure size 432x288 with 1 Axes>"
            ],
            "image/png": "[encoded data removed]"
          },
          "metadata": {
            "needs_background": "light"
          }
        }
      ],
      "source": [
        "for col_name in col:\n",
        "    if(insurance[col_name].dtypes=='int64' or insurance[col_name].dtypes=='float64'):\n",
        "        plt.boxplot(insurance[col_name])\n",
        "        plt.xlabel(col_name)\n",
        "        plt.ylabel('count')\n",
        "        plt.show()"
      ]
    },
    {
      "cell_type": "code",
      "execution_count": null,
      "id": "9ff5a161",
      "metadata": {
        "id": "9ff5a161"
      },
      "outputs": [],
      "source": [
        ""
      ]
    },
    {
      "cell_type": "code",
      "execution_count": null,
      "id": "6d60c950",
      "metadata": {
        "id": "6d60c950",
        "outputId": "c69db042-e3bb-48f7-fd18-1e5e63ced62b"
      },
      "outputs": [
        {
          "data": {
            "text/html": [
              "<div>\n",
              "<style scoped>\n",
              "    .dataframe tbody tr th:only-of-type {\n",
              "        vertical-align: middle;\n",
              "    }\n",
              "\n",
              "    .dataframe tbody tr th {\n",
              "        vertical-align: top;\n",
              "    }\n",
              "\n",
              "    .dataframe thead th {\n",
              "        text-align: right;\n",
              "    }\n",
              "</style>\n",
              "<table border=\"1\" class=\"dataframe\">\n",
              "  <thead>\n",
              "    <tr style=\"text-align: right;\">\n",
              "      <th></th>\n",
              "      <th>age</th>\n",
              "      <th>bmi</th>\n",
              "      <th>children</th>\n",
              "      <th>Claim_Amount</th>\n",
              "      <th>past_consultations</th>\n",
              "      <th>num_of_steps</th>\n",
              "      <th>Hospital_expenditure</th>\n",
              "      <th>NUmber_of_past_hospitalizations</th>\n",
              "      <th>Anual_Salary</th>\n",
              "      <th>charges</th>\n",
              "    </tr>\n",
              "  </thead>\n",
              "  <tbody>\n",
              "    <tr>\n",
              "      <th>age</th>\n",
              "      <td>1.000000</td>\n",
              "      <td>0.155957</td>\n",
              "      <td>0.045371</td>\n",
              "      <td>0.117750</td>\n",
              "      <td>0.172063</td>\n",
              "      <td>0.749468</td>\n",
              "      <td>0.160555</td>\n",
              "      <td>0.519538</td>\n",
              "      <td>0.490802</td>\n",
              "      <td>0.676071</td>\n",
              "    </tr>\n",
              "    <tr>\n",
              "      <th>bmi</th>\n",
              "      <td>0.155957</td>\n",
              "      <td>1.000000</td>\n",
              "      <td>0.006477</td>\n",
              "      <td>0.008343</td>\n",
              "      <td>0.023543</td>\n",
              "      <td>0.040324</td>\n",
              "      <td>0.013992</td>\n",
              "      <td>0.016121</td>\n",
              "      <td>0.004105</td>\n",
              "      <td>0.010248</td>\n",
              "    </tr>\n",
              "    <tr>\n",
              "      <th>children</th>\n",
              "      <td>0.045371</td>\n",
              "      <td>0.006477</td>\n",
              "      <td>1.000000</td>\n",
              "      <td>0.041716</td>\n",
              "      <td>0.045472</td>\n",
              "      <td>0.228830</td>\n",
              "      <td>-0.007494</td>\n",
              "      <td>0.316622</td>\n",
              "      <td>0.064840</td>\n",
              "      <td>0.138470</td>\n",
              "    </tr>\n",
              "    <tr>\n",
              "      <th>Claim_Amount</th>\n",
              "      <td>0.117750</td>\n",
              "      <td>0.008343</td>\n",
              "      <td>0.041716</td>\n",
              "      <td>1.000000</td>\n",
              "      <td>0.071569</td>\n",
              "      <td>0.185434</td>\n",
              "      <td>0.054111</td>\n",
              "      <td>0.109748</td>\n",
              "      <td>0.157826</td>\n",
              "      <td>0.192601</td>\n",
              "    </tr>\n",
              "    <tr>\n",
              "      <th>past_consultations</th>\n",
              "      <td>0.172063</td>\n",
              "      <td>0.023543</td>\n",
              "      <td>0.045472</td>\n",
              "      <td>0.071569</td>\n",
              "      <td>1.000000</td>\n",
              "      <td>0.259401</td>\n",
              "      <td>0.088466</td>\n",
              "      <td>0.135498</td>\n",
              "      <td>0.265710</td>\n",
              "      <td>0.278131</td>\n",
              "    </tr>\n",
              "    <tr>\n",
              "      <th>num_of_steps</th>\n",
              "      <td>0.749468</td>\n",
              "      <td>0.040324</td>\n",
              "      <td>0.228830</td>\n",
              "      <td>0.185434</td>\n",
              "      <td>0.259401</td>\n",
              "      <td>1.000000</td>\n",
              "      <td>0.299554</td>\n",
              "      <td>0.714983</td>\n",
              "      <td>0.767247</td>\n",
              "      <td>0.936946</td>\n",
              "    </tr>\n",
              "    <tr>\n",
              "      <th>Hospital_expenditure</th>\n",
              "      <td>0.160555</td>\n",
              "      <td>0.013992</td>\n",
              "      <td>-0.007494</td>\n",
              "      <td>0.054111</td>\n",
              "      <td>0.088466</td>\n",
              "      <td>0.299554</td>\n",
              "      <td>1.000000</td>\n",
              "      <td>0.129334</td>\n",
              "      <td>0.366809</td>\n",
              "      <td>0.358378</td>\n",
              "    </tr>\n",
              "    <tr>\n",
              "      <th>NUmber_of_past_hospitalizations</th>\n",
              "      <td>0.519538</td>\n",
              "      <td>0.016121</td>\n",
              "      <td>0.316622</td>\n",
              "      <td>0.109748</td>\n",
              "      <td>0.135498</td>\n",
              "      <td>0.714983</td>\n",
              "      <td>0.129334</td>\n",
              "      <td>1.000000</td>\n",
              "      <td>0.359422</td>\n",
              "      <td>0.538116</td>\n",
              "    </tr>\n",
              "    <tr>\n",
              "      <th>Anual_Salary</th>\n",
              "      <td>0.490802</td>\n",
              "      <td>0.004105</td>\n",
              "      <td>0.064840</td>\n",
              "      <td>0.157826</td>\n",
              "      <td>0.265710</td>\n",
              "      <td>0.767247</td>\n",
              "      <td>0.366809</td>\n",
              "      <td>0.359422</td>\n",
              "      <td>1.000000</td>\n",
              "      <td>0.892308</td>\n",
              "    </tr>\n",
              "    <tr>\n",
              "      <th>charges</th>\n",
              "      <td>0.676071</td>\n",
              "      <td>0.010248</td>\n",
              "      <td>0.138470</td>\n",
              "      <td>0.192601</td>\n",
              "      <td>0.278131</td>\n",
              "      <td>0.936946</td>\n",
              "      <td>0.358378</td>\n",
              "      <td>0.538116</td>\n",
              "      <td>0.892308</td>\n",
              "      <td>1.000000</td>\n",
              "    </tr>\n",
              "  </tbody>\n",
              "</table>\n",
              "</div>"
            ],
            "text/plain": [
              "                                      age       bmi  children  Claim_Amount  \\\n",
              "age                              1.000000  0.155957  0.045371      0.117750   \n",
              "bmi                              0.155957  1.000000  0.006477      0.008343   \n",
              "children                         0.045371  0.006477  1.000000      0.041716   \n",
              "Claim_Amount                     0.117750  0.008343  0.041716      1.000000   \n",
              "past_consultations               0.172063  0.023543  0.045472      0.071569   \n",
              "num_of_steps                     0.749468  0.040324  0.228830      0.185434   \n",
              "Hospital_expenditure             0.160555  0.013992 -0.007494      0.054111   \n",
              "NUmber_of_past_hospitalizations  0.519538  0.016121  0.316622      0.109748   \n",
              "Anual_Salary                     0.490802  0.004105  0.064840      0.157826   \n",
              "charges                          0.676071  0.010248  0.138470      0.192601   \n",
              "\n",
              "                                 past_consultations  num_of_steps  \\\n",
              "age                                        0.172063      0.749468   \n",
              "bmi                                        0.023543      0.040324   \n",
              "children                                   0.045472      0.228830   \n",
              "Claim_Amount                               0.071569      0.185434   \n",
              "past_consultations                         1.000000      0.259401   \n",
              "num_of_steps                               0.259401      1.000000   \n",
              "Hospital_expenditure                       0.088466      0.299554   \n",
              "NUmber_of_past_hospitalizations            0.135498      0.714983   \n",
              "Anual_Salary                               0.265710      0.767247   \n",
              "charges                                    0.278131      0.936946   \n",
              "\n",
              "                                 Hospital_expenditure  \\\n",
              "age                                          0.160555   \n",
              "bmi                                          0.013992   \n",
              "children                                    -0.007494   \n",
              "Claim_Amount                                 0.054111   \n",
              "past_consultations                           0.088466   \n",
              "num_of_steps                                 0.299554   \n",
              "Hospital_expenditure                         1.000000   \n",
              "NUmber_of_past_hospitalizations              0.129334   \n",
              "Anual_Salary                                 0.366809   \n",
              "charges                                      0.358378   \n",
              "\n",
              "                                 NUmber_of_past_hospitalizations  \\\n",
              "age                                                     0.519538   \n",
              "bmi                                                     0.016121   \n",
              "children                                                0.316622   \n",
              "Claim_Amount                                            0.109748   \n",
              "past_consultations                                      0.135498   \n",
              "num_of_steps                                            0.714983   \n",
              "Hospital_expenditure                                    0.129334   \n",
              "NUmber_of_past_hospitalizations                         1.000000   \n",
              "Anual_Salary                                            0.359422   \n",
              "charges                                                 0.538116   \n",
              "\n",
              "                                 Anual_Salary   charges  \n",
              "age                                  0.490802  0.676071  \n",
              "bmi                                  0.004105  0.010248  \n",
              "children                             0.064840  0.138470  \n",
              "Claim_Amount                         0.157826  0.192601  \n",
              "past_consultations                   0.265710  0.278131  \n",
              "num_of_steps                         0.767247  0.936946  \n",
              "Hospital_expenditure                 0.366809  0.358378  \n",
              "NUmber_of_past_hospitalizations      0.359422  0.538116  \n",
              "Anual_Salary                         1.000000  0.892308  \n",
              "charges                              0.892308  1.000000  "
            ]
          },
          "execution_count": 38,
          "metadata": {},
          "output_type": "execute_result"
        }
      ],
      "source": [
        "insurance.corr()"
      ]
    },
    {
      "cell_type": "code",
      "source": [
        "insurance.shape"
      ],
      "metadata": {
        "colab": {
          "base_uri": "https://localhost:8080/"
        },
        "id": "1ZSUBAQUwvVl",
        "outputId": "2910dc21-c66a-4c20-da9d-2f381b88493d"
      },
      "id": "1ZSUBAQUwvVl",
      "execution_count": 34,
      "outputs": [
        {
          "output_type": "execute_result",
          "data": {
            "text/plain": [
              "(1030, 13)"
            ]
          },
          "metadata": {},
          "execution_count": 34
        }
      ]
    },
    {
      "cell_type": "code",
      "execution_count": null,
      "id": "d8485224",
      "metadata": {
        "id": "d8485224"
      },
      "outputs": [],
      "source": [
        "#age, date of birth, 10th_year, 12th_year,--- anual expediture of the customer"
      ]
    },
    {
      "cell_type": "code",
      "execution_count": null,
      "id": "b1f601d8",
      "metadata": {
        "id": "b1f601d8"
      },
      "outputs": [],
      "source": [
        "from sklearn.linear_model import LinearRegression"
      ]
    },
    {
      "cell_type": "code",
      "execution_count": null,
      "id": "8b93388a",
      "metadata": {
        "id": "8b93388a"
      },
      "outputs": [],
      "source": [
        "from sklearn.model_selection import train_test_split"
      ]
    },
    {
      "cell_type": "code",
      "execution_count": null,
      "id": "24e20a03",
      "metadata": {
        "id": "24e20a03"
      },
      "outputs": [],
      "source": [
        "#corelation\n",
        "#age, gender,---- \n",
        "#charges"
      ]
    },
    {
      "cell_type": "code",
      "execution_count": null,
      "id": "287bd6d8",
      "metadata": {
        "id": "287bd6d8"
      },
      "outputs": [],
      "source": [
        "#multi-colinearirity== 5 or 6\n",
        "#age, gender, dob, ---- \n",
        "#charges"
      ]
    },
    {
      "cell_type": "code",
      "execution_count": null,
      "id": "b8078c49",
      "metadata": {
        "id": "b8078c49"
      },
      "outputs": [],
      "source": [
        "from statsmodels.stats.outliers_influence import variance_inflation_factor \n",
        "col_list = []\n",
        "for col in insurance.columns:\n",
        "    if ((insurance[col].dtype != 'object') & (col != 'charges') ):#only num cols except for the charges column\n",
        "        col_list.append(col)"
      ]
    },
    {
      "cell_type": "markdown",
      "source": [
        ""
      ],
      "metadata": {
        "id": "Kwy4rXlCyzI8"
      },
      "id": "Kwy4rXlCyzI8"
    },
    {
      "cell_type": "code",
      "execution_count": null,
      "id": "912e2bd3",
      "metadata": {
        "id": "912e2bd3",
        "outputId": "82b859d5-f286-4800-dfa9-db877677eb08"
      },
      "outputs": [
        {
          "data": {
            "text/plain": [
              "['age',\n",
              " 'bmi',\n",
              " 'children',\n",
              " 'Claim_Amount',\n",
              " 'past_consultations',\n",
              " 'num_of_steps',\n",
              " 'Hospital_expenditure',\n",
              " 'NUmber_of_past_hospitalizations',\n",
              " 'Anual_Salary']"
            ]
          },
          "execution_count": 46,
          "metadata": {},
          "output_type": "execute_result"
        }
      ],
      "source": [
        "col_list"
      ]
    },
    {
      "cell_type": "code",
      "execution_count": null,
      "id": "e2f3c8c9",
      "metadata": {
        "id": "e2f3c8c9",
        "outputId": "5ca92c9f-328a-4843-efb0-2331abd7d36b"
      },
      "outputs": [
        {
          "data": {
            "text/html": [
              "<div>\n",
              "<style scoped>\n",
              "    .dataframe tbody tr th:only-of-type {\n",
              "        vertical-align: middle;\n",
              "    }\n",
              "\n",
              "    .dataframe tbody tr th {\n",
              "        vertical-align: top;\n",
              "    }\n",
              "\n",
              "    .dataframe thead th {\n",
              "        text-align: right;\n",
              "    }\n",
              "</style>\n",
              "<table border=\"1\" class=\"dataframe\">\n",
              "  <thead>\n",
              "    <tr style=\"text-align: right;\">\n",
              "      <th></th>\n",
              "      <th>age</th>\n",
              "      <th>bmi</th>\n",
              "      <th>children</th>\n",
              "      <th>Claim_Amount</th>\n",
              "      <th>past_consultations</th>\n",
              "      <th>num_of_steps</th>\n",
              "      <th>Hospital_expenditure</th>\n",
              "      <th>NUmber_of_past_hospitalizations</th>\n",
              "      <th>Anual_Salary</th>\n",
              "    </tr>\n",
              "  </thead>\n",
              "  <tbody>\n",
              "    <tr>\n",
              "      <th>0</th>\n",
              "      <td>18.0</td>\n",
              "      <td>23.210</td>\n",
              "      <td>0.0</td>\n",
              "      <td>29087.54313</td>\n",
              "      <td>17.0</td>\n",
              "      <td>715428.0</td>\n",
              "      <td>4.720921e+06</td>\n",
              "      <td>0.0</td>\n",
              "      <td>5.578497e+07</td>\n",
              "    </tr>\n",
              "    <tr>\n",
              "      <th>1</th>\n",
              "      <td>18.0</td>\n",
              "      <td>30.140</td>\n",
              "      <td>0.0</td>\n",
              "      <td>39053.67437</td>\n",
              "      <td>7.0</td>\n",
              "      <td>699157.0</td>\n",
              "      <td>4.329832e+06</td>\n",
              "      <td>0.0</td>\n",
              "      <td>1.370089e+07</td>\n",
              "    </tr>\n",
              "    <tr>\n",
              "      <th>2</th>\n",
              "      <td>18.0</td>\n",
              "      <td>33.330</td>\n",
              "      <td>0.0</td>\n",
              "      <td>39023.62759</td>\n",
              "      <td>19.0</td>\n",
              "      <td>702341.0</td>\n",
              "      <td>6.884861e+06</td>\n",
              "      <td>0.0</td>\n",
              "      <td>7.352311e+07</td>\n",
              "    </tr>\n",
              "    <tr>\n",
              "      <th>3</th>\n",
              "      <td>18.0</td>\n",
              "      <td>33.660</td>\n",
              "      <td>0.0</td>\n",
              "      <td>28185.39332</td>\n",
              "      <td>11.0</td>\n",
              "      <td>700250.0</td>\n",
              "      <td>4.274774e+06</td>\n",
              "      <td>0.0</td>\n",
              "      <td>7.581968e+07</td>\n",
              "    </tr>\n",
              "    <tr>\n",
              "      <th>4</th>\n",
              "      <td>18.0</td>\n",
              "      <td>34.100</td>\n",
              "      <td>0.0</td>\n",
              "      <td>14697.85941</td>\n",
              "      <td>16.0</td>\n",
              "      <td>711584.0</td>\n",
              "      <td>3.787294e+06</td>\n",
              "      <td>0.0</td>\n",
              "      <td>2.301232e+07</td>\n",
              "    </tr>\n",
              "    <tr>\n",
              "      <th>...</th>\n",
              "      <td>...</td>\n",
              "      <td>...</td>\n",
              "      <td>...</td>\n",
              "      <td>...</td>\n",
              "      <td>...</td>\n",
              "      <td>...</td>\n",
              "      <td>...</td>\n",
              "      <td>...</td>\n",
              "      <td>...</td>\n",
              "    </tr>\n",
              "    <tr>\n",
              "      <th>1046</th>\n",
              "      <td>29.0</td>\n",
              "      <td>27.940</td>\n",
              "      <td>1.0</td>\n",
              "      <td>51168.25474</td>\n",
              "      <td>23.0</td>\n",
              "      <td>993751.0</td>\n",
              "      <td>1.665982e+07</td>\n",
              "      <td>1.0</td>\n",
              "      <td>3.712188e+08</td>\n",
              "    </tr>\n",
              "    <tr>\n",
              "      <th>1048</th>\n",
              "      <td>31.0</td>\n",
              "      <td>25.900</td>\n",
              "      <td>3.0</td>\n",
              "      <td>46619.40230</td>\n",
              "      <td>27.0</td>\n",
              "      <td>989387.0</td>\n",
              "      <td>1.361938e+07</td>\n",
              "      <td>1.0</td>\n",
              "      <td>3.812895e+08</td>\n",
              "    </tr>\n",
              "    <tr>\n",
              "      <th>1050</th>\n",
              "      <td>31.0</td>\n",
              "      <td>29.810</td>\n",
              "      <td>0.0</td>\n",
              "      <td>24382.58056</td>\n",
              "      <td>21.0</td>\n",
              "      <td>973924.0</td>\n",
              "      <td>1.028991e+07</td>\n",
              "      <td>1.0</td>\n",
              "      <td>3.745310e+08</td>\n",
              "    </tr>\n",
              "    <tr>\n",
              "      <th>1062</th>\n",
              "      <td>43.0</td>\n",
              "      <td>20.045</td>\n",
              "      <td>2.0</td>\n",
              "      <td>21596.43846</td>\n",
              "      <td>10.0</td>\n",
              "      <td>994419.0</td>\n",
              "      <td>1.083030e+07</td>\n",
              "      <td>1.0</td>\n",
              "      <td>3.696849e+08</td>\n",
              "    </tr>\n",
              "    <tr>\n",
              "      <th>1069</th>\n",
              "      <td>35.0</td>\n",
              "      <td>28.025</td>\n",
              "      <td>0.0</td>\n",
              "      <td>17200.14586</td>\n",
              "      <td>15.0</td>\n",
              "      <td>993979.0</td>\n",
              "      <td>1.247744e+07</td>\n",
              "      <td>1.0</td>\n",
              "      <td>3.696849e+08</td>\n",
              "    </tr>\n",
              "  </tbody>\n",
              "</table>\n",
              "<p>1030 rows × 9 columns</p>\n",
              "</div>"
            ],
            "text/plain": [
              "       age     bmi  children  Claim_Amount  past_consultations  num_of_steps  \\\n",
              "0     18.0  23.210       0.0   29087.54313                17.0      715428.0   \n",
              "1     18.0  30.140       0.0   39053.67437                 7.0      699157.0   \n",
              "2     18.0  33.330       0.0   39023.62759                19.0      702341.0   \n",
              "3     18.0  33.660       0.0   28185.39332                11.0      700250.0   \n",
              "4     18.0  34.100       0.0   14697.85941                16.0      711584.0   \n",
              "...    ...     ...       ...           ...                 ...           ...   \n",
              "1046  29.0  27.940       1.0   51168.25474                23.0      993751.0   \n",
              "1048  31.0  25.900       3.0   46619.40230                27.0      989387.0   \n",
              "1050  31.0  29.810       0.0   24382.58056                21.0      973924.0   \n",
              "1062  43.0  20.045       2.0   21596.43846                10.0      994419.0   \n",
              "1069  35.0  28.025       0.0   17200.14586                15.0      993979.0   \n",
              "\n",
              "      Hospital_expenditure  NUmber_of_past_hospitalizations  Anual_Salary  \n",
              "0             4.720921e+06                              0.0  5.578497e+07  \n",
              "1             4.329832e+06                              0.0  1.370089e+07  \n",
              "2             6.884861e+06                              0.0  7.352311e+07  \n",
              "3             4.274774e+06                              0.0  7.581968e+07  \n",
              "4             3.787294e+06                              0.0  2.301232e+07  \n",
              "...                    ...                              ...           ...  \n",
              "1046          1.665982e+07                              1.0  3.712188e+08  \n",
              "1048          1.361938e+07                              1.0  3.812895e+08  \n",
              "1050          1.028991e+07                              1.0  3.745310e+08  \n",
              "1062          1.083030e+07                              1.0  3.696849e+08  \n",
              "1069          1.247744e+07                              1.0  3.696849e+08  \n",
              "\n",
              "[1030 rows x 9 columns]"
            ]
          },
          "execution_count": 47,
          "metadata": {},
          "output_type": "execute_result"
        }
      ],
      "source": [
        "X = insurance[col_list]\n",
        "X"
      ]
    },
    {
      "cell_type": "code",
      "execution_count": null,
      "id": "aaa80713",
      "metadata": {
        "id": "aaa80713",
        "outputId": "8bdc9fca-b403-4c19-8e08-b2c5d92db058"
      },
      "outputs": [
        {
          "data": {
            "text/plain": [
              "array([[1.80000000e+01, 2.32100000e+01, 0.00000000e+00, ...,\n",
              "        4.72092099e+06, 0.00000000e+00, 5.57849700e+07],\n",
              "       [1.80000000e+01, 3.01400000e+01, 0.00000000e+00, ...,\n",
              "        4.32983168e+06, 0.00000000e+00, 1.37008852e+07],\n",
              "       [1.80000000e+01, 3.33300000e+01, 0.00000000e+00, ...,\n",
              "        6.88486077e+06, 0.00000000e+00, 7.35231073e+07],\n",
              "       ...,\n",
              "       [3.10000000e+01, 2.98100000e+01, 0.00000000e+00, ...,\n",
              "        1.02899068e+07, 1.00000000e+00, 3.74530951e+08],\n",
              "       [4.30000000e+01, 2.00450000e+01, 2.00000000e+00, ...,\n",
              "        1.08303011e+07, 1.00000000e+00, 3.69684860e+08],\n",
              "       [3.50000000e+01, 2.80250000e+01, 0.00000000e+00, ...,\n",
              "        1.24774431e+07, 1.00000000e+00, 3.69684860e+08]])"
            ]
          },
          "execution_count": 48,
          "metadata": {},
          "output_type": "execute_result"
        }
      ],
      "source": [
        "X.values"
      ]
    },
    {
      "cell_type": "code",
      "execution_count": null,
      "id": "558e17ca",
      "metadata": {
        "id": "558e17ca",
        "outputId": "f290ca87-edf2-435c-d109-b0b1782d0fc4"
      },
      "outputs": [
        {
          "name": "stdout",
          "output_type": "stream",
          "text": [
            "0\n",
            "1\n",
            "2\n",
            "3\n",
            "4\n",
            "5\n",
            "6\n",
            "7\n",
            "8\n"
          ]
        }
      ],
      "source": [
        "for i in range(len(X.columns)):\n",
        "    print(i)"
      ]
    },
    {
      "cell_type": "code",
      "execution_count": null,
      "id": "6ec6768b",
      "metadata": {
        "id": "6ec6768b",
        "outputId": "dadffaf0-85de-4212-e8e2-26bb921bfb1e"
      },
      "outputs": [
        {
          "name": "stdout",
          "output_type": "stream",
          "text": [
            "                           feature        VIF\n",
            "0                              age  15.452095\n",
            "1                              bmi  26.330788\n",
            "2                         children   2.029618\n",
            "3                     Claim_Amount   5.678660\n",
            "4               past_consultations   6.258017\n",
            "5                     num_of_steps  61.574692\n",
            "6             Hospital_expenditure   5.204376\n",
            "7  NUmber_of_past_hospitalizations  12.052060\n",
            "8                     Anual_Salary   5.481823\n"
          ]
        }
      ],
      "source": [
        "from statsmodels.stats.outliers_influence import variance_inflation_factor \n",
        "col_list = []\n",
        "for col in insurance.columns:\n",
        "    if ((insurance[col].dtype != 'object') & (col != 'charges') ):\n",
        "        col_list.append(col)\n",
        "\n",
        "X = insurance[col_list]\n",
        "vif_data = pd.DataFrame() \n",
        "vif_data[\"feature\"] = X.columns \n",
        "vif_data[\"VIF\"] = [variance_inflation_factor(X.values, i) for i in range(len(X.columns))] \n",
        "print(vif_data)"
      ]
    },
    {
      "cell_type": "code",
      "execution_count": null,
      "id": "b47a1312",
      "metadata": {
        "id": "b47a1312",
        "outputId": "259c8afa-43cd-4e6b-bfbe-984ca6e69d20"
      },
      "outputs": [
        {
          "data": {
            "text/plain": [
              "9"
            ]
          },
          "execution_count": 51,
          "metadata": {},
          "output_type": "execute_result"
        }
      ],
      "source": [
        "len(X.columns)"
      ]
    },
    {
      "cell_type": "code",
      "execution_count": null,
      "id": "8462d5aa",
      "metadata": {
        "id": "8462d5aa"
      },
      "outputs": [],
      "source": [
        "#1/1-R2"
      ]
    },
    {
      "cell_type": "code",
      "execution_count": null,
      "id": "087626a6",
      "metadata": {
        "id": "087626a6"
      },
      "outputs": [],
      "source": [
        "insurance=insurance.drop(['num_of_steps'], axis = 1)"
      ]
    },
    {
      "cell_type": "code",
      "execution_count": null,
      "id": "7ba11e54",
      "metadata": {
        "id": "7ba11e54",
        "outputId": "befb6a84-3370-44b0-9a56-7f3d9cb643fa"
      },
      "outputs": [
        {
          "name": "stdout",
          "output_type": "stream",
          "text": [
            "                           feature        VIF\n",
            "0                              age  14.484893\n",
            "1                              bmi  12.261123\n",
            "2                         children   2.017441\n",
            "3                     Claim_Amount   5.243640\n",
            "4               past_consultations   5.842169\n",
            "5             Hospital_expenditure   4.929952\n",
            "6  NUmber_of_past_hospitalizations  10.687768\n",
            "7                     Anual_Salary   5.380679\n"
          ]
        }
      ],
      "source": [
        "col_list = []\n",
        "for col in insurance.columns:\n",
        "    if ((insurance[col].dtype != 'object') & (col != 'charges') ):\n",
        "        col_list.append(col)\n",
        "\n",
        "X = insurance[col_list]\n",
        "vif_data = pd.DataFrame() \n",
        "vif_data[\"feature\"] = X.columns \n",
        "vif_data[\"VIF\"] = [variance_inflation_factor(X.values, i) \n",
        "                          for i in range(len(X.columns))] \n",
        "print(vif_data)"
      ]
    },
    {
      "cell_type": "code",
      "execution_count": null,
      "id": "c11fb567",
      "metadata": {
        "id": "c11fb567"
      },
      "outputs": [],
      "source": [
        "insurance=insurance.drop(['age'], axis=1)"
      ]
    },
    {
      "cell_type": "code",
      "execution_count": null,
      "id": "c9e5b600",
      "metadata": {
        "id": "c9e5b600",
        "outputId": "a4025ff3-f43e-4e9b-ca55-3415b5d9475a"
      },
      "outputs": [
        {
          "name": "stdout",
          "output_type": "stream",
          "text": [
            "                           feature        VIF\n",
            "0                              bmi  10.323093\n",
            "1                         children   1.978843\n",
            "2                     Claim_Amount   5.228284\n",
            "3               past_consultations   5.821933\n",
            "4             Hospital_expenditure   4.929287\n",
            "5  NUmber_of_past_hospitalizations   8.310570\n",
            "6                     Anual_Salary   4.723495\n"
          ]
        }
      ],
      "source": [
        "col_list = []\n",
        "for col in insurance.columns:\n",
        "    if ((insurance[col].dtype != 'object') & (col != 'charges') ):\n",
        "        col_list.append(col)\n",
        "\n",
        "X = insurance[col_list]\n",
        "vif_data = pd.DataFrame() \n",
        "vif_data[\"feature\"] = X.columns \n",
        "vif_data[\"VIF\"] = [variance_inflation_factor(X.values, i) \n",
        "                          for i in range(len(X.columns))] \n",
        "print(vif_data)"
      ]
    },
    {
      "cell_type": "code",
      "execution_count": null,
      "id": "66c4111d",
      "metadata": {
        "id": "66c4111d"
      },
      "outputs": [],
      "source": [
        "insurance=insurance.drop(['bmi'], axis=1)"
      ]
    },
    {
      "cell_type": "code",
      "execution_count": null,
      "id": "3b35d176",
      "metadata": {
        "id": "3b35d176",
        "outputId": "8b218ebd-3055-4e36-d777-5724f99e939c"
      },
      "outputs": [
        {
          "name": "stdout",
          "output_type": "stream",
          "text": [
            "                           feature       VIF\n",
            "0                         children  1.977037\n",
            "1                     Claim_Amount  4.547332\n",
            "2               past_consultations  5.049165\n",
            "3             Hospital_expenditure  4.492630\n",
            "4  NUmber_of_past_hospitalizations  7.245972\n",
            "5                     Anual_Salary  4.688833\n"
          ]
        }
      ],
      "source": [
        "col_list = []\n",
        "for col in insurance.columns:\n",
        "    if ((insurance[col].dtype != 'object') & (col != 'charges') ):\n",
        "        col_list.append(col)\n",
        "\n",
        "X = insurance[col_list]\n",
        "vif_data = pd.DataFrame() \n",
        "vif_data[\"feature\"] = X.columns \n",
        "vif_data[\"VIF\"] = [variance_inflation_factor(X.values, i) \n",
        "                          for i in range(len(X.columns))] \n",
        "print(vif_data)"
      ]
    },
    {
      "cell_type": "code",
      "execution_count": null,
      "id": "a1e46a2c",
      "metadata": {
        "id": "a1e46a2c"
      },
      "outputs": [],
      "source": [
        "insurance=insurance.drop(['NUmber_of_past_hospitalizations'], axis=1)"
      ]
    },
    {
      "cell_type": "code",
      "execution_count": null,
      "id": "9adca449",
      "metadata": {
        "id": "9adca449",
        "outputId": "9f2964d5-7499-4bab-d754-4736519951a1"
      },
      "outputs": [
        {
          "name": "stdout",
          "output_type": "stream",
          "text": [
            "                feature       VIF\n",
            "0              children  1.713101\n",
            "1          Claim_Amount  4.152224\n",
            "2    past_consultations  4.670212\n",
            "3  Hospital_expenditure  4.320876\n",
            "4          Anual_Salary  4.279483\n"
          ]
        }
      ],
      "source": [
        "col_list = []\n",
        "for col in insurance.columns:\n",
        "    if ((insurance[col].dtype != 'object') & (col != 'charges') ):\n",
        "        col_list.append(col)\n",
        "\n",
        "X = insurance[col_list]\n",
        "vif_data = pd.DataFrame() \n",
        "vif_data[\"feature\"] = X.columns \n",
        "vif_data[\"VIF\"] = [variance_inflation_factor(X.values, i) \n",
        "                          for i in range(len(X.columns))] \n",
        "print(vif_data)\n",
        "\n",
        "# value<6"
      ]
    },
    {
      "cell_type": "code",
      "execution_count": null,
      "id": "65e1e027",
      "metadata": {
        "id": "65e1e027"
      },
      "outputs": [],
      "source": [
        "x=insurance.loc[:,['children','Claim_Amount','past_consultations','Hospital_expenditure','Anual_Salary']]\n",
        "y=insurance.iloc[:,-1]"
      ]
    },
    {
      "cell_type": "code",
      "source": [
        "insurance.head()\n"
      ],
      "metadata": {
        "colab": {
          "base_uri": "https://localhost:8080/",
          "height": 270
        },
        "id": "TFhMHpRe6vSe",
        "outputId": "3dfb76c3-4a77-433c-9b76-2c864759236b"
      },
      "id": "TFhMHpRe6vSe",
      "execution_count": 38,
      "outputs": [
        {
          "output_type": "execute_result",
          "data": {
            "text/plain": [
              "    age   sex    bmi  children smoker  Claim_Amount  past_consultations  \\\n",
              "0  18.0  male  23.21       0.0     no   29087.54313                17.0   \n",
              "1  18.0  male  30.14       0.0     no   39053.67437                 7.0   \n",
              "2  18.0  male  33.33       0.0     no   39023.62759                19.0   \n",
              "3  18.0  male  33.66       0.0     no   28185.39332                11.0   \n",
              "4  18.0  male  34.10       0.0     no   14697.85941                16.0   \n",
              "\n",
              "   num_of_steps  Hospital_expenditure  NUmber_of_past_hospitalizations  \\\n",
              "0      715428.0           4720920.992                              0.0   \n",
              "1      699157.0           4329831.676                              0.0   \n",
              "2      702341.0           6884860.774                              0.0   \n",
              "3      700250.0           4274773.550                              0.0   \n",
              "4      711584.0           3787293.921                              0.0   \n",
              "\n",
              "   Anual_Salary     region    charges  \n",
              "0   55784970.05  southeast  1121.8739  \n",
              "1   13700885.19  southeast  1131.5066  \n",
              "2   73523107.27  southeast  1135.9407  \n",
              "3   75819679.60  southeast  1136.3994  \n",
              "4   23012320.01  southeast  1137.0110  "
            ],
            "text/html": [
              "\n",
              "  <div id=\"df-1c7d25ed-1e26-4b88-b519-8ad46150a069\">\n",
              "    <div class=\"colab-df-container\">\n",
              "      <div>\n",
              "<style scoped>\n",
              "    .dataframe tbody tr th:only-of-type {\n",
              "        vertical-align: middle;\n",
              "    }\n",
              "\n",
              "    .dataframe tbody tr th {\n",
              "        vertical-align: top;\n",
              "    }\n",
              "\n",
              "    .dataframe thead th {\n",
              "        text-align: right;\n",
              "    }\n",
              "</style>\n",
              "<table border=\"1\" class=\"dataframe\">\n",
              "  <thead>\n",
              "    <tr style=\"text-align: right;\">\n",
              "      <th></th>\n",
              "      <th>age</th>\n",
              "      <th>sex</th>\n",
              "      <th>bmi</th>\n",
              "      <th>children</th>\n",
              "      <th>smoker</th>\n",
              "      <th>Claim_Amount</th>\n",
              "      <th>past_consultations</th>\n",
              "      <th>num_of_steps</th>\n",
              "      <th>Hospital_expenditure</th>\n",
              "      <th>NUmber_of_past_hospitalizations</th>\n",
              "      <th>Anual_Salary</th>\n",
              "      <th>region</th>\n",
              "      <th>charges</th>\n",
              "    </tr>\n",
              "  </thead>\n",
              "  <tbody>\n",
              "    <tr>\n",
              "      <th>0</th>\n",
              "      <td>18.0</td>\n",
              "      <td>male</td>\n",
              "      <td>23.21</td>\n",
              "      <td>0.0</td>\n",
              "      <td>no</td>\n",
              "      <td>29087.54313</td>\n",
              "      <td>17.0</td>\n",
              "      <td>715428.0</td>\n",
              "      <td>4720920.992</td>\n",
              "      <td>0.0</td>\n",
              "      <td>55784970.05</td>\n",
              "      <td>southeast</td>\n",
              "      <td>1121.8739</td>\n",
              "    </tr>\n",
              "    <tr>\n",
              "      <th>1</th>\n",
              "      <td>18.0</td>\n",
              "      <td>male</td>\n",
              "      <td>30.14</td>\n",
              "      <td>0.0</td>\n",
              "      <td>no</td>\n",
              "      <td>39053.67437</td>\n",
              "      <td>7.0</td>\n",
              "      <td>699157.0</td>\n",
              "      <td>4329831.676</td>\n",
              "      <td>0.0</td>\n",
              "      <td>13700885.19</td>\n",
              "      <td>southeast</td>\n",
              "      <td>1131.5066</td>\n",
              "    </tr>\n",
              "    <tr>\n",
              "      <th>2</th>\n",
              "      <td>18.0</td>\n",
              "      <td>male</td>\n",
              "      <td>33.33</td>\n",
              "      <td>0.0</td>\n",
              "      <td>no</td>\n",
              "      <td>39023.62759</td>\n",
              "      <td>19.0</td>\n",
              "      <td>702341.0</td>\n",
              "      <td>6884860.774</td>\n",
              "      <td>0.0</td>\n",
              "      <td>73523107.27</td>\n",
              "      <td>southeast</td>\n",
              "      <td>1135.9407</td>\n",
              "    </tr>\n",
              "    <tr>\n",
              "      <th>3</th>\n",
              "      <td>18.0</td>\n",
              "      <td>male</td>\n",
              "      <td>33.66</td>\n",
              "      <td>0.0</td>\n",
              "      <td>no</td>\n",
              "      <td>28185.39332</td>\n",
              "      <td>11.0</td>\n",
              "      <td>700250.0</td>\n",
              "      <td>4274773.550</td>\n",
              "      <td>0.0</td>\n",
              "      <td>75819679.60</td>\n",
              "      <td>southeast</td>\n",
              "      <td>1136.3994</td>\n",
              "    </tr>\n",
              "    <tr>\n",
              "      <th>4</th>\n",
              "      <td>18.0</td>\n",
              "      <td>male</td>\n",
              "      <td>34.10</td>\n",
              "      <td>0.0</td>\n",
              "      <td>no</td>\n",
              "      <td>14697.85941</td>\n",
              "      <td>16.0</td>\n",
              "      <td>711584.0</td>\n",
              "      <td>3787293.921</td>\n",
              "      <td>0.0</td>\n",
              "      <td>23012320.01</td>\n",
              "      <td>southeast</td>\n",
              "      <td>1137.0110</td>\n",
              "    </tr>\n",
              "  </tbody>\n",
              "</table>\n",
              "</div>\n",
              "      <button class=\"colab-df-convert\" onclick=\"convertToInteractive('df-1c7d25ed-1e26-4b88-b519-8ad46150a069')\"\n",
              "              title=\"Convert this dataframe to an interactive table.\"\n",
              "              style=\"display:none;\">\n",
              "        \n",
              "  <svg xmlns=\"http://www.w3.org/2000/svg\" height=\"24px\"viewBox=\"0 0 24 24\"\n",
              "       width=\"24px\">\n",
              "    <path d=\"M0 0h24v24H0V0z\" fill=\"none\"/>\n",
              "    <path d=\"M18.56 5.44l.94 2.06.94-2.06 2.06-.94-2.06-.94-.94-2.06-.94 2.06-2.06.94zm-11 1L8.5 8.5l.94-2.06 2.06-.94-2.06-.94L8.5 2.5l-.94 2.06-2.06.94zm10 10l.94 2.06.94-2.06 2.06-.94-2.06-.94-.94-2.06-.94 2.06-2.06.94z\"/><path d=\"M17.41 7.96l-1.37-1.37c-.4-.4-.92-.59-1.43-.59-.52 0-1.04.2-1.43.59L10.3 9.45l-7.72 7.72c-.78.78-.78 2.05 0 2.83L4 21.41c.39.39.9.59 1.41.59.51 0 1.02-.2 1.41-.59l7.78-7.78 2.81-2.81c.8-.78.8-2.07 0-2.86zM5.41 20L4 18.59l7.72-7.72 1.47 1.35L5.41 20z\"/>\n",
              "  </svg>\n",
              "      </button>\n",
              "      \n",
              "  <style>\n",
              "    .colab-df-container {\n",
              "      display:flex;\n",
              "      flex-wrap:wrap;\n",
              "      gap: 12px;\n",
              "    }\n",
              "\n",
              "    .colab-df-convert {\n",
              "      background-color: #E8F0FE;\n",
              "      border: none;\n",
              "      border-radius: 50%;\n",
              "      cursor: pointer;\n",
              "      display: none;\n",
              "      fill: #1967D2;\n",
              "      height: 32px;\n",
              "      padding: 0 0 0 0;\n",
              "      width: 32px;\n",
              "    }\n",
              "\n",
              "    .colab-df-convert:hover {\n",
              "      background-color: #E2EBFA;\n",
              "      box-shadow: 0px 1px 2px rgba(60, 64, 67, 0.3), 0px 1px 3px 1px rgba(60, 64, 67, 0.15);\n",
              "      fill: #174EA6;\n",
              "    }\n",
              "\n",
              "    [theme=dark] .colab-df-convert {\n",
              "      background-color: #3B4455;\n",
              "      fill: #D2E3FC;\n",
              "    }\n",
              "\n",
              "    [theme=dark] .colab-df-convert:hover {\n",
              "      background-color: #434B5C;\n",
              "      box-shadow: 0px 1px 3px 1px rgba(0, 0, 0, 0.15);\n",
              "      filter: drop-shadow(0px 1px 2px rgba(0, 0, 0, 0.3));\n",
              "      fill: #FFFFFF;\n",
              "    }\n",
              "  </style>\n",
              "\n",
              "      <script>\n",
              "        const buttonEl =\n",
              "          document.querySelector('#df-1c7d25ed-1e26-4b88-b519-8ad46150a069 button.colab-df-convert');\n",
              "        buttonEl.style.display =\n",
              "          google.colab.kernel.accessAllowed ? 'block' : 'none';\n",
              "\n",
              "        async function convertToInteractive(key) {\n",
              "          const element = document.querySelector('#df-1c7d25ed-1e26-4b88-b519-8ad46150a069');\n",
              "          const dataTable =\n",
              "            await google.colab.kernel.invokeFunction('convertToInteractive',\n",
              "                                                     [key], {});\n",
              "          if (!dataTable) return;\n",
              "\n",
              "          const docLinkHtml = 'Like what you see? Visit the ' +\n",
              "            '<a target=\"_blank\" href=https://colab.research.google.com/notebooks/data_table.ipynb>data table notebook</a>'\n",
              "            + ' to learn more about interactive tables.';\n",
              "          element.innerHTML = '';\n",
              "          dataTable['output_type'] = 'display_data';\n",
              "          await google.colab.output.renderOutput(dataTable, element);\n",
              "          const docLink = document.createElement('div');\n",
              "          docLink.innerHTML = docLinkHtml;\n",
              "          element.appendChild(docLink);\n",
              "        }\n",
              "      </script>\n",
              "    </div>\n",
              "  </div>\n",
              "  "
            ]
          },
          "metadata": {},
          "execution_count": 38
        }
      ]
    },
    {
      "cell_type": "code",
      "source": [
        "#loc---> location\n",
        "# iloc---> index location"
      ],
      "metadata": {
        "id": "wER1kZS_6zNr"
      },
      "id": "wER1kZS_6zNr",
      "execution_count": null,
      "outputs": []
    },
    {
      "cell_type": "code",
      "source": [
        "insurance.loc[:,'bmi':'children']"
      ],
      "metadata": {
        "colab": {
          "base_uri": "https://localhost:8080/",
          "height": 424
        },
        "id": "w1iqGMiz7GLN",
        "outputId": "b38adf62-b3e3-4397-ed5d-b0c2fa5d1b5b"
      },
      "id": "w1iqGMiz7GLN",
      "execution_count": 40,
      "outputs": [
        {
          "output_type": "execute_result",
          "data": {
            "text/plain": [
              "         bmi  children\n",
              "0     23.210       0.0\n",
              "1     30.140       0.0\n",
              "2     33.330       0.0\n",
              "3     33.660       0.0\n",
              "4     34.100       0.0\n",
              "...      ...       ...\n",
              "1046  27.940       1.0\n",
              "1048  25.900       3.0\n",
              "1050  29.810       0.0\n",
              "1062  20.045       2.0\n",
              "1069  28.025       0.0\n",
              "\n",
              "[1030 rows x 2 columns]"
            ],
            "text/html": [
              "\n",
              "  <div id=\"df-be7154de-af80-42be-967d-1a3e2b0bae15\">\n",
              "    <div class=\"colab-df-container\">\n",
              "      <div>\n",
              "<style scoped>\n",
              "    .dataframe tbody tr th:only-of-type {\n",
              "        vertical-align: middle;\n",
              "    }\n",
              "\n",
              "    .dataframe tbody tr th {\n",
              "        vertical-align: top;\n",
              "    }\n",
              "\n",
              "    .dataframe thead th {\n",
              "        text-align: right;\n",
              "    }\n",
              "</style>\n",
              "<table border=\"1\" class=\"dataframe\">\n",
              "  <thead>\n",
              "    <tr style=\"text-align: right;\">\n",
              "      <th></th>\n",
              "      <th>bmi</th>\n",
              "      <th>children</th>\n",
              "    </tr>\n",
              "  </thead>\n",
              "  <tbody>\n",
              "    <tr>\n",
              "      <th>0</th>\n",
              "      <td>23.210</td>\n",
              "      <td>0.0</td>\n",
              "    </tr>\n",
              "    <tr>\n",
              "      <th>1</th>\n",
              "      <td>30.140</td>\n",
              "      <td>0.0</td>\n",
              "    </tr>\n",
              "    <tr>\n",
              "      <th>2</th>\n",
              "      <td>33.330</td>\n",
              "      <td>0.0</td>\n",
              "    </tr>\n",
              "    <tr>\n",
              "      <th>3</th>\n",
              "      <td>33.660</td>\n",
              "      <td>0.0</td>\n",
              "    </tr>\n",
              "    <tr>\n",
              "      <th>4</th>\n",
              "      <td>34.100</td>\n",
              "      <td>0.0</td>\n",
              "    </tr>\n",
              "    <tr>\n",
              "      <th>...</th>\n",
              "      <td>...</td>\n",
              "      <td>...</td>\n",
              "    </tr>\n",
              "    <tr>\n",
              "      <th>1046</th>\n",
              "      <td>27.940</td>\n",
              "      <td>1.0</td>\n",
              "    </tr>\n",
              "    <tr>\n",
              "      <th>1048</th>\n",
              "      <td>25.900</td>\n",
              "      <td>3.0</td>\n",
              "    </tr>\n",
              "    <tr>\n",
              "      <th>1050</th>\n",
              "      <td>29.810</td>\n",
              "      <td>0.0</td>\n",
              "    </tr>\n",
              "    <tr>\n",
              "      <th>1062</th>\n",
              "      <td>20.045</td>\n",
              "      <td>2.0</td>\n",
              "    </tr>\n",
              "    <tr>\n",
              "      <th>1069</th>\n",
              "      <td>28.025</td>\n",
              "      <td>0.0</td>\n",
              "    </tr>\n",
              "  </tbody>\n",
              "</table>\n",
              "<p>1030 rows × 2 columns</p>\n",
              "</div>\n",
              "      <button class=\"colab-df-convert\" onclick=\"convertToInteractive('df-be7154de-af80-42be-967d-1a3e2b0bae15')\"\n",
              "              title=\"Convert this dataframe to an interactive table.\"\n",
              "              style=\"display:none;\">\n",
              "        \n",
              "  <svg xmlns=\"http://www.w3.org/2000/svg\" height=\"24px\"viewBox=\"0 0 24 24\"\n",
              "       width=\"24px\">\n",
              "    <path d=\"M0 0h24v24H0V0z\" fill=\"none\"/>\n",
              "    <path d=\"M18.56 5.44l.94 2.06.94-2.06 2.06-.94-2.06-.94-.94-2.06-.94 2.06-2.06.94zm-11 1L8.5 8.5l.94-2.06 2.06-.94-2.06-.94L8.5 2.5l-.94 2.06-2.06.94zm10 10l.94 2.06.94-2.06 2.06-.94-2.06-.94-.94-2.06-.94 2.06-2.06.94z\"/><path d=\"M17.41 7.96l-1.37-1.37c-.4-.4-.92-.59-1.43-.59-.52 0-1.04.2-1.43.59L10.3 9.45l-7.72 7.72c-.78.78-.78 2.05 0 2.83L4 21.41c.39.39.9.59 1.41.59.51 0 1.02-.2 1.41-.59l7.78-7.78 2.81-2.81c.8-.78.8-2.07 0-2.86zM5.41 20L4 18.59l7.72-7.72 1.47 1.35L5.41 20z\"/>\n",
              "  </svg>\n",
              "      </button>\n",
              "      \n",
              "  <style>\n",
              "    .colab-df-container {\n",
              "      display:flex;\n",
              "      flex-wrap:wrap;\n",
              "      gap: 12px;\n",
              "    }\n",
              "\n",
              "    .colab-df-convert {\n",
              "      background-color: #E8F0FE;\n",
              "      border: none;\n",
              "      border-radius: 50%;\n",
              "      cursor: pointer;\n",
              "      display: none;\n",
              "      fill: #1967D2;\n",
              "      height: 32px;\n",
              "      padding: 0 0 0 0;\n",
              "      width: 32px;\n",
              "    }\n",
              "\n",
              "    .colab-df-convert:hover {\n",
              "      background-color: #E2EBFA;\n",
              "      box-shadow: 0px 1px 2px rgba(60, 64, 67, 0.3), 0px 1px 3px 1px rgba(60, 64, 67, 0.15);\n",
              "      fill: #174EA6;\n",
              "    }\n",
              "\n",
              "    [theme=dark] .colab-df-convert {\n",
              "      background-color: #3B4455;\n",
              "      fill: #D2E3FC;\n",
              "    }\n",
              "\n",
              "    [theme=dark] .colab-df-convert:hover {\n",
              "      background-color: #434B5C;\n",
              "      box-shadow: 0px 1px 3px 1px rgba(0, 0, 0, 0.15);\n",
              "      filter: drop-shadow(0px 1px 2px rgba(0, 0, 0, 0.3));\n",
              "      fill: #FFFFFF;\n",
              "    }\n",
              "  </style>\n",
              "\n",
              "      <script>\n",
              "        const buttonEl =\n",
              "          document.querySelector('#df-be7154de-af80-42be-967d-1a3e2b0bae15 button.colab-df-convert');\n",
              "        buttonEl.style.display =\n",
              "          google.colab.kernel.accessAllowed ? 'block' : 'none';\n",
              "\n",
              "        async function convertToInteractive(key) {\n",
              "          const element = document.querySelector('#df-be7154de-af80-42be-967d-1a3e2b0bae15');\n",
              "          const dataTable =\n",
              "            await google.colab.kernel.invokeFunction('convertToInteractive',\n",
              "                                                     [key], {});\n",
              "          if (!dataTable) return;\n",
              "\n",
              "          const docLinkHtml = 'Like what you see? Visit the ' +\n",
              "            '<a target=\"_blank\" href=https://colab.research.google.com/notebooks/data_table.ipynb>data table notebook</a>'\n",
              "            + ' to learn more about interactive tables.';\n",
              "          element.innerHTML = '';\n",
              "          dataTable['output_type'] = 'display_data';\n",
              "          await google.colab.output.renderOutput(dataTable, element);\n",
              "          const docLink = document.createElement('div');\n",
              "          docLink.innerHTML = docLinkHtml;\n",
              "          element.appendChild(docLink);\n",
              "        }\n",
              "      </script>\n",
              "    </div>\n",
              "  </div>\n",
              "  "
            ]
          },
          "metadata": {},
          "execution_count": 40
        }
      ]
    },
    {
      "cell_type": "code",
      "source": [
        "insurance.iloc[:,2:4]"
      ],
      "metadata": {
        "colab": {
          "base_uri": "https://localhost:8080/",
          "height": 424
        },
        "id": "DtG99pt-6zYb",
        "outputId": "671ab661-f110-4770-ed78-95507a4f68fc"
      },
      "id": "DtG99pt-6zYb",
      "execution_count": 39,
      "outputs": [
        {
          "output_type": "execute_result",
          "data": {
            "text/plain": [
              "         bmi  children\n",
              "0     23.210       0.0\n",
              "1     30.140       0.0\n",
              "2     33.330       0.0\n",
              "3     33.660       0.0\n",
              "4     34.100       0.0\n",
              "...      ...       ...\n",
              "1046  27.940       1.0\n",
              "1048  25.900       3.0\n",
              "1050  29.810       0.0\n",
              "1062  20.045       2.0\n",
              "1069  28.025       0.0\n",
              "\n",
              "[1030 rows x 2 columns]"
            ],
            "text/html": [
              "\n",
              "  <div id=\"df-5d3f12cc-06c8-44b2-87e4-512d056a430c\">\n",
              "    <div class=\"colab-df-container\">\n",
              "      <div>\n",
              "<style scoped>\n",
              "    .dataframe tbody tr th:only-of-type {\n",
              "        vertical-align: middle;\n",
              "    }\n",
              "\n",
              "    .dataframe tbody tr th {\n",
              "        vertical-align: top;\n",
              "    }\n",
              "\n",
              "    .dataframe thead th {\n",
              "        text-align: right;\n",
              "    }\n",
              "</style>\n",
              "<table border=\"1\" class=\"dataframe\">\n",
              "  <thead>\n",
              "    <tr style=\"text-align: right;\">\n",
              "      <th></th>\n",
              "      <th>bmi</th>\n",
              "      <th>children</th>\n",
              "    </tr>\n",
              "  </thead>\n",
              "  <tbody>\n",
              "    <tr>\n",
              "      <th>0</th>\n",
              "      <td>23.210</td>\n",
              "      <td>0.0</td>\n",
              "    </tr>\n",
              "    <tr>\n",
              "      <th>1</th>\n",
              "      <td>30.140</td>\n",
              "      <td>0.0</td>\n",
              "    </tr>\n",
              "    <tr>\n",
              "      <th>2</th>\n",
              "      <td>33.330</td>\n",
              "      <td>0.0</td>\n",
              "    </tr>\n",
              "    <tr>\n",
              "      <th>3</th>\n",
              "      <td>33.660</td>\n",
              "      <td>0.0</td>\n",
              "    </tr>\n",
              "    <tr>\n",
              "      <th>4</th>\n",
              "      <td>34.100</td>\n",
              "      <td>0.0</td>\n",
              "    </tr>\n",
              "    <tr>\n",
              "      <th>...</th>\n",
              "      <td>...</td>\n",
              "      <td>...</td>\n",
              "    </tr>\n",
              "    <tr>\n",
              "      <th>1046</th>\n",
              "      <td>27.940</td>\n",
              "      <td>1.0</td>\n",
              "    </tr>\n",
              "    <tr>\n",
              "      <th>1048</th>\n",
              "      <td>25.900</td>\n",
              "      <td>3.0</td>\n",
              "    </tr>\n",
              "    <tr>\n",
              "      <th>1050</th>\n",
              "      <td>29.810</td>\n",
              "      <td>0.0</td>\n",
              "    </tr>\n",
              "    <tr>\n",
              "      <th>1062</th>\n",
              "      <td>20.045</td>\n",
              "      <td>2.0</td>\n",
              "    </tr>\n",
              "    <tr>\n",
              "      <th>1069</th>\n",
              "      <td>28.025</td>\n",
              "      <td>0.0</td>\n",
              "    </tr>\n",
              "  </tbody>\n",
              "</table>\n",
              "<p>1030 rows × 2 columns</p>\n",
              "</div>\n",
              "      <button class=\"colab-df-convert\" onclick=\"convertToInteractive('df-5d3f12cc-06c8-44b2-87e4-512d056a430c')\"\n",
              "              title=\"Convert this dataframe to an interactive table.\"\n",
              "              style=\"display:none;\">\n",
              "        \n",
              "  <svg xmlns=\"http://www.w3.org/2000/svg\" height=\"24px\"viewBox=\"0 0 24 24\"\n",
              "       width=\"24px\">\n",
              "    <path d=\"M0 0h24v24H0V0z\" fill=\"none\"/>\n",
              "    <path d=\"M18.56 5.44l.94 2.06.94-2.06 2.06-.94-2.06-.94-.94-2.06-.94 2.06-2.06.94zm-11 1L8.5 8.5l.94-2.06 2.06-.94-2.06-.94L8.5 2.5l-.94 2.06-2.06.94zm10 10l.94 2.06.94-2.06 2.06-.94-2.06-.94-.94-2.06-.94 2.06-2.06.94z\"/><path d=\"M17.41 7.96l-1.37-1.37c-.4-.4-.92-.59-1.43-.59-.52 0-1.04.2-1.43.59L10.3 9.45l-7.72 7.72c-.78.78-.78 2.05 0 2.83L4 21.41c.39.39.9.59 1.41.59.51 0 1.02-.2 1.41-.59l7.78-7.78 2.81-2.81c.8-.78.8-2.07 0-2.86zM5.41 20L4 18.59l7.72-7.72 1.47 1.35L5.41 20z\"/>\n",
              "  </svg>\n",
              "      </button>\n",
              "      \n",
              "  <style>\n",
              "    .colab-df-container {\n",
              "      display:flex;\n",
              "      flex-wrap:wrap;\n",
              "      gap: 12px;\n",
              "    }\n",
              "\n",
              "    .colab-df-convert {\n",
              "      background-color: #E8F0FE;\n",
              "      border: none;\n",
              "      border-radius: 50%;\n",
              "      cursor: pointer;\n",
              "      display: none;\n",
              "      fill: #1967D2;\n",
              "      height: 32px;\n",
              "      padding: 0 0 0 0;\n",
              "      width: 32px;\n",
              "    }\n",
              "\n",
              "    .colab-df-convert:hover {\n",
              "      background-color: #E2EBFA;\n",
              "      box-shadow: 0px 1px 2px rgba(60, 64, 67, 0.3), 0px 1px 3px 1px rgba(60, 64, 67, 0.15);\n",
              "      fill: #174EA6;\n",
              "    }\n",
              "\n",
              "    [theme=dark] .colab-df-convert {\n",
              "      background-color: #3B4455;\n",
              "      fill: #D2E3FC;\n",
              "    }\n",
              "\n",
              "    [theme=dark] .colab-df-convert:hover {\n",
              "      background-color: #434B5C;\n",
              "      box-shadow: 0px 1px 3px 1px rgba(0, 0, 0, 0.15);\n",
              "      filter: drop-shadow(0px 1px 2px rgba(0, 0, 0, 0.3));\n",
              "      fill: #FFFFFF;\n",
              "    }\n",
              "  </style>\n",
              "\n",
              "      <script>\n",
              "        const buttonEl =\n",
              "          document.querySelector('#df-5d3f12cc-06c8-44b2-87e4-512d056a430c button.colab-df-convert');\n",
              "        buttonEl.style.display =\n",
              "          google.colab.kernel.accessAllowed ? 'block' : 'none';\n",
              "\n",
              "        async function convertToInteractive(key) {\n",
              "          const element = document.querySelector('#df-5d3f12cc-06c8-44b2-87e4-512d056a430c');\n",
              "          const dataTable =\n",
              "            await google.colab.kernel.invokeFunction('convertToInteractive',\n",
              "                                                     [key], {});\n",
              "          if (!dataTable) return;\n",
              "\n",
              "          const docLinkHtml = 'Like what you see? Visit the ' +\n",
              "            '<a target=\"_blank\" href=https://colab.research.google.com/notebooks/data_table.ipynb>data table notebook</a>'\n",
              "            + ' to learn more about interactive tables.';\n",
              "          element.innerHTML = '';\n",
              "          dataTable['output_type'] = 'display_data';\n",
              "          await google.colab.output.renderOutput(dataTable, element);\n",
              "          const docLink = document.createElement('div');\n",
              "          docLink.innerHTML = docLinkHtml;\n",
              "          element.appendChild(docLink);\n",
              "        }\n",
              "      </script>\n",
              "    </div>\n",
              "  </div>\n",
              "  "
            ]
          },
          "metadata": {},
          "execution_count": 39
        }
      ]
    },
    {
      "cell_type": "code",
      "execution_count": null,
      "id": "23451c11",
      "metadata": {
        "id": "23451c11"
      },
      "outputs": [],
      "source": [
        "x_train, x_test, y_train, y_test=train_test_split(x,y,train_size=0.8, random_state=0)\n",
        "#how to split the data?\n",
        "#100%---> 80% train and 20% test\n",
        "# xtrain,xtest,ytrain,ytest= train_test_split(data,train_size/test_size)\n",
        "#train_size should be more\n",
        "#random_state--> pattern \n",
        "#example\n",
        "# 1,2,3,4,5,6\n",
        "# 3,4,6\n",
        "# 1,5,6\n",
        "# 1,2,3----> without random_state\n",
        "\n",
        "# 1,3,6\n",
        "# 1,3,6\n",
        "# 1,3,6\n",
        "#rs=0/1/100"
      ]
    },
    {
      "cell_type": "code",
      "execution_count": null,
      "id": "fe467b96",
      "metadata": {
        "id": "fe467b96",
        "outputId": "47e6eb3e-83ca-4fb4-d8c3-e3cd241873a2"
      },
      "outputs": [
        {
          "name": "stdout",
          "output_type": "stream",
          "text": [
            "(824, 5)\n",
            "(824,)\n",
            "(206, 5)\n",
            "(206,)\n"
          ]
        }
      ],
      "source": [
        "print(x_train.shape)\n",
        "print(y_train.shape)\n",
        "print(x_test.shape)\n",
        "print(y_test.shape)"
      ]
    },
    {
      "cell_type": "code",
      "execution_count": null,
      "id": "c6b9ad73",
      "metadata": {
        "id": "c6b9ad73",
        "outputId": "c373ef13-c662-4f31-94a0-c119337ee521"
      },
      "outputs": [
        {
          "ename": "SyntaxError",
          "evalue": "invalid syntax (<ipython-input-64-267c5cb9b04c>, line 2)",
          "output_type": "error",
          "traceback": [
            "\u001b[1;36m  File \u001b[1;32m\"<ipython-input-64-267c5cb9b04c>\"\u001b[1;36m, line \u001b[1;32m2\u001b[0m\n\u001b[1;33m    only features       targets\u001b[0m\n\u001b[1;37m         ^\u001b[0m\n\u001b[1;31mSyntaxError\u001b[0m\u001b[1;31m:\u001b[0m invalid syntax\n"
          ]
        }
      ],
      "source": [
        "train,             test\n",
        "only features       targets"
      ]
    },
    {
      "cell_type": "code",
      "execution_count": null,
      "id": "bdf0773f",
      "metadata": {
        "id": "bdf0773f",
        "outputId": "ad967bd7-9704-441d-84f4-75c371a24912"
      },
      "outputs": [
        {
          "ename": "SyntaxError",
          "evalue": "invalid syntax (<ipython-input-65-1adb31dcae20>, line 2)",
          "output_type": "error",
          "traceback": [
            "\u001b[1;36m  File \u001b[1;32m\"<ipython-input-65-1adb31dcae20>\"\u001b[1;36m, line \u001b[1;32m2\u001b[0m\n\u001b[1;33m    features,target     features,target\u001b[0m\n\u001b[1;37m                        ^\u001b[0m\n\u001b[1;31mSyntaxError\u001b[0m\u001b[1;31m:\u001b[0m invalid syntax\n"
          ]
        }
      ],
      "source": [
        "train,             test\n",
        "features,target     features,target "
      ]
    },
    {
      "cell_type": "code",
      "execution_count": null,
      "id": "4b90450e",
      "metadata": {
        "id": "4b90450e",
        "outputId": "b9493d4b-5859-418a-dd74-5c4578ccacf7"
      },
      "outputs": [
        {
          "data": {
            "text/plain": [
              "(     children  Claim_Amount  past_consultations  Hospital_expenditure  \\\n",
              " 746       0.0  25238.363470                11.0          2.086869e+06   \n",
              " 641       0.0  37222.476360                 9.0          6.062378e+06   \n",
              " 999       1.0  30825.190070                11.0          5.923489e+06   \n",
              " 281       0.0   9560.754493                15.0          3.185350e+06   \n",
              " 802       2.0  12992.139950                24.0          4.075903e+06   \n",
              " ..        ...           ...                 ...                   ...   \n",
              " 279       1.0  20150.675120                 9.0          1.747107e+05   \n",
              " 768       0.0   9582.708574                11.0          1.046259e+07   \n",
              " 841       0.0  31405.793590                12.0          9.380141e+06   \n",
              " 561       2.0   9816.604000                12.0          8.134594e+05   \n",
              " 688       0.0  55041.113080                16.0          9.347759e+06   \n",
              " \n",
              "      Anual_Salary  \n",
              " 746  1.649883e+08  \n",
              " 641  9.657123e+07  \n",
              " 999  3.029514e+08  \n",
              " 281  7.490390e+07  \n",
              " 802  2.061268e+08  \n",
              " ..            ...  \n",
              " 279  6.328892e+07  \n",
              " 768  1.850292e+08  \n",
              " 841  2.118739e+08  \n",
              " 561  1.287152e+08  \n",
              " 688  1.776668e+08  \n",
              " \n",
              " [824 rows x 5 columns],\n",
              " 746    10594.50155\n",
              " 641     8932.08400\n",
              " 999    16450.89470\n",
              " 281     4185.09790\n",
              " 802    11396.90020\n",
              "           ...     \n",
              " 279     4149.73600\n",
              " 768    10965.44600\n",
              " 841    11938.25595\n",
              " 561     7740.33700\n",
              " 688     9634.53800\n",
              " Name: charges, Length: 824, dtype: float64,\n",
              "      children  Claim_Amount  past_consultations  Hospital_expenditure  \\\n",
              " 752       0.0  33948.245030                14.0           2852368.952   \n",
              " 723       0.0  55314.076930                22.0           8962514.811   \n",
              " 177       2.0   5496.365185                 7.0           4728536.620   \n",
              " 834       0.0  22778.601030                24.0           5349680.612   \n",
              " 718       2.0  11951.090250                 4.0           5368280.300   \n",
              " ..        ...           ...                 ...                   ...   \n",
              " 627       0.0  49140.254220                10.0           4776407.417   \n",
              " 993       3.0  20212.558840                16.0           4530674.378   \n",
              " 426       1.0  45637.390130                 5.0           9278303.409   \n",
              " 895       2.0  12770.132490                24.0           4895703.017   \n",
              " 251       1.0  37250.209760                11.0           4798586.872   \n",
              " \n",
              "      Anual_Salary  \n",
              " 752  1.322794e+08  \n",
              " 723  1.811501e+08  \n",
              " 177  5.833210e+07  \n",
              " 834  2.223391e+08  \n",
              " 718  1.787119e+08  \n",
              " ..            ...  \n",
              " 627  9.172299e+07  \n",
              " 993  2.787266e+08  \n",
              " 426  6.394902e+07  \n",
              " 895  2.081729e+08  \n",
              " 251  1.548385e+07  \n",
              " \n",
              " [206 rows x 5 columns],\n",
              " 752    10704.47000\n",
              " 723    10197.77220\n",
              " 177     2801.25880\n",
              " 834    11848.14100\n",
              " 718    10107.22060\n",
              "           ...     \n",
              " 627     8688.85885\n",
              " 993    16085.12750\n",
              " 426     5976.83110\n",
              " 895    12925.88600\n",
              " 251     3766.88380\n",
              " Name: charges, Length: 206, dtype: float64)"
            ]
          },
          "execution_count": 66,
          "metadata": {},
          "output_type": "execute_result"
        }
      ],
      "source": [
        "x_train , y_train, x_test, y_test"
      ]
    },
    {
      "cell_type": "code",
      "execution_count": null,
      "id": "f82e3274",
      "metadata": {
        "id": "f82e3274"
      },
      "outputs": [],
      "source": [
        "l_model=LinearRegression()\n",
        "#building the model\n",
        "# building my robot---> this is example"
      ]
    },
    {
      "cell_type": "code",
      "execution_count": null,
      "id": "ee2dafdb",
      "metadata": {
        "id": "ee2dafdb",
        "outputId": "84b370aa-1506-4e43-fa96-c675967dda42"
      },
      "outputs": [
        {
          "data": {
            "text/plain": [
              "LinearRegression()"
            ]
          },
          "execution_count": 68,
          "metadata": {},
          "output_type": "execute_result"
        }
      ],
      "source": [
        "l_model.fit(x_train, y_train)"
      ]
    },
    {
      "cell_type": "code",
      "execution_count": null,
      "id": "de0b93a7",
      "metadata": {
        "id": "de0b93a7"
      },
      "outputs": [],
      "source": [
        "predictions=l_model.predict(x_test)"
      ]
    },
    {
      "cell_type": "code",
      "execution_count": null,
      "id": "387c24c7",
      "metadata": {
        "id": "387c24c7",
        "outputId": "9b492322-66a7-4269-f78e-b7853b13abf1"
      },
      "outputs": [
        {
          "data": {
            "text/plain": [
              "array([ 7410.79368293, 10525.46032915,  4225.68186835, 11784.67064225,\n",
              "        9710.44769938,  2920.2842248 ,  7675.02920953,  3974.05235592,\n",
              "        1998.90729712,  1644.33779822,  9355.99422159,  6212.23827286,\n",
              "        7039.69058406,  6913.41064621,  7297.05052731,  8116.21854338,\n",
              "        5359.21098612, 11610.94654974, 10731.85265303,  4125.9853505 ,\n",
              "        4978.27582414,  7076.11959566,  5297.22536169, 10517.54532015,\n",
              "        7970.32302537,  9134.27913297,  3195.07752332,  2030.84851756,\n",
              "        7974.53183191,  6784.21935489,  9063.13892274,  9603.83277346,\n",
              "        7310.54589067,  3127.05229652, 10815.26325584,  6390.86195988,\n",
              "        2959.6122486 ,  5861.07915275,  8191.78215091,  3550.84253839,\n",
              "        2770.66188065,  7533.68996881,  9234.00165878,  4599.21923178,\n",
              "        7080.4581291 ,  6040.26489712,  9148.59452642,  9621.34374208,\n",
              "        1845.77904492,  4786.94915214, 10787.39907084, 10725.71531506,\n",
              "       10417.07991618,  4695.22528892,  7214.06291724,  4625.56717868,\n",
              "        7070.97071416,  4832.79229408,  4921.6645236 ,  5390.73490965,\n",
              "       12157.57282626,  5842.57056696,  5743.69269365,  3322.41361323,\n",
              "        5241.38796184,  5197.03180732, 12653.2736581 , 12330.6144721 ,\n",
              "       13146.89736509, 10610.8617498 ,  5343.85665226,  5192.63095827,\n",
              "        2798.50864679,  7021.71170606,  5953.25286473,  7750.53776609,\n",
              "        3695.64413673,  9979.30782225,  9140.15977684,  5668.68647813,\n",
              "        7492.02711475,  5387.23905602,  7223.62153604,  4819.64692758,\n",
              "        5274.28601602,  9500.76335614,  8425.37847892,  6088.46443308,\n",
              "       17382.08115558,  4410.38971864,  7681.81845598, 11811.01314018,\n",
              "        2847.58654187,  7149.38115333, 12118.90030745,  5218.1816464 ,\n",
              "        8498.94921926, 18736.06282213,  8374.18288579, 11761.80964658,\n",
              "        6817.38169363,  7419.06962725,  6943.81378551, 15318.22331684,\n",
              "        4082.35264082,  9967.78911189,  4724.73502641,  4982.02483869,\n",
              "        8141.38248823, 15130.76274565,  9988.88380677,  3183.70063999,\n",
              "        9215.91516382,  4274.70522626, 16525.7888001 , 11553.07539793,\n",
              "       12180.44821735, 18729.20706771,  9852.65803541,  5369.1270617 ,\n",
              "        8091.955761  , 15196.45857578,  5444.20577558,  4079.32115207,\n",
              "       13076.34151515,  7445.10746273, 10830.27714957,  6369.85142804,\n",
              "        4542.90645191, 11411.14967819,  4709.91345623,  3528.20093325,\n",
              "        3487.87204914, 12257.00243487,  6256.80091319,  5009.68002786,\n",
              "       10089.25495933,  6116.31502399,  8280.43438669,  7031.72556368,\n",
              "        9930.75519415,  3817.30935557,  4048.44285506, 11907.05298701,\n",
              "        6686.9169283 ,  9807.20047298,  5232.328522  , 10347.06713295,\n",
              "       11601.69659173,  8131.79034824,  5683.70711561, 16387.38483128,\n",
              "        5464.06534313,  4244.00545447,  7264.97043063, 17023.64917213,\n",
              "        3260.27395254,  7385.10498572,  3021.5509367 ,  7859.13012523,\n",
              "        4654.88456066,  9096.8984787 , 14803.6230348 ,  6155.00653325,\n",
              "       17144.28142722,  2417.391024  ,  4006.11079601,  5390.03227282,\n",
              "        1196.76765808, 10475.72412494, 11314.24814599,  7035.90576038,\n",
              "       10439.81357374,  8530.47197744,  4897.20298841,  4789.69132358,\n",
              "       10411.41435708,  6285.14938642,  8396.08173082,  7137.34612038,\n",
              "        7024.10339038, 12696.94870271, 10249.7622798 ,  5206.9652089 ,\n",
              "        6026.04223446,  6395.05136151,  8192.26491727, 19892.8530779 ,\n",
              "        6797.67843891,  7628.25112571, 10469.76556039,  2429.62894561,\n",
              "       13001.99976996,  6795.73148932,  7917.71058934,  8232.89888416,\n",
              "       11229.86987181, 11936.16097121,  7674.07424505,  2631.98869906,\n",
              "        8297.23725025,  5781.93758287, 14969.26273666,  4926.60219651,\n",
              "       11617.12721089,  2520.96344645])"
            ]
          },
          "execution_count": 70,
          "metadata": {},
          "output_type": "execute_result"
        }
      ],
      "source": [
        "predictions"
      ]
    },
    {
      "cell_type": "code",
      "execution_count": null,
      "id": "265d03b7",
      "metadata": {
        "id": "265d03b7"
      },
      "outputs": [],
      "source": [
        "error_pred=pd.DataFrame(columns={'Actual_data','Prediction_data'})"
      ]
    },
    {
      "cell_type": "code",
      "execution_count": null,
      "id": "a3213faf",
      "metadata": {
        "id": "a3213faf",
        "outputId": "2f1b7857-e13c-4071-df61-b95f07f040c4"
      },
      "outputs": [
        {
          "data": {
            "text/html": [
              "<div>\n",
              "<style scoped>\n",
              "    .dataframe tbody tr th:only-of-type {\n",
              "        vertical-align: middle;\n",
              "    }\n",
              "\n",
              "    .dataframe tbody tr th {\n",
              "        vertical-align: top;\n",
              "    }\n",
              "\n",
              "    .dataframe thead th {\n",
              "        text-align: right;\n",
              "    }\n",
              "</style>\n",
              "<table border=\"1\" class=\"dataframe\">\n",
              "  <thead>\n",
              "    <tr style=\"text-align: right;\">\n",
              "      <th></th>\n",
              "      <th>Actual_data</th>\n",
              "      <th>Prediction_data</th>\n",
              "    </tr>\n",
              "  </thead>\n",
              "  <tbody>\n",
              "  </tbody>\n",
              "</table>\n",
              "</div>"
            ],
            "text/plain": [
              "Empty DataFrame\n",
              "Columns: [Actual_data, Prediction_data]\n",
              "Index: []"
            ]
          },
          "execution_count": 72,
          "metadata": {},
          "output_type": "execute_result"
        }
      ],
      "source": [
        "error_pred"
      ]
    },
    {
      "cell_type": "code",
      "execution_count": null,
      "id": "d92d06a5",
      "metadata": {
        "id": "d92d06a5"
      },
      "outputs": [],
      "source": [
        "error_pred['Actual_data']=y_test\n",
        "#professor ans key"
      ]
    },
    {
      "cell_type": "code",
      "execution_count": null,
      "id": "28be00fd",
      "metadata": {
        "id": "28be00fd",
        "outputId": "b3cdccab-83ae-44e3-df46-79424c3a6598"
      },
      "outputs": [
        {
          "data": {
            "text/html": [
              "<div>\n",
              "<style scoped>\n",
              "    .dataframe tbody tr th:only-of-type {\n",
              "        vertical-align: middle;\n",
              "    }\n",
              "\n",
              "    .dataframe tbody tr th {\n",
              "        vertical-align: top;\n",
              "    }\n",
              "\n",
              "    .dataframe thead th {\n",
              "        text-align: right;\n",
              "    }\n",
              "</style>\n",
              "<table border=\"1\" class=\"dataframe\">\n",
              "  <thead>\n",
              "    <tr style=\"text-align: right;\">\n",
              "      <th></th>\n",
              "      <th>Actual_data</th>\n",
              "      <th>Prediction_data</th>\n",
              "    </tr>\n",
              "  </thead>\n",
              "  <tbody>\n",
              "    <tr>\n",
              "      <th>752</th>\n",
              "      <td>10704.47000</td>\n",
              "      <td>NaN</td>\n",
              "    </tr>\n",
              "    <tr>\n",
              "      <th>723</th>\n",
              "      <td>10197.77220</td>\n",
              "      <td>NaN</td>\n",
              "    </tr>\n",
              "    <tr>\n",
              "      <th>177</th>\n",
              "      <td>2801.25880</td>\n",
              "      <td>NaN</td>\n",
              "    </tr>\n",
              "    <tr>\n",
              "      <th>834</th>\n",
              "      <td>11848.14100</td>\n",
              "      <td>NaN</td>\n",
              "    </tr>\n",
              "    <tr>\n",
              "      <th>718</th>\n",
              "      <td>10107.22060</td>\n",
              "      <td>NaN</td>\n",
              "    </tr>\n",
              "    <tr>\n",
              "      <th>...</th>\n",
              "      <td>...</td>\n",
              "      <td>...</td>\n",
              "    </tr>\n",
              "    <tr>\n",
              "      <th>627</th>\n",
              "      <td>8688.85885</td>\n",
              "      <td>NaN</td>\n",
              "    </tr>\n",
              "    <tr>\n",
              "      <th>993</th>\n",
              "      <td>16085.12750</td>\n",
              "      <td>NaN</td>\n",
              "    </tr>\n",
              "    <tr>\n",
              "      <th>426</th>\n",
              "      <td>5976.83110</td>\n",
              "      <td>NaN</td>\n",
              "    </tr>\n",
              "    <tr>\n",
              "      <th>895</th>\n",
              "      <td>12925.88600</td>\n",
              "      <td>NaN</td>\n",
              "    </tr>\n",
              "    <tr>\n",
              "      <th>251</th>\n",
              "      <td>3766.88380</td>\n",
              "      <td>NaN</td>\n",
              "    </tr>\n",
              "  </tbody>\n",
              "</table>\n",
              "<p>206 rows × 2 columns</p>\n",
              "</div>"
            ],
            "text/plain": [
              "     Actual_data Prediction_data\n",
              "752  10704.47000             NaN\n",
              "723  10197.77220             NaN\n",
              "177   2801.25880             NaN\n",
              "834  11848.14100             NaN\n",
              "718  10107.22060             NaN\n",
              "..           ...             ...\n",
              "627   8688.85885             NaN\n",
              "993  16085.12750             NaN\n",
              "426   5976.83110             NaN\n",
              "895  12925.88600             NaN\n",
              "251   3766.88380             NaN\n",
              "\n",
              "[206 rows x 2 columns]"
            ]
          },
          "execution_count": 74,
          "metadata": {},
          "output_type": "execute_result"
        }
      ],
      "source": [
        "error_pred"
      ]
    },
    {
      "cell_type": "code",
      "execution_count": null,
      "id": "7e0c867d",
      "metadata": {
        "id": "7e0c867d"
      },
      "outputs": [],
      "source": [
        "error_pred['Prediction_data']=predictions\n",
        "# ans given by kid"
      ]
    },
    {
      "cell_type": "code",
      "execution_count": null,
      "id": "7b9207b3",
      "metadata": {
        "id": "7b9207b3",
        "outputId": "1a19e50e-06ff-4f04-8934-039f21de3a65"
      },
      "outputs": [
        {
          "data": {
            "text/html": [
              "<div>\n",
              "<style scoped>\n",
              "    .dataframe tbody tr th:only-of-type {\n",
              "        vertical-align: middle;\n",
              "    }\n",
              "\n",
              "    .dataframe tbody tr th {\n",
              "        vertical-align: top;\n",
              "    }\n",
              "\n",
              "    .dataframe thead th {\n",
              "        text-align: right;\n",
              "    }\n",
              "</style>\n",
              "<table border=\"1\" class=\"dataframe\">\n",
              "  <thead>\n",
              "    <tr style=\"text-align: right;\">\n",
              "      <th></th>\n",
              "      <th>Actual_data</th>\n",
              "      <th>Prediction_data</th>\n",
              "    </tr>\n",
              "  </thead>\n",
              "  <tbody>\n",
              "    <tr>\n",
              "      <th>752</th>\n",
              "      <td>10704.4700</td>\n",
              "      <td>7410.793683</td>\n",
              "    </tr>\n",
              "    <tr>\n",
              "      <th>723</th>\n",
              "      <td>10197.7722</td>\n",
              "      <td>10525.460329</td>\n",
              "    </tr>\n",
              "    <tr>\n",
              "      <th>177</th>\n",
              "      <td>2801.2588</td>\n",
              "      <td>4225.681868</td>\n",
              "    </tr>\n",
              "    <tr>\n",
              "      <th>834</th>\n",
              "      <td>11848.1410</td>\n",
              "      <td>11784.670642</td>\n",
              "    </tr>\n",
              "    <tr>\n",
              "      <th>718</th>\n",
              "      <td>10107.2206</td>\n",
              "      <td>9710.447699</td>\n",
              "    </tr>\n",
              "  </tbody>\n",
              "</table>\n",
              "</div>"
            ],
            "text/plain": [
              "     Actual_data  Prediction_data\n",
              "752   10704.4700      7410.793683\n",
              "723   10197.7722     10525.460329\n",
              "177    2801.2588      4225.681868\n",
              "834   11848.1410     11784.670642\n",
              "718   10107.2206      9710.447699"
            ]
          },
          "execution_count": 76,
          "metadata": {},
          "output_type": "execute_result"
        }
      ],
      "source": [
        "error_pred.head()"
      ]
    },
    {
      "cell_type": "code",
      "execution_count": null,
      "id": "d1e932a4",
      "metadata": {
        "id": "d1e932a4",
        "outputId": "6d5e9664-0d24-4ca3-b739-c50393d372a6"
      },
      "outputs": [
        {
          "data": {
            "text/plain": [
              "(206, 2)"
            ]
          },
          "execution_count": 77,
          "metadata": {},
          "output_type": "execute_result"
        }
      ],
      "source": [
        "error_pred.shape"
      ]
    },
    {
      "cell_type": "code",
      "execution_count": null,
      "id": "d2f2eb80",
      "metadata": {
        "id": "d2f2eb80"
      },
      "outputs": [],
      "source": [
        "error_pred['Error']=error_pred['Actual_data']-error_pred['Prediction_data']"
      ]
    },
    {
      "cell_type": "code",
      "execution_count": null,
      "id": "05d308c4",
      "metadata": {
        "id": "05d308c4",
        "outputId": "19d39087-e93a-4106-b005-443dcb486072"
      },
      "outputs": [
        {
          "data": {
            "text/html": [
              "<div>\n",
              "<style scoped>\n",
              "    .dataframe tbody tr th:only-of-type {\n",
              "        vertical-align: middle;\n",
              "    }\n",
              "\n",
              "    .dataframe tbody tr th {\n",
              "        vertical-align: top;\n",
              "    }\n",
              "\n",
              "    .dataframe thead th {\n",
              "        text-align: right;\n",
              "    }\n",
              "</style>\n",
              "<table border=\"1\" class=\"dataframe\">\n",
              "  <thead>\n",
              "    <tr style=\"text-align: right;\">\n",
              "      <th></th>\n",
              "      <th>Actual_data</th>\n",
              "      <th>Prediction_data</th>\n",
              "      <th>Error</th>\n",
              "    </tr>\n",
              "  </thead>\n",
              "  <tbody>\n",
              "    <tr>\n",
              "      <th>752</th>\n",
              "      <td>10704.4700</td>\n",
              "      <td>7410.793683</td>\n",
              "      <td>3293.676317</td>\n",
              "    </tr>\n",
              "    <tr>\n",
              "      <th>723</th>\n",
              "      <td>10197.7722</td>\n",
              "      <td>10525.460329</td>\n",
              "      <td>-327.688129</td>\n",
              "    </tr>\n",
              "    <tr>\n",
              "      <th>177</th>\n",
              "      <td>2801.2588</td>\n",
              "      <td>4225.681868</td>\n",
              "      <td>-1424.423068</td>\n",
              "    </tr>\n",
              "    <tr>\n",
              "      <th>834</th>\n",
              "      <td>11848.1410</td>\n",
              "      <td>11784.670642</td>\n",
              "      <td>63.470358</td>\n",
              "    </tr>\n",
              "    <tr>\n",
              "      <th>718</th>\n",
              "      <td>10107.2206</td>\n",
              "      <td>9710.447699</td>\n",
              "      <td>396.772901</td>\n",
              "    </tr>\n",
              "  </tbody>\n",
              "</table>\n",
              "</div>"
            ],
            "text/plain": [
              "     Actual_data  Prediction_data        Error\n",
              "752   10704.4700      7410.793683  3293.676317\n",
              "723   10197.7722     10525.460329  -327.688129\n",
              "177    2801.2588      4225.681868 -1424.423068\n",
              "834   11848.1410     11784.670642    63.470358\n",
              "718   10107.2206      9710.447699   396.772901"
            ]
          },
          "execution_count": 79,
          "metadata": {},
          "output_type": "execute_result"
        }
      ],
      "source": [
        "error_pred.head()"
      ]
    },
    {
      "cell_type": "code",
      "execution_count": null,
      "id": "fa4cdf35",
      "metadata": {
        "id": "fa4cdf35"
      },
      "outputs": [],
      "source": [
        ""
      ]
    },
    {
      "cell_type": "code",
      "execution_count": null,
      "id": "6719e1a6",
      "metadata": {
        "id": "6719e1a6"
      },
      "outputs": [],
      "source": [
        "from sklearn.metrics import *"
      ]
    },
    {
      "cell_type": "code",
      "execution_count": null,
      "id": "d4383466",
      "metadata": {
        "id": "d4383466",
        "outputId": "8d9a0bef-524e-4297-cc46-d16eff414ebd"
      },
      "outputs": [
        {
          "data": {
            "text/plain": [
              "array([ 8636.77102077,  5889.89113882, 15510.1550633 ,  4534.92941326,\n",
              "       11476.8923922 ,  4790.24544067,  2226.43019621, 14580.40311236,\n",
              "       18281.06573484,  5779.13917531,  9971.98821711,  8280.80960393,\n",
              "       12273.87781543, 17551.84469934,  2094.5527506 ,  5142.38710765,\n",
              "       12387.39416341,  6423.03514025,  9022.97286232,  5124.91472945,\n",
              "       15186.68881152,  3390.02964114,  7783.52737648, 12373.40805558,\n",
              "        7044.87450697, 12537.01546367,  1984.92004359,  5292.93806287,\n",
              "        5677.81955858,  6669.72484715, 18550.08823456, 12171.85956403,\n",
              "        3015.25403534,  5723.10604429,  1893.90076271,  4878.70389425,\n",
              "       10253.08347321,  6787.55544862,  4519.08995662,  5930.20374603,\n",
              "        8546.66285509,  3020.70144389,  7596.74648983,  4651.49079174,\n",
              "        8319.69579179, 11814.77524627, 18159.61248906,  5380.48245881,\n",
              "       10795.88105082,  9205.23720252, 12884.6309035 ,  2313.04971677,\n",
              "        2290.56603928,  3408.29277407,  3780.09878991,  2099.40617416,\n",
              "        7774.8923554 , 16572.81470144,  4143.23459352,  6053.05097278,\n",
              "        5569.71011744,  8716.73350879,  8234.83637789,  5681.97410613,\n",
              "        5699.5737618 ,  4770.82159175, 11927.81122688,  5397.17031698,\n",
              "       17534.82605449,  8812.51412644,  5373.24830543,  5012.17478074,\n",
              "        3882.40152771,  7181.36016962,  3111.06679719,  4718.52366903,\n",
              "        4320.35928326,  6686.92144072,  3604.48721229,  5772.45098389,\n",
              "        6659.13462957,  5768.47641942,  3883.92749389,  9645.90370009,\n",
              "        5267.24023687,  4945.21051645, 17026.68556367, 16526.06617662,\n",
              "        2549.29212838, 10687.84905458,  5905.70573502,  4655.09804931,\n",
              "       16559.24025181, 10280.21731621, 13817.6417393 ,  5488.24740381,\n",
              "        7257.07725396, 15815.21492028,  5605.15203751,  5752.24381465,\n",
              "        6264.26956146,  1784.61509642,  7312.62305891,  7454.26112858,\n",
              "       15990.14890663,  9479.51730561,  1940.19032561,  7480.1014532 ,\n",
              "        8229.65393954,  4619.47307446,  1210.30190855,  3765.42909331,\n",
              "        4011.57193097, 10823.36248765,  8350.49042153, 10372.49400956,\n",
              "        6075.69435001, 11225.93375184,  6972.84994694,  2358.85164633,\n",
              "       11746.49663299, 16973.16903904, 13331.38636073,  7724.51400549,\n",
              "        5210.12298398,  6201.36983525, 12884.14418984,  5477.55458598,\n",
              "        6369.02203663,  6869.70966749,  2054.75732871,   851.39827065,\n",
              "        4611.2657812 ,  5345.89780969,  7730.67044974,  2449.39475387,\n",
              "        5655.74335425,  3360.12854786,  4649.4610692 , 14611.886319  ,\n",
              "        4572.16232047, 18908.9130088 ,  9362.86995139,  7271.16703403,\n",
              "        5939.95352815,  2145.41414444, 10328.46378815,  5568.83172657,\n",
              "       11056.14491038,  3710.71891449,  7408.67805465,  5798.1333416 ,\n",
              "        5506.01257878, 17001.25666051,  4952.93113504,  5354.39252104,\n",
              "        3963.00678466,  5361.63263751,  4508.81602257,  3966.65066258,\n",
              "        5268.11365099,  3946.41523179,  8616.42122388,  3368.74981196,\n",
              "        9696.60166387,  8330.64525956,  6224.87631281, 15826.14357424,\n",
              "       12820.08943872,  7865.81527451,  3847.76924828, 12221.46512319,\n",
              "       10758.13960629,  5730.41855538,  7779.92107075,  4933.4001285 ,\n",
              "        2725.22831535, 12967.95177012,  5362.75941937,  6082.41273878,\n",
              "        8705.27527543, 10852.50661666,  7666.47110844,  4060.09510697,\n",
              "        5669.24584049,  5164.64131803,  1738.4599449 ,  5037.27048827,\n",
              "       12248.80881772,  5085.40508564,  3678.02056209, 19515.50816507,\n",
              "       10327.37207514,  2253.2676512 ,  2636.01076119,  9348.6173011 ,\n",
              "        4667.8925088 , 20380.94203254,  3032.96459416,  3732.31825103,\n",
              "        4520.27189362,  9778.31015505,  6684.55791736, 15529.48018784,\n",
              "        9307.49991057,  5680.84538239,  6366.48194702,  2839.68443022,\n",
              "        8464.22583537,  8304.09491655,  5768.75822158,  3714.2832512 ,\n",
              "        5032.83022603, 10422.25552683,  5214.21363649,  3669.71455088,\n",
              "        3589.01500214, 10365.84353908,  6407.55948538, 11560.92428155,\n",
              "        7079.21791978,  9801.3968532 ,  1776.33853607, 10876.5838798 ,\n",
              "        3686.83031222, 10318.22568997, 11911.14370655,  2612.42721977,\n",
              "       11090.50909495,  9897.41175267,  7114.67230984,  8771.36827334,\n",
              "        4974.70727491,  9480.20605986, 19769.43173317, 15915.88464657,\n",
              "        3981.02477495,  5472.13089017,  5182.51590747,  6030.01814527,\n",
              "        5451.74530707,  6736.28784837,  7143.92094476,  6146.95574804,\n",
              "        9717.14781621, 14858.29476295,  6030.78824748,  7548.95181422,\n",
              "        9630.57686763,  1858.94071278,  9393.10649099,  8462.873242  ,\n",
              "       13964.05401829,  3431.98173353,  3591.85058262,  3835.53579728,\n",
              "       12799.74017394,  2545.47318121,  5000.2850621 ,  3384.75389764,\n",
              "        4022.90179032,  8024.53471529,  8776.86520058,  8919.58382389,\n",
              "        2326.97346346,  6278.44549406,  3256.75574426,  2057.41650956,\n",
              "       18996.75546982,  8561.59958957,  5791.68239998,  4300.38748497,\n",
              "        5609.36287607, 11167.39312419, 16065.87744404,  9703.96039071,\n",
              "       15799.55554066,  4291.93969004,  3436.83642298, 11674.23917247,\n",
              "        6233.86490724,  3014.29023147,  8204.22438558, 18599.23224873,\n",
              "        1870.71874371,  5493.73980842,  3889.13302182, 11226.70864596,\n",
              "        4388.83887169,  8156.51166474,  7326.55606824,  6172.42209335,\n",
              "        8889.07344836,  8166.58578488,  5622.72045326,  3170.3425667 ,\n",
              "        4809.54915432,  4405.21985131,  6567.84997651,  3020.70159852,\n",
              "        5660.89903682, 18796.34467351,  3554.75989909,  4263.00941845,\n",
              "        5556.29821218,  7135.46661372,  8197.08717082,  4229.27757796,\n",
              "        6848.32245981,  3917.91461468,  7725.05062352,  5719.25886244,\n",
              "        8161.51299334,  4317.724153  , 16185.32250551,  5230.93267824,\n",
              "        7225.23364378,  7110.98676714,  6494.13121646,  5007.51042008,\n",
              "        7564.48260295,  7318.84161494,  6820.92189565,  9236.64096646,\n",
              "        7323.21707671,  5856.63803342,  2662.07544701,  4895.85664327,\n",
              "        7024.1103618 , 18561.00866998, 10798.92721452,  6011.44984945,\n",
              "        5119.89585534, 10110.22884342,  7103.9484663 ,  5057.42103773,\n",
              "        5934.72588065,  9106.40027606,  4088.22778319,  5577.90314697,\n",
              "        5270.26161034, 12119.3422583 ,  8208.48702523,  4535.48790187,\n",
              "        8627.09368793, 10218.0215645 ,  3755.19921687,  3998.32486508,\n",
              "        3709.69741281, 10761.37002008,  5012.10969747,  6539.78477525,\n",
              "        4432.10666725,  5471.22607612, 16413.41995281,  7984.24554082,\n",
              "        7063.46368442,  6585.35145585,  5429.16208006, 10822.56686674,\n",
              "        2223.45937329, 10183.52393939,  4202.71490217,  6556.10293482,\n",
              "        5654.24287134,  4777.38192065,  5584.7932106 ,  7261.06113627,\n",
              "       12353.90441725,  9135.73056083, 10096.01322734, 13328.12931202,\n",
              "        9575.51055988,  4734.6752334 , 17735.21354872,  4570.8237992 ,\n",
              "       10149.63983075,  3259.86077024,  5793.12081869, 13284.85109012,\n",
              "       15428.78754865,  7285.38100938,  2194.37462419,  9347.55665431,\n",
              "        5400.43211109,  4664.96186471,  1836.61783529,  7768.25621885,\n",
              "        8290.74937642,  4676.19898192,  3377.16723476,  5053.88729813,\n",
              "        9505.43633251, 10230.4954423 ,  6055.77217653,  6038.6775126 ,\n",
              "        3819.03263216,  9528.75984652,  9755.1874787 , 10702.0842285 ,\n",
              "        7118.19894532, 11107.90131615,  7158.71848806,  4571.22422374,\n",
              "        7887.94916086,  7361.31491058,  4250.06622628, 14707.58691619,\n",
              "       10138.4593888 ,  6241.16891547, 10117.69341268,  4974.91270653,\n",
              "        5900.12733195,  7983.7792512 ,  5389.45597543,  5309.74582052,\n",
              "       10153.64960224,  8223.64755436,  6407.95587676, 12149.16843281,\n",
              "       12041.2839525 , 13191.72273574,  4842.33426327,  9277.01444513,\n",
              "        9980.95010836,  7544.3309691 ,  5506.1082311 ,  7000.14793212,\n",
              "        2525.03950731, 18903.02235113, 11868.80346328,  5231.55928637,\n",
              "       12294.41175517,  8657.21555335, 10698.52633753,  6005.56736185,\n",
              "        8532.24209729,  8857.8862697 , 10065.68710582,  4707.52746212,\n",
              "        7293.85650974,  8066.85672325,  3006.95258711,  6453.99869424,\n",
              "        7416.92155634,  2323.38038724,  9755.15244068,  3476.25362976,\n",
              "       11715.02175006,  9985.96733823, 17894.03321567,  8467.98637716,\n",
              "        8416.27559431,  6882.62345829,  5867.08329142, 12110.34820151,\n",
              "       12501.67103129,  6301.36975067, 10512.10974217,  4480.15580924,\n",
              "        4269.26092174,  7884.40830168,  6669.70030499,  6009.26353437,\n",
              "        2042.56955412,  5770.02148083, 18043.94558877,  2279.97273116,\n",
              "        9274.46037911,  5621.4357834 ,  5081.48179055, 16656.23001684,\n",
              "        5870.4856444 , 19314.12782066, 10585.43476966,  9811.6649833 ,\n",
              "       10099.47831688,  5357.80496588,  5150.42073895,  7826.23623914,\n",
              "        5196.4210022 , 10340.16099568,  4717.3645297 ,  2833.99284437,\n",
              "        2657.19376088,  9236.69158021, 15674.62229216,  8068.87007185,\n",
              "        7964.04830685,  4657.26984173,  7942.76155281,  4674.88237616,\n",
              "       11319.41247294,  6335.61635067,  9209.83195091,  5387.4915282 ,\n",
              "        7294.98972732,  5124.77136233, 10143.68352519, 13036.05937648,\n",
              "        6154.27116868,  3559.96056271,  9956.8360814 , 18007.58018659,\n",
              "       12072.20841223, 10232.01319437, 12563.04537506, 10682.74012032,\n",
              "        7398.42192683,  5528.67194948,  4715.75797333,  5266.2312084 ,\n",
              "        5265.18595281,  7196.05391317,  5578.15949688,  2673.04903838,\n",
              "       14947.8439856 ,  1729.10540596,  6510.87117275,  5673.51099434,\n",
              "        3541.52458274,  7965.16760585, 10898.80933585, 18001.21955949,\n",
              "        6456.00774586,  4271.67193046,  4992.30520008,  4075.24600446,\n",
              "        8480.344426  , 14303.87724392, 11902.21030643,  9711.82856601,\n",
              "        2229.59642659,  3938.97599487,  7163.45189909, 12030.41289796,\n",
              "        6409.78509481, 10925.75151227,  2790.94319714, 19391.86149583,\n",
              "       10590.35156488,  5338.28534495,  7761.30716944,  2685.0879268 ,\n",
              "        3052.99994578,  5624.82536379,  4335.3347548 ,  2236.613183  ,\n",
              "       15824.35203869,  2408.74951094,  5576.08989204, 10458.54389353,\n",
              "        4675.70689844,  9675.66353466,  4490.45753766,  5091.56875354,\n",
              "        3851.19664221,  5501.15675333,  6570.72766211,  7112.17128242,\n",
              "       10348.52195303,  9409.41174114,  9287.87535509,  9755.86856803,\n",
              "        4390.64349249,  4975.43784176, 11734.04547435,  9261.58623898,\n",
              "        8429.93100081,  9189.51993445, 10284.25444939,  5612.16986712,\n",
              "        7923.97135785,  2241.62813043,  2854.84104496,  8217.06158655,\n",
              "       12822.7547708 , 12308.92196436, 12776.07498825, 10367.14048943,\n",
              "       19593.98434108,  9679.62199681,  6950.2350215 , 13593.12427039,\n",
              "       10278.19813617,  4385.41312142, 10291.74104516,  1153.81384455,\n",
              "        5473.45923166,  7991.21227266,  5932.80660988,  7758.50976479,\n",
              "        2097.43517934,  7007.97266236,  3621.72803688,  4584.03805202,\n",
              "       13886.31849907,  2703.75582685,  7097.4800252 ,  8017.81339382,\n",
              "        4985.04884712, 10113.83349052,  8978.31558957, 10843.20932965,\n",
              "       10268.9387435 ,  7503.29816403,  5398.01914465,  3605.42781192,\n",
              "        4730.59614496,  3477.36915906, 20854.33306466,  5077.44661913,\n",
              "        4839.32350199,  9452.96114235,  7723.58373331,  7584.72258432,\n",
              "        5390.65064057,  4421.1210869 ,  2912.18341718,  2525.11297959,\n",
              "        4200.89350372,  2640.1724442 ,  6405.34154991,  8964.83362198,\n",
              "        7807.59522194,  8153.62870841,  5816.11883   ,  3948.23009778,\n",
              "       11197.22528373,  4755.50333634, 10862.25515556,  8057.4698414 ,\n",
              "        6716.86804321, 11189.56629864,  3276.66204007,  5078.54503205,\n",
              "        7315.14405081,  9827.11927765,  8237.69870443,  5441.71380719,\n",
              "        6802.79061805,  6816.91399947,  4637.93837735,  5017.91390832,\n",
              "        4127.48856227,  5376.55003445, 12818.14364428,  9546.17525599,\n",
              "        3727.19599803,  6384.62723557,  5588.93456656, 15832.38823685,\n",
              "        6984.25811054,  3979.07019047,  4213.36242829, 13949.27815184,\n",
              "       17101.13672938,  6202.83767145,  9822.94947502, 12628.99521726,\n",
              "        5867.11509142,  3169.98916668,  3227.40240133,  6154.07225774,\n",
              "        7466.25026872,  5138.67010923, 12952.99588426,  3409.01748241,\n",
              "        2862.19761542,  9115.24237672,  3454.1473106 , 18805.3041566 ,\n",
              "        5792.42466872,  3189.10592784, 12632.52649991,  6006.32702183,\n",
              "        8335.46260448,  4870.7898049 ,  2753.55851072, 10337.05582046,\n",
              "        6301.23396828,  4184.02946771, 10421.61885088,  7459.11833314,\n",
              "        6028.39665057,  6733.42025476,  2790.30109713,  6775.09054271,\n",
              "        4297.65041084, 13336.13588488,  6736.04834101,  2883.53262134,\n",
              "        5403.72780977,  3199.73425545,  4963.91281738,  7555.76677099,\n",
              "        6721.99760289,  5833.42033207,  3176.32427946, 12302.65589778,\n",
              "        8513.26556533,  7358.97205902,  8523.13802834,  9872.75793172,\n",
              "        6180.77179096,  7318.79333437,  5389.54933418,  2528.81945439,\n",
              "       19431.72522729, 17113.75761586,  1824.38359421,  8193.11733337,\n",
              "        4877.88904555,  8474.74557307, 10045.16509297,  4169.55279923,\n",
              "       12655.63454398,  7344.69629127,  9014.85883796,  3032.36042335,\n",
              "        6514.14025143,  6162.62704568,  8786.44686044,  5407.81018032,\n",
              "        9838.9487578 ,  1955.08889974, 16895.6824728 ,  4532.21504818,\n",
              "       10788.31417469,  4891.57996967,  4266.16800454,  2343.40254751,\n",
              "       15196.82949978,  7438.04463804, 13845.53116195,  8909.69536012,\n",
              "        9437.81883781,  4180.77515856, 10879.5537922 ,  6245.97590207,\n",
              "        4264.87254563,  5422.18429763,  9873.9929433 ,  4662.57993155,\n",
              "       10944.41774238,  3165.52460254,  3165.31353613, 11808.35873547,\n",
              "        5550.83941439,  5093.23509846, 11120.82334668, 17900.45713096,\n",
              "        4837.90691421,  1944.04487436,  5726.97907884,  4159.64417079,\n",
              "        3041.18304224,  6664.22835013,  8164.82756843,  8274.52025594,\n",
              "        5101.82598648, 10279.66762971,  5010.61952998, 13996.5904622 ,\n",
              "       16184.40059925,  2417.55651984, 10633.87290931,  5254.14112345,\n",
              "        3545.0062    ,  9514.01711452,  7574.66040054,  7510.88800631,\n",
              "        7594.68700849,  3651.29450263,  5734.36071823,  9394.27105851,\n",
              "        7908.18271371,  8851.07827511, 10034.83635559,  8395.7955024 ,\n",
              "        4981.89672554, 12731.89409471,  6673.68532751,  5279.01029918,\n",
              "       12403.32279201,  2993.41577758,  8307.48773788, 11425.46641757,\n",
              "       16091.02494432,  5214.35761671, 15986.58803288,  1702.21103087,\n",
              "       10915.11103274,  5463.04829949,  6964.03619506, 12197.33796931,\n",
              "       10092.97661144, 10643.04312004, 14309.85631387,  3931.38168116,\n",
              "       13619.13861967, 12055.41304351,  4731.30114112, 13570.6567764 ,\n",
              "        4649.65954354,  7157.04361058,  9127.5215806 , 18399.08684421,\n",
              "        4165.29880532,  2196.09385317,  9267.67673728,  7421.48644789,\n",
              "        6257.92708532,  6359.98860382,  3727.96515488,  5496.79658252,\n",
              "        4841.04311227,  1771.26440018,  7913.8441316 ,  4107.57814311,\n",
              "        9849.27270658, 11321.91091623,  7374.67841786, 10210.42542272])"
            ]
          },
          "execution_count": 81,
          "metadata": {},
          "output_type": "execute_result"
        }
      ],
      "source": [
        "train_predict=l_model.predict(x_train)\n",
        "train_predict"
      ]
    },
    {
      "cell_type": "code",
      "execution_count": 40,
      "id": "d1521074",
      "metadata": {
        "id": "d1521074"
      },
      "outputs": [],
      "source": [
        ""
      ]
    },
    {
      "cell_type": "code",
      "execution_count": null,
      "id": "6dc34792",
      "metadata": {
        "id": "6dc34792",
        "outputId": "13372767-2c2b-48a3-e3a8-b00921dd11b0"
      },
      "outputs": [
        {
          "data": {
            "text/plain": [
              "0.8436003409637121"
            ]
          },
          "execution_count": 83,
          "metadata": {},
          "output_type": "execute_result"
        }
      ],
      "source": [
        "r2_on_test=r2_score(y_test, predictions)\n",
        "r2_on_test"
      ]
    },
    {
      "cell_type": "code",
      "execution_count": null,
      "id": "0e23c768",
      "metadata": {
        "id": "0e23c768"
      },
      "outputs": [],
      "source": [
        "#insurance.describe()"
      ]
    },
    {
      "cell_type": "code",
      "execution_count": 40,
      "id": "ca19fad4",
      "metadata": {
        "id": "ca19fad4"
      },
      "outputs": [],
      "source": [
        "\n"
      ]
    },
    {
      "cell_type": "code",
      "execution_count": null,
      "id": "1614c936",
      "metadata": {
        "id": "1614c936",
        "outputId": "54d96386-1a8c-413a-8622-47276127e884"
      },
      "outputs": [
        {
          "data": {
            "text/plain": [
              "1651.5763352871088"
            ]
          },
          "execution_count": 86,
          "metadata": {},
          "output_type": "execute_result"
        }
      ],
      "source": [
        "rmse_on_test = mean_squared_error(y_test, predictions, squared=False)\n",
        "rmse_on_test"
      ]
    },
    {
      "cell_type": "code",
      "execution_count": null,
      "id": "84334b68",
      "metadata": {
        "id": "84334b68"
      },
      "outputs": [],
      "source": [
        "from sklearn.metrics import mean_absolute_percentage_error"
      ]
    },
    {
      "cell_type": "code",
      "execution_count": 40,
      "id": "517157fa",
      "metadata": {
        "id": "517157fa"
      },
      "outputs": [],
      "source": [
        ""
      ]
    },
    {
      "cell_type": "code",
      "execution_count": null,
      "id": "f58e65f8",
      "metadata": {
        "id": "f58e65f8",
        "outputId": "d5a80f93-758e-413d-98e4-e7be9daaa15c"
      },
      "outputs": [
        {
          "data": {
            "text/plain": [
              "0.2815743939321439"
            ]
          },
          "execution_count": 89,
          "metadata": {},
          "output_type": "execute_result"
        }
      ],
      "source": [
        "mape_on_test=mean_absolute_percentage_error(y_test, predictions)\n",
        "mape_on_test"
      ]
    },
    {
      "cell_type": "code",
      "execution_count": null,
      "id": "6ecc0e8f",
      "metadata": {
        "id": "6ecc0e8f"
      },
      "outputs": [],
      "source": [
        ""
      ]
    },
    {
      "cell_type": "code",
      "execution_count": null,
      "id": "7508330b",
      "metadata": {
        "id": "7508330b"
      },
      "outputs": [],
      "source": [
        ""
      ]
    }
  ],
  "metadata": {
    "kernelspec": {
      "display_name": "Python 3",
      "language": "python",
      "name": "python3"
    },
    "language_info": {
      "codemirror_mode": {
        "name": "ipython",
        "version": 3
      },
      "file_extension": ".py",
      "mimetype": "text/x-python",
      "name": "python",
      "nbconvert_exporter": "python",
      "pygments_lexer": "ipython3",
      "version": "3.8.8"
    },
    "colab": {
      "name": "Linear Regression new case study-Nia.ipynb",
      "provenance": []
    }
  },
  "nbformat": 4,
  "nbformat_minor": 5
}